{
 "cells": [
  {
   "cell_type": "markdown",
   "id": "cb3c5851",
   "metadata": {},
   "source": [
    "# PyMC and Universal Samplers"
   ]
  },
  {
   "cell_type": "markdown",
   "id": "b44c33c2",
   "metadata": {},
   "source": [
    "## Part A: `import pymc`"
   ]
  },
  {
   "cell_type": "code",
   "execution_count": 1,
   "id": "119069bd",
   "metadata": {},
   "outputs": [
    {
     "name": "stderr",
     "output_type": "stream",
     "text": [
      "WARNING (pytensor.tensor.blas): Using NumPy C-API based implementation for BLAS functions.\n"
     ]
    }
   ],
   "source": [
    "import pymc"
   ]
  },
  {
   "cell_type": "markdown",
   "id": "7cb3f267",
   "metadata": {},
   "source": [
    "- [Introductory Overview of PyMC](https://www.pymc.io/projects/docs/en/latest/learn/core_notebooks/pymc_overview.html)\n",
    "- [Example Gallary](https://www.pymc.io/projects/examples/en/latest/gallery.html)"
   ]
  },
  {
   "cell_type": "code",
   "execution_count": 2,
   "id": "99eb4b23",
   "metadata": {},
   "outputs": [
    {
     "name": "stdout",
     "output_type": "stream",
     "text": [
      "Running on PyMC v5.16.1\n"
     ]
    }
   ],
   "source": [
    "print(f\"Running on PyMC v{pymc.__version__}\")"
   ]
  },
  {
   "cell_type": "code",
   "execution_count": 3,
   "id": "8ba0a792",
   "metadata": {},
   "outputs": [],
   "source": [
    "from scipy import stats\n",
    "import matplotlib.pyplot as plt\n",
    "import numpy as np"
   ]
  },
  {
   "cell_type": "code",
   "execution_count": 4,
   "id": "b0383bb6",
   "metadata": {},
   "outputs": [
    {
     "data": {
      "image/png": "[encoded data removed]",
      "text/plain": [
       "<Figure size 640x480 with 1 Axes>"
      ]
     },
     "metadata": {},
     "output_type": "display_data"
    }
   ],
   "source": [
    "n = 100\n",
    "true_theta, true_tau = 0,1\n",
    "data_generating_mechanism = \\\n",
    "stats.norm(loc=true_theta, scale=true_tau**(-0.5))\n",
    "\n",
    "x = data_generating_mechanism.rvs(size=n)\n",
    "plt.hist(x, density=True)\n",
    "x_grid = np.linspace(-5*true_tau**(-0.5),5*true_tau**(-0.5),1000)\n",
    "plt.plot(x_grid,data_generating_mechanism.pdf(x_grid));\n"
   ]
  },
  {
   "cell_type": "code",
   "execution_count": 5,
   "id": "b4c46236",
   "metadata": {},
   "outputs": [],
   "source": [
    "conjugate_normal_gamma = pymc.Model()\n",
    "\n",
    "with conjugate_normal_gamma:\n",
    "\n",
    "    # Priors for unknown model parameters\n",
    "    \n",
    "    theta0 = 0  # prior belief regarding true_theta\n",
    "    theta_prior_n = 1  # strength of prior belief as units of data\n",
    "    # theta_prior_n = tau0/true_tau\n",
    "    tau0 = theta_prior_n*true_tau  \n",
    "    theta = pymc.Normal(\"theta\", mu=theta0, sigma=tau0**(-0.5))\n",
    "    # Compared to scipy.stats\n",
    "    # loc -> mu\n",
    "    # scale -> sigma but you can also use tau as below...\n",
    "    \n",
    "    tau_SS_prior = 1  # prior belief regarding true_sum_of_squares\n",
    "    tau_prior_n = 1  # strength of prior belief as units of data\n",
    "    tau = pymc.Gamma(\"tau\", alpha=tau_prior_n/2, \n",
    "                            beta=tau_SS_prior/2)\n",
    "    # https://en.wikipedia.org/wiki/Gamma_distribution\n",
    "    # pymc.Gamma?\n",
    "    # Now it's **rate** (beta) NOT scale\n",
    "\n",
    "    # Likelihood (sampling distribution) of observations\n",
    "    x_obs = pymc.Normal(\"x_obs\", mu=theta, tau=tau, observed=x)"
   ]
  },
  {
   "cell_type": "code",
   "execution_count": 6,
   "id": "5370d9c5",
   "metadata": {},
   "outputs": [
    {
     "name": "stdout",
     "output_type": "stream",
     "text": [
      "\n",
      "You can find the C code in this temporary file: /var/folders/vd/j_d7xxb56hg064_h1h3mkqt80000gn/T/pytensor_compilation_error_94fcq5zt\n"
     ]
    },
    {
     "ename": "CompileError",
     "evalue": "Compilation failed (return status=1):\n/opt/homebrew/Caskroom/miniconda/base/envs/personal/bin/clang++ -dynamiclib -g -Wno-c++11-narrowing -fno-exceptions -fno-unwind-tables -fno-asynchronous-unwind-tables -DNPY_NO_DEPRECATED_API=NPY_1_7_API_VERSION -fPIC -undefined dynamic_lookup -I/opt/homebrew/Caskroom/miniconda/base/envs/personal/lib/python3.12/site-packages/numpy/core/include -I/opt/homebrew/Caskroom/miniconda/base/envs/personal/include/python3.12 -I/opt/homebrew/Caskroom/miniconda/base/envs/personal/lib/python3.12/site-packages/pytensor/link/c/c_code -L/opt/homebrew/Caskroom/miniconda/base/envs/personal/lib -fvisibility=hidden -o /Users/jpark/.pytensor/compiledir_macOS-15.1.1-arm64-arm-64bit-arm-3.12.4-64/lazylinker_ext/lazylinker_ext.so /Users/jpark/.pytensor/compiledir_macOS-15.1.1-arm64-arm-64bit-arm-3.12.4-64/lazylinker_ext/mod.cpp\nIn file included from /Users/jpark/.pytensor/compiledir_macOS-15.1.1-arm64-arm-64bit-arm-3.12.4-64/lazylinker_ext/mod.cpp:1:\nIn file included from /opt/homebrew/Caskroom/miniconda/base/envs/personal/lib/python3.12/site-packages/pytensor/link/c/c_code/pytensor_mod_helper.h:4:\nIn file included from /opt/homebrew/Caskroom/miniconda/base/envs/personal/include/python3.12/Python.h:23:\n/opt/homebrew/Caskroom/miniconda/base/envs/personal/bin/../include/c++/v1/stdlib.h:93:15: fatal error: 'stdlib.h' file not found\n#include_next <stdlib.h>\n              ^~~~~~~~~~\n1 error generated.\n",
     "output_type": "error",
     "traceback": [
      "\u001b[0;31m---------------------------------------------------------------------------\u001b[0m",
      "\u001b[0;31mImportError\u001b[0m                               Traceback (most recent call last)",
      "File \u001b[0;32m/opt/homebrew/Caskroom/miniconda/base/envs/personal/lib/python3.12/site-packages/pytensor/link/c/lazylinker_c.py:78\u001b[0m\n\u001b[1;32m     77\u001b[0m         \u001b[38;5;28;01mif\u001b[39;00m version \u001b[38;5;241m!=\u001b[39m actual_version:\n\u001b[0;32m---> 78\u001b[0m             \u001b[38;5;28;01mraise\u001b[39;00m \u001b[38;5;167;01mImportError\u001b[39;00m(\n\u001b[1;32m     79\u001b[0m                 \u001b[38;5;124m\"\u001b[39m\u001b[38;5;124mVersion check of the existing lazylinker compiled file.\u001b[39m\u001b[38;5;124m\"\u001b[39m\n\u001b[1;32m     80\u001b[0m                 \u001b[38;5;124mf\u001b[39m\u001b[38;5;124m\"\u001b[39m\u001b[38;5;124m Looking for version \u001b[39m\u001b[38;5;132;01m{\u001b[39;00mversion\u001b[38;5;132;01m}\u001b[39;00m\u001b[38;5;124m, but found \u001b[39m\u001b[38;5;132;01m{\u001b[39;00mactual_version\u001b[38;5;132;01m}\u001b[39;00m\u001b[38;5;124m. \u001b[39m\u001b[38;5;124m\"\u001b[39m\n\u001b[1;32m     81\u001b[0m                 \u001b[38;5;124mf\u001b[39m\u001b[38;5;124m\"\u001b[39m\u001b[38;5;124mExtra debug information: force_compile=\u001b[39m\u001b[38;5;132;01m{\u001b[39;00mforce_compile\u001b[38;5;132;01m}\u001b[39;00m\u001b[38;5;124m, _need_reload=\u001b[39m\u001b[38;5;132;01m{\u001b[39;00m_need_reload\u001b[38;5;132;01m}\u001b[39;00m\u001b[38;5;124m\"\u001b[39m\n\u001b[1;32m     82\u001b[0m             )\n\u001b[1;32m     83\u001b[0m \u001b[38;5;28;01mexcept\u001b[39;00m \u001b[38;5;167;01mImportError\u001b[39;00m:\n",
      "\u001b[0;31mImportError\u001b[0m: Version check of the existing lazylinker compiled file. Looking for version 0.212, but found None. Extra debug information: force_compile=False, _need_reload=True",
      "\nDuring handling of the above exception, another exception occurred:\n",
      "\u001b[0;31mImportError\u001b[0m                               Traceback (most recent call last)",
      "File \u001b[0;32m/opt/homebrew/Caskroom/miniconda/base/envs/personal/lib/python3.12/site-packages/pytensor/link/c/lazylinker_c.py:99\u001b[0m\n\u001b[1;32m     98\u001b[0m     \u001b[38;5;28;01mif\u001b[39;00m version \u001b[38;5;241m!=\u001b[39m actual_version:\n\u001b[0;32m---> 99\u001b[0m         \u001b[38;5;28;01mraise\u001b[39;00m \u001b[38;5;167;01mImportError\u001b[39;00m(\n\u001b[1;32m    100\u001b[0m             \u001b[38;5;124m\"\u001b[39m\u001b[38;5;124mVersion check of the existing lazylinker compiled file.\u001b[39m\u001b[38;5;124m\"\u001b[39m\n\u001b[1;32m    101\u001b[0m             \u001b[38;5;124mf\u001b[39m\u001b[38;5;124m\"\u001b[39m\u001b[38;5;124m Looking for version \u001b[39m\u001b[38;5;132;01m{\u001b[39;00mversion\u001b[38;5;132;01m}\u001b[39;00m\u001b[38;5;124m, but found \u001b[39m\u001b[38;5;132;01m{\u001b[39;00mactual_version\u001b[38;5;132;01m}\u001b[39;00m\u001b[38;5;124m. \u001b[39m\u001b[38;5;124m\"\u001b[39m\n\u001b[1;32m    102\u001b[0m             \u001b[38;5;124mf\u001b[39m\u001b[38;5;124m\"\u001b[39m\u001b[38;5;124mExtra debug information: force_compile=\u001b[39m\u001b[38;5;132;01m{\u001b[39;00mforce_compile\u001b[38;5;132;01m}\u001b[39;00m\u001b[38;5;124m, _need_reload=\u001b[39m\u001b[38;5;132;01m{\u001b[39;00m_need_reload\u001b[38;5;132;01m}\u001b[39;00m\u001b[38;5;124m\"\u001b[39m\n\u001b[1;32m    103\u001b[0m         )\n\u001b[1;32m    104\u001b[0m \u001b[38;5;28;01mexcept\u001b[39;00m \u001b[38;5;167;01mImportError\u001b[39;00m:\n\u001b[1;32m    105\u001b[0m     \u001b[38;5;66;03m# It is useless to try to compile if there isn't any\u001b[39;00m\n\u001b[1;32m    106\u001b[0m     \u001b[38;5;66;03m# compiler!  But we still want to try to load it, in case\u001b[39;00m\n\u001b[1;32m    107\u001b[0m     \u001b[38;5;66;03m# the cache was copied from another computer.\u001b[39;00m\n",
      "\u001b[0;31mImportError\u001b[0m: Version check of the existing lazylinker compiled file. Looking for version 0.212, but found None. Extra debug information: force_compile=False, _need_reload=True",
      "\nDuring handling of the above exception, another exception occurred:\n",
      "\u001b[0;31mCompileError\u001b[0m                              Traceback (most recent call last)",
      "Cell \u001b[0;32mIn[6], line 1\u001b[0m\n\u001b[0;32m----> 1\u001b[0m pymc\u001b[38;5;241m.\u001b[39mmodel_to_graphviz(conjugate_normal_gamma)\n",
      "File \u001b[0;32m/opt/homebrew/Caskroom/miniconda/base/envs/personal/lib/python3.12/site-packages/pymc/model_graph.py:642\u001b[0m, in \u001b[0;36mmodel_to_graphviz\u001b[0;34m(model, var_names, formatting, save, figsize, dpi, node_formatters)\u001b[0m\n\u001b[1;32m    636\u001b[0m     warnings\u001b[38;5;241m.\u001b[39mwarn(\n\u001b[1;32m    637\u001b[0m         \u001b[38;5;124m\"\u001b[39m\u001b[38;5;124mFormattings other than \u001b[39m\u001b[38;5;124m'\u001b[39m\u001b[38;5;124mplain\u001b[39m\u001b[38;5;124m'\u001b[39m\u001b[38;5;124m are currently not supported.\u001b[39m\u001b[38;5;124m\"\u001b[39m,\n\u001b[1;32m    638\u001b[0m         \u001b[38;5;167;01mUserWarning\u001b[39;00m,\n\u001b[1;32m    639\u001b[0m         stacklevel\u001b[38;5;241m=\u001b[39m\u001b[38;5;241m2\u001b[39m,\n\u001b[1;32m    640\u001b[0m     )\n\u001b[1;32m    641\u001b[0m model \u001b[38;5;241m=\u001b[39m pm\u001b[38;5;241m.\u001b[39mmodelcontext(model)\n\u001b[0;32m--> 642\u001b[0m \u001b[38;5;28;01mreturn\u001b[39;00m ModelGraph(model)\u001b[38;5;241m.\u001b[39mmake_graph(\n\u001b[1;32m    643\u001b[0m     var_names\u001b[38;5;241m=\u001b[39mvar_names,\n\u001b[1;32m    644\u001b[0m     formatting\u001b[38;5;241m=\u001b[39mformatting,\n\u001b[1;32m    645\u001b[0m     save\u001b[38;5;241m=\u001b[39msave,\n\u001b[1;32m    646\u001b[0m     figsize\u001b[38;5;241m=\u001b[39mfigsize,\n\u001b[1;32m    647\u001b[0m     dpi\u001b[38;5;241m=\u001b[39mdpi,\n\u001b[1;32m    648\u001b[0m     node_formatters\u001b[38;5;241m=\u001b[39mnode_formatters,\n\u001b[1;32m    649\u001b[0m )\n",
      "File \u001b[0;32m/opt/homebrew/Caskroom/miniconda/base/envs/personal/lib/python3.12/site-packages/pymc/model_graph.py:360\u001b[0m, in \u001b[0;36mModelGraph.make_graph\u001b[0;34m(self, var_names, formatting, save, figsize, dpi, node_formatters)\u001b[0m\n\u001b[1;32m    357\u001b[0m node_formatters \u001b[38;5;241m=\u001b[39m update_node_formatters(node_formatters)\n\u001b[1;32m    359\u001b[0m graph \u001b[38;5;241m=\u001b[39m graphviz\u001b[38;5;241m.\u001b[39mDigraph(\u001b[38;5;28mself\u001b[39m\u001b[38;5;241m.\u001b[39mmodel\u001b[38;5;241m.\u001b[39mname)\n\u001b[0;32m--> 360\u001b[0m \u001b[38;5;28;01mfor\u001b[39;00m plate_label, all_var_names \u001b[38;5;129;01min\u001b[39;00m \u001b[38;5;28mself\u001b[39m\u001b[38;5;241m.\u001b[39mget_plates(var_names)\u001b[38;5;241m.\u001b[39mitems():\n\u001b[1;32m    361\u001b[0m     \u001b[38;5;28;01mif\u001b[39;00m plate_label:\n\u001b[1;32m    362\u001b[0m         \u001b[38;5;66;03m# must be preceded by 'cluster' to get a box around it\u001b[39;00m\n\u001b[1;32m    363\u001b[0m         \u001b[38;5;28;01mwith\u001b[39;00m graph\u001b[38;5;241m.\u001b[39msubgraph(name\u001b[38;5;241m=\u001b[39m\u001b[38;5;124m\"\u001b[39m\u001b[38;5;124mcluster\u001b[39m\u001b[38;5;124m\"\u001b[39m \u001b[38;5;241m+\u001b[39m plate_label) \u001b[38;5;28;01mas\u001b[39;00m sub:\n",
      "File \u001b[0;32m/opt/homebrew/Caskroom/miniconda/base/envs/personal/lib/python3.12/site-packages/pymc/model_graph.py:311\u001b[0m, in \u001b[0;36mModelGraph.get_plates\u001b[0;34m(self, var_names)\u001b[0m\n\u001b[1;32m    309\u001b[0m \u001b[38;5;28;01mfor\u001b[39;00m var_name \u001b[38;5;129;01min\u001b[39;00m \u001b[38;5;28mself\u001b[39m\u001b[38;5;241m.\u001b[39mvars_to_plot(var_names):\n\u001b[1;32m    310\u001b[0m     v \u001b[38;5;241m=\u001b[39m \u001b[38;5;28mself\u001b[39m\u001b[38;5;241m.\u001b[39mmodel[var_name]\n\u001b[0;32m--> 311\u001b[0m     shape: Sequence[\u001b[38;5;28mint\u001b[39m] \u001b[38;5;241m=\u001b[39m fast_eval(v\u001b[38;5;241m.\u001b[39mshape)\n\u001b[1;32m    312\u001b[0m     dim_labels \u001b[38;5;241m=\u001b[39m []\n\u001b[1;32m    313\u001b[0m     \u001b[38;5;28;01mif\u001b[39;00m var_name \u001b[38;5;129;01min\u001b[39;00m \u001b[38;5;28mself\u001b[39m\u001b[38;5;241m.\u001b[39mmodel\u001b[38;5;241m.\u001b[39mnamed_vars_to_dims:\n\u001b[1;32m    314\u001b[0m         \u001b[38;5;66;03m# The RV is associated with `dims` information.\u001b[39;00m\n",
      "File \u001b[0;32m/opt/homebrew/Caskroom/miniconda/base/envs/personal/lib/python3.12/site-packages/pymc/model_graph.py:43\u001b[0m, in \u001b[0;36mfast_eval\u001b[0;34m(var)\u001b[0m\n\u001b[1;32m     42\u001b[0m \u001b[38;5;28;01mdef\u001b[39;00m \u001b[38;5;21mfast_eval\u001b[39m(var):\n\u001b[0;32m---> 43\u001b[0m     \u001b[38;5;28;01mreturn\u001b[39;00m function([], var, mode\u001b[38;5;241m=\u001b[39m\u001b[38;5;124m\"\u001b[39m\u001b[38;5;124mFAST_COMPILE\u001b[39m\u001b[38;5;124m\"\u001b[39m)()\n",
      "File \u001b[0;32m/opt/homebrew/Caskroom/miniconda/base/envs/personal/lib/python3.12/site-packages/pytensor/compile/function/__init__.py:315\u001b[0m, in \u001b[0;36mfunction\u001b[0;34m(inputs, outputs, mode, updates, givens, no_default_updates, accept_inplace, name, rebuild_strict, allow_input_downcast, profile, on_unused_input)\u001b[0m\n\u001b[1;32m    309\u001b[0m     fn \u001b[38;5;241m=\u001b[39m orig_function(\n\u001b[1;32m    310\u001b[0m         inputs, outputs, mode\u001b[38;5;241m=\u001b[39mmode, accept_inplace\u001b[38;5;241m=\u001b[39maccept_inplace, name\u001b[38;5;241m=\u001b[39mname\n\u001b[1;32m    311\u001b[0m     )\n\u001b[1;32m    312\u001b[0m \u001b[38;5;28;01melse\u001b[39;00m:\n\u001b[1;32m    313\u001b[0m     \u001b[38;5;66;03m# note: pfunc will also call orig_function -- orig_function is\u001b[39;00m\n\u001b[1;32m    314\u001b[0m     \u001b[38;5;66;03m#      a choke point that all compilation must pass through\u001b[39;00m\n\u001b[0;32m--> 315\u001b[0m     fn \u001b[38;5;241m=\u001b[39m pfunc(\n\u001b[1;32m    316\u001b[0m         params\u001b[38;5;241m=\u001b[39minputs,\n\u001b[1;32m    317\u001b[0m         outputs\u001b[38;5;241m=\u001b[39moutputs,\n\u001b[1;32m    318\u001b[0m         mode\u001b[38;5;241m=\u001b[39mmode,\n\u001b[1;32m    319\u001b[0m         updates\u001b[38;5;241m=\u001b[39mupdates,\n\u001b[1;32m    320\u001b[0m         givens\u001b[38;5;241m=\u001b[39mgivens,\n\u001b[1;32m    321\u001b[0m         no_default_updates\u001b[38;5;241m=\u001b[39mno_default_updates,\n\u001b[1;32m    322\u001b[0m         accept_inplace\u001b[38;5;241m=\u001b[39maccept_inplace,\n\u001b[1;32m    323\u001b[0m         name\u001b[38;5;241m=\u001b[39mname,\n\u001b[1;32m    324\u001b[0m         rebuild_strict\u001b[38;5;241m=\u001b[39mrebuild_strict,\n\u001b[1;32m    325\u001b[0m         allow_input_downcast\u001b[38;5;241m=\u001b[39mallow_input_downcast,\n\u001b[1;32m    326\u001b[0m         on_unused_input\u001b[38;5;241m=\u001b[39mon_unused_input,\n\u001b[1;32m    327\u001b[0m         profile\u001b[38;5;241m=\u001b[39mprofile,\n\u001b[1;32m    328\u001b[0m         output_keys\u001b[38;5;241m=\u001b[39moutput_keys,\n\u001b[1;32m    329\u001b[0m     )\n\u001b[1;32m    330\u001b[0m \u001b[38;5;28;01mreturn\u001b[39;00m fn\n",
      "File \u001b[0;32m/opt/homebrew/Caskroom/miniconda/base/envs/personal/lib/python3.12/site-packages/pytensor/compile/function/pfunc.py:465\u001b[0m, in \u001b[0;36mpfunc\u001b[0;34m(params, outputs, mode, updates, givens, no_default_updates, accept_inplace, name, rebuild_strict, allow_input_downcast, profile, on_unused_input, output_keys, fgraph)\u001b[0m\n\u001b[1;32m    451\u001b[0m     profile \u001b[38;5;241m=\u001b[39m ProfileStats(message\u001b[38;5;241m=\u001b[39mprofile)\n\u001b[1;32m    453\u001b[0m inputs, cloned_outputs \u001b[38;5;241m=\u001b[39m construct_pfunc_ins_and_outs(\n\u001b[1;32m    454\u001b[0m     params,\n\u001b[1;32m    455\u001b[0m     outputs,\n\u001b[0;32m   (...)\u001b[0m\n\u001b[1;32m    462\u001b[0m     fgraph\u001b[38;5;241m=\u001b[39mfgraph,\n\u001b[1;32m    463\u001b[0m )\n\u001b[0;32m--> 465\u001b[0m \u001b[38;5;28;01mreturn\u001b[39;00m orig_function(\n\u001b[1;32m    466\u001b[0m     inputs,\n\u001b[1;32m    467\u001b[0m     cloned_outputs,\n\u001b[1;32m    468\u001b[0m     mode,\n\u001b[1;32m    469\u001b[0m     accept_inplace\u001b[38;5;241m=\u001b[39maccept_inplace,\n\u001b[1;32m    470\u001b[0m     name\u001b[38;5;241m=\u001b[39mname,\n\u001b[1;32m    471\u001b[0m     profile\u001b[38;5;241m=\u001b[39mprofile,\n\u001b[1;32m    472\u001b[0m     on_unused_input\u001b[38;5;241m=\u001b[39mon_unused_input,\n\u001b[1;32m    473\u001b[0m     output_keys\u001b[38;5;241m=\u001b[39moutput_keys,\n\u001b[1;32m    474\u001b[0m     fgraph\u001b[38;5;241m=\u001b[39mfgraph,\n\u001b[1;32m    475\u001b[0m )\n",
      "File \u001b[0;32m/opt/homebrew/Caskroom/miniconda/base/envs/personal/lib/python3.12/site-packages/pytensor/compile/function/types.py:1762\u001b[0m, in \u001b[0;36morig_function\u001b[0;34m(inputs, outputs, mode, accept_inplace, name, profile, on_unused_input, output_keys, fgraph)\u001b[0m\n\u001b[1;32m   1750\u001b[0m     m \u001b[38;5;241m=\u001b[39m Maker(\n\u001b[1;32m   1751\u001b[0m         inputs,\n\u001b[1;32m   1752\u001b[0m         outputs,\n\u001b[0;32m   (...)\u001b[0m\n\u001b[1;32m   1759\u001b[0m         fgraph\u001b[38;5;241m=\u001b[39mfgraph,\n\u001b[1;32m   1760\u001b[0m     )\n\u001b[1;32m   1761\u001b[0m     \u001b[38;5;28;01mwith\u001b[39;00m config\u001b[38;5;241m.\u001b[39mchange_flags(compute_test_value\u001b[38;5;241m=\u001b[39m\u001b[38;5;124m\"\u001b[39m\u001b[38;5;124moff\u001b[39m\u001b[38;5;124m\"\u001b[39m):\n\u001b[0;32m-> 1762\u001b[0m         fn \u001b[38;5;241m=\u001b[39m m\u001b[38;5;241m.\u001b[39mcreate(defaults)\n\u001b[1;32m   1763\u001b[0m \u001b[38;5;28;01mfinally\u001b[39;00m:\n\u001b[1;32m   1764\u001b[0m     \u001b[38;5;28;01mif\u001b[39;00m profile \u001b[38;5;129;01mand\u001b[39;00m fn:\n",
      "File \u001b[0;32m/opt/homebrew/Caskroom/miniconda/base/envs/personal/lib/python3.12/site-packages/pytensor/compile/function/types.py:1654\u001b[0m, in \u001b[0;36mFunctionMaker.create\u001b[0;34m(self, input_storage, storage_map)\u001b[0m\n\u001b[1;32m   1651\u001b[0m start_import_time \u001b[38;5;241m=\u001b[39m pytensor\u001b[38;5;241m.\u001b[39mlink\u001b[38;5;241m.\u001b[39mc\u001b[38;5;241m.\u001b[39mcmodule\u001b[38;5;241m.\u001b[39mimport_time\n\u001b[1;32m   1653\u001b[0m \u001b[38;5;28;01mwith\u001b[39;00m config\u001b[38;5;241m.\u001b[39mchange_flags(traceback__limit\u001b[38;5;241m=\u001b[39mconfig\u001b[38;5;241m.\u001b[39mtraceback__compile_limit):\n\u001b[0;32m-> 1654\u001b[0m     _fn, _i, _o \u001b[38;5;241m=\u001b[39m \u001b[38;5;28mself\u001b[39m\u001b[38;5;241m.\u001b[39mlinker\u001b[38;5;241m.\u001b[39mmake_thunk(\n\u001b[1;32m   1655\u001b[0m         input_storage\u001b[38;5;241m=\u001b[39minput_storage_lists, storage_map\u001b[38;5;241m=\u001b[39mstorage_map\n\u001b[1;32m   1656\u001b[0m     )\n\u001b[1;32m   1658\u001b[0m end_linker \u001b[38;5;241m=\u001b[39m time\u001b[38;5;241m.\u001b[39mperf_counter()\n\u001b[1;32m   1660\u001b[0m linker_time \u001b[38;5;241m=\u001b[39m end_linker \u001b[38;5;241m-\u001b[39m start_linker\n",
      "File \u001b[0;32m/opt/homebrew/Caskroom/miniconda/base/envs/personal/lib/python3.12/site-packages/pytensor/link/basic.py:245\u001b[0m, in \u001b[0;36mLocalLinker.make_thunk\u001b[0;34m(self, input_storage, output_storage, storage_map, **kwargs)\u001b[0m\n\u001b[1;32m    238\u001b[0m \u001b[38;5;28;01mdef\u001b[39;00m \u001b[38;5;21mmake_thunk\u001b[39m(\n\u001b[1;32m    239\u001b[0m     \u001b[38;5;28mself\u001b[39m,\n\u001b[1;32m    240\u001b[0m     input_storage: Optional[\u001b[38;5;124m\"\u001b[39m\u001b[38;5;124mInputStorageType\u001b[39m\u001b[38;5;124m\"\u001b[39m] \u001b[38;5;241m=\u001b[39m \u001b[38;5;28;01mNone\u001b[39;00m,\n\u001b[0;32m   (...)\u001b[0m\n\u001b[1;32m    243\u001b[0m     \u001b[38;5;241m*\u001b[39m\u001b[38;5;241m*\u001b[39mkwargs,\n\u001b[1;32m    244\u001b[0m ) \u001b[38;5;241m-\u001b[39m\u001b[38;5;241m>\u001b[39m \u001b[38;5;28mtuple\u001b[39m[\u001b[38;5;124m\"\u001b[39m\u001b[38;5;124mBasicThunkType\u001b[39m\u001b[38;5;124m\"\u001b[39m, \u001b[38;5;124m\"\u001b[39m\u001b[38;5;124mInputStorageType\u001b[39m\u001b[38;5;124m\"\u001b[39m, \u001b[38;5;124m\"\u001b[39m\u001b[38;5;124mOutputStorageType\u001b[39m\u001b[38;5;124m\"\u001b[39m]:\n\u001b[0;32m--> 245\u001b[0m     \u001b[38;5;28;01mreturn\u001b[39;00m \u001b[38;5;28mself\u001b[39m\u001b[38;5;241m.\u001b[39mmake_all(\n\u001b[1;32m    246\u001b[0m         input_storage\u001b[38;5;241m=\u001b[39minput_storage,\n\u001b[1;32m    247\u001b[0m         output_storage\u001b[38;5;241m=\u001b[39moutput_storage,\n\u001b[1;32m    248\u001b[0m         storage_map\u001b[38;5;241m=\u001b[39mstorage_map,\n\u001b[1;32m    249\u001b[0m     )[:\u001b[38;5;241m3\u001b[39m]\n",
      "File \u001b[0;32m/opt/homebrew/Caskroom/miniconda/base/envs/personal/lib/python3.12/site-packages/pytensor/link/vm.py:1290\u001b[0m, in \u001b[0;36mVMLinker.make_all\u001b[0;34m(self, profiler, input_storage, output_storage, storage_map)\u001b[0m\n\u001b[1;32m   1287\u001b[0m \u001b[38;5;28;01melse\u001b[39;00m:\n\u001b[1;32m   1288\u001b[0m     post_thunk_clear \u001b[38;5;241m=\u001b[39m \u001b[38;5;28;01mNone\u001b[39;00m\n\u001b[0;32m-> 1290\u001b[0m vm \u001b[38;5;241m=\u001b[39m \u001b[38;5;28mself\u001b[39m\u001b[38;5;241m.\u001b[39mmake_vm(\n\u001b[1;32m   1291\u001b[0m     order,\n\u001b[1;32m   1292\u001b[0m     thunks,\n\u001b[1;32m   1293\u001b[0m     input_storage,\n\u001b[1;32m   1294\u001b[0m     output_storage,\n\u001b[1;32m   1295\u001b[0m     storage_map,\n\u001b[1;32m   1296\u001b[0m     post_thunk_clear,\n\u001b[1;32m   1297\u001b[0m     computed,\n\u001b[1;32m   1298\u001b[0m     compute_map,\n\u001b[1;32m   1299\u001b[0m     \u001b[38;5;28mself\u001b[39m\u001b[38;5;241m.\u001b[39mupdated_vars,\n\u001b[1;32m   1300\u001b[0m )\n\u001b[1;32m   1302\u001b[0m vm\u001b[38;5;241m.\u001b[39mstorage_map \u001b[38;5;241m=\u001b[39m storage_map\n\u001b[1;32m   1303\u001b[0m vm\u001b[38;5;241m.\u001b[39mcompute_map \u001b[38;5;241m=\u001b[39m compute_map\n",
      "File \u001b[0;32m/opt/homebrew/Caskroom/miniconda/base/envs/personal/lib/python3.12/site-packages/pytensor/link/vm.py:1013\u001b[0m, in \u001b[0;36mVMLinker.make_vm\u001b[0;34m(self, nodes, thunks, input_storage, output_storage, storage_map, post_thunk_clear, computed, compute_map, updated_vars)\u001b[0m\n\u001b[1;32m   1010\u001b[0m pre_call_clear \u001b[38;5;241m=\u001b[39m [storage_map[v] \u001b[38;5;28;01mfor\u001b[39;00m v \u001b[38;5;129;01min\u001b[39;00m \u001b[38;5;28mself\u001b[39m\u001b[38;5;241m.\u001b[39mno_recycling]\n\u001b[1;32m   1012\u001b[0m \u001b[38;5;28;01mtry\u001b[39;00m:\n\u001b[0;32m-> 1013\u001b[0m     \u001b[38;5;28;01mfrom\u001b[39;00m \u001b[38;5;21;01mpytensor\u001b[39;00m\u001b[38;5;21;01m.\u001b[39;00m\u001b[38;5;21;01mlink\u001b[39;00m\u001b[38;5;21;01m.\u001b[39;00m\u001b[38;5;21;01mc\u001b[39;00m\u001b[38;5;21;01m.\u001b[39;00m\u001b[38;5;21;01mcvm\u001b[39;00m \u001b[38;5;28;01mimport\u001b[39;00m CVM\n\u001b[1;32m   1014\u001b[0m \u001b[38;5;28;01mexcept\u001b[39;00m (MissingGXX, \u001b[38;5;167;01mImportError\u001b[39;00m):\n\u001b[1;32m   1015\u001b[0m     CVM \u001b[38;5;241m=\u001b[39m \u001b[38;5;28;01mNone\u001b[39;00m\n",
      "File \u001b[0;32m/opt/homebrew/Caskroom/miniconda/base/envs/personal/lib/python3.12/site-packages/pytensor/link/c/cvm.py:13\u001b[0m\n\u001b[1;32m      9\u001b[0m \u001b[38;5;28;01mif\u001b[39;00m \u001b[38;5;129;01mnot\u001b[39;00m config\u001b[38;5;241m.\u001b[39mcxx:\n\u001b[1;32m     10\u001b[0m     \u001b[38;5;28;01mraise\u001b[39;00m MissingGXX(\n\u001b[1;32m     11\u001b[0m         \u001b[38;5;124m\"\u001b[39m\u001b[38;5;124mlazylinker will not be imported if pytensor.config.cxx is not set.\u001b[39m\u001b[38;5;124m\"\u001b[39m\n\u001b[1;32m     12\u001b[0m     )\n\u001b[0;32m---> 13\u001b[0m \u001b[38;5;28;01mfrom\u001b[39;00m \u001b[38;5;21;01mpytensor\u001b[39;00m\u001b[38;5;21;01m.\u001b[39;00m\u001b[38;5;21;01mlink\u001b[39;00m\u001b[38;5;21;01m.\u001b[39;00m\u001b[38;5;21;01mc\u001b[39;00m\u001b[38;5;21;01m.\u001b[39;00m\u001b[38;5;21;01mlazylinker_c\u001b[39;00m \u001b[38;5;28;01mimport\u001b[39;00m CLazyLinker\n\u001b[1;32m     15\u001b[0m \u001b[38;5;28;01mclass\u001b[39;00m \u001b[38;5;21;01mCVM\u001b[39;00m(CLazyLinker, VM):\n\u001b[1;32m     16\u001b[0m     \u001b[38;5;28;01mdef\u001b[39;00m \u001b[38;5;21m__init__\u001b[39m(\u001b[38;5;28mself\u001b[39m, fgraph, \u001b[38;5;241m*\u001b[39margs, \u001b[38;5;241m*\u001b[39m\u001b[38;5;241m*\u001b[39mkwargs):\n",
      "File \u001b[0;32m/opt/homebrew/Caskroom/miniconda/base/envs/personal/lib/python3.12/site-packages/pytensor/link/c/lazylinker_c.py:142\u001b[0m\n\u001b[1;32m    139\u001b[0m         \u001b[38;5;28;01massert\u001b[39;00m os\u001b[38;5;241m.\u001b[39mpath\u001b[38;5;241m.\u001b[39mexists(loc)\n\u001b[1;32m    141\u001b[0m args \u001b[38;5;241m=\u001b[39m GCC_compiler\u001b[38;5;241m.\u001b[39mcompile_args()\n\u001b[0;32m--> 142\u001b[0m GCC_compiler\u001b[38;5;241m.\u001b[39mcompile_str(dirname, code, location\u001b[38;5;241m=\u001b[39mloc, preargs\u001b[38;5;241m=\u001b[39margs)\n\u001b[1;32m    143\u001b[0m \u001b[38;5;66;03m# Save version into the __init__.py file.\u001b[39;00m\n\u001b[1;32m    144\u001b[0m init_py \u001b[38;5;241m=\u001b[39m os\u001b[38;5;241m.\u001b[39mpath\u001b[38;5;241m.\u001b[39mjoin(loc, \u001b[38;5;124m\"\u001b[39m\u001b[38;5;124m__init__.py\u001b[39m\u001b[38;5;124m\"\u001b[39m)\n",
      "File \u001b[0;32m/opt/homebrew/Caskroom/miniconda/base/envs/personal/lib/python3.12/site-packages/pytensor/link/c/cmodule.py:2651\u001b[0m, in \u001b[0;36mGCC_compiler.compile_str\u001b[0;34m(module_name, src_code, location, include_dirs, lib_dirs, libs, preargs, py_module, hide_symbols)\u001b[0m\n\u001b[1;32m   2643\u001b[0m                 \u001b[38;5;28mprint\u001b[39m(\n\u001b[1;32m   2644\u001b[0m                     \u001b[38;5;124m\"\u001b[39m\u001b[38;5;124mCheck if package python-dev or python-devel is installed.\u001b[39m\u001b[38;5;124m\"\u001b[39m\n\u001b[1;32m   2645\u001b[0m                 )\n\u001b[1;32m   2647\u001b[0m     \u001b[38;5;66;03m# We replace '\\n' by '. ' in the error message because when Python\u001b[39;00m\n\u001b[1;32m   2648\u001b[0m     \u001b[38;5;66;03m# prints the exception, having '\\n' in the text makes it more\u001b[39;00m\n\u001b[1;32m   2649\u001b[0m     \u001b[38;5;66;03m# difficult to read.\u001b[39;00m\n\u001b[1;32m   2650\u001b[0m     \u001b[38;5;66;03m# compile_stderr = compile_stderr.replace(\"\\n\", \". \")\u001b[39;00m\n\u001b[0;32m-> 2651\u001b[0m     \u001b[38;5;28;01mraise\u001b[39;00m CompileError(\n\u001b[1;32m   2652\u001b[0m         \u001b[38;5;124mf\u001b[39m\u001b[38;5;124m\"\u001b[39m\u001b[38;5;124mCompilation failed (return status=\u001b[39m\u001b[38;5;132;01m{\u001b[39;00mstatus\u001b[38;5;132;01m}\u001b[39;00m\u001b[38;5;124m):\u001b[39m\u001b[38;5;130;01m\\n\u001b[39;00m\u001b[38;5;132;01m{\u001b[39;00m\u001b[38;5;124m'\u001b[39m\u001b[38;5;124m \u001b[39m\u001b[38;5;124m'\u001b[39m\u001b[38;5;241m.\u001b[39mjoin(cmd)\u001b[38;5;132;01m}\u001b[39;00m\u001b[38;5;130;01m\\n\u001b[39;00m\u001b[38;5;132;01m{\u001b[39;00mcompile_stderr\u001b[38;5;132;01m}\u001b[39;00m\u001b[38;5;124m\"\u001b[39m\n\u001b[1;32m   2653\u001b[0m     )\n\u001b[1;32m   2654\u001b[0m \u001b[38;5;28;01melif\u001b[39;00m config\u001b[38;5;241m.\u001b[39mcmodule__compilation_warning \u001b[38;5;129;01mand\u001b[39;00m compile_stderr:\n\u001b[1;32m   2655\u001b[0m     \u001b[38;5;66;03m# Print errors just below the command line.\u001b[39;00m\n\u001b[1;32m   2656\u001b[0m     \u001b[38;5;28mprint\u001b[39m(compile_stderr)\n",
      "\u001b[0;31mCompileError\u001b[0m: Compilation failed (return status=1):\n/opt/homebrew/Caskroom/miniconda/base/envs/personal/bin/clang++ -dynamiclib -g -Wno-c++11-narrowing -fno-exceptions -fno-unwind-tables -fno-asynchronous-unwind-tables -DNPY_NO_DEPRECATED_API=NPY_1_7_API_VERSION -fPIC -undefined dynamic_lookup -I/opt/homebrew/Caskroom/miniconda/base/envs/personal/lib/python3.12/site-packages/numpy/core/include -I/opt/homebrew/Caskroom/miniconda/base/envs/personal/include/python3.12 -I/opt/homebrew/Caskroom/miniconda/base/envs/personal/lib/python3.12/site-packages/pytensor/link/c/c_code -L/opt/homebrew/Caskroom/miniconda/base/envs/personal/lib -fvisibility=hidden -o /Users/jpark/.pytensor/compiledir_macOS-15.1.1-arm64-arm-64bit-arm-3.12.4-64/lazylinker_ext/lazylinker_ext.so /Users/jpark/.pytensor/compiledir_macOS-15.1.1-arm64-arm-64bit-arm-3.12.4-64/lazylinker_ext/mod.cpp\nIn file included from /Users/jpark/.pytensor/compiledir_macOS-15.1.1-arm64-arm-64bit-arm-3.12.4-64/lazylinker_ext/mod.cpp:1:\nIn file included from /opt/homebrew/Caskroom/miniconda/base/envs/personal/lib/python3.12/site-packages/pytensor/link/c/c_code/pytensor_mod_helper.h:4:\nIn file included from /opt/homebrew/Caskroom/miniconda/base/envs/personal/include/python3.12/Python.h:23:\n/opt/homebrew/Caskroom/miniconda/base/envs/personal/bin/../include/c++/v1/stdlib.h:93:15: fatal error: 'stdlib.h' file not found\n#include_next <stdlib.h>\n              ^~~~~~~~~~\n1 error generated.\n"
     ]
    }
   ],
   "source": [
    "pymc.model_to_graphviz(conjugate_normal_gamma)"
   ]
  },
  {
   "cell_type": "code",
   "execution_count": 7,
   "id": "45dcd8e1",
   "metadata": {},
   "outputs": [
    {
     "name": "stderr",
     "output_type": "stream",
     "text": [
      "ERROR (pytensor.graph.rewriting.basic): Rewrite failure due to: constant_folding\n",
      "ERROR (pytensor.graph.rewriting.basic): node: ExpandDims{axis=0}(-0.5)\n",
      "ERROR (pytensor.graph.rewriting.basic): TRACEBACK:\n",
      "ERROR (pytensor.graph.rewriting.basic): Traceback (most recent call last):\n",
      "  File \"/opt/homebrew/Caskroom/miniconda/base/envs/personal/lib/python3.12/site-packages/pytensor/graph/rewriting/basic.py\", line 1920, in process_node\n",
      "    replacements = node_rewriter.transform(fgraph, node)\n",
      "                   ^^^^^^^^^^^^^^^^^^^^^^^^^^^^^^^^^^^^^\n",
      "  File \"/opt/homebrew/Caskroom/miniconda/base/envs/personal/lib/python3.12/site-packages/pytensor/graph/rewriting/basic.py\", line 1081, in transform\n",
      "    return self.fn(fgraph, node)\n",
      "           ^^^^^^^^^^^^^^^^^^^^^\n",
      "  File \"/opt/homebrew/Caskroom/miniconda/base/envs/personal/lib/python3.12/site-packages/pytensor/tensor/rewriting/basic.py\", line 1121, in constant_folding\n",
      "    thunk = node.op.make_thunk(node, storage_map, compute_map, no_recycling=[])\n",
      "            ^^^^^^^^^^^^^^^^^^^^^^^^^^^^^^^^^^^^^^^^^^^^^^^^^^^^^^^^^^^^^^^^^^^\n",
      "  File \"/opt/homebrew/Caskroom/miniconda/base/envs/personal/lib/python3.12/site-packages/pytensor/link/c/op.py\", line 119, in make_thunk\n",
      "    return self.make_c_thunk(node, storage_map, compute_map, no_recycling)\n",
      "           ^^^^^^^^^^^^^^^^^^^^^^^^^^^^^^^^^^^^^^^^^^^^^^^^^^^^^^^^^^^^^^^\n",
      "  File \"/opt/homebrew/Caskroom/miniconda/base/envs/personal/lib/python3.12/site-packages/pytensor/link/c/op.py\", line 84, in make_c_thunk\n",
      "    outputs = cl.make_thunk(\n",
      "              ^^^^^^^^^^^^^^\n",
      "  File \"/opt/homebrew/Caskroom/miniconda/base/envs/personal/lib/python3.12/site-packages/pytensor/link/c/basic.py\", line 1190, in make_thunk\n",
      "    cthunk, module, in_storage, out_storage, error_storage = self.__compile__(\n",
      "                                                             ^^^^^^^^^^^^^^^^^\n",
      "  File \"/opt/homebrew/Caskroom/miniconda/base/envs/personal/lib/python3.12/site-packages/pytensor/link/c/basic.py\", line 1110, in __compile__\n",
      "    thunk, module = self.cthunk_factory(\n",
      "                    ^^^^^^^^^^^^^^^^^^^^\n",
      "  File \"/opt/homebrew/Caskroom/miniconda/base/envs/personal/lib/python3.12/site-packages/pytensor/link/c/basic.py\", line 1632, in cthunk_factory\n",
      "    module = cache.module_from_key(key=key, lnk=self)\n",
      "             ^^^^^^^^^^^^^^^^^^^^^^^^^^^^^^^^^^^^^^^^\n",
      "  File \"/opt/homebrew/Caskroom/miniconda/base/envs/personal/lib/python3.12/site-packages/pytensor/link/c/cmodule.py\", line 1250, in module_from_key\n",
      "    module = lnk.compile_cmodule(location)\n",
      "             ^^^^^^^^^^^^^^^^^^^^^^^^^^^^^\n",
      "  File \"/opt/homebrew/Caskroom/miniconda/base/envs/personal/lib/python3.12/site-packages/pytensor/link/c/basic.py\", line 1533, in compile_cmodule\n",
      "    module = c_compiler.compile_str(\n",
      "             ^^^^^^^^^^^^^^^^^^^^^^^\n",
      "  File \"/opt/homebrew/Caskroom/miniconda/base/envs/personal/lib/python3.12/site-packages/pytensor/link/c/cmodule.py\", line 2651, in compile_str\n",
      "    raise CompileError(\n",
      "pytensor.link.c.exceptions.CompileError: Compilation failed (return status=1):\n",
      "/opt/homebrew/Caskroom/miniconda/base/envs/personal/bin/clang++ -dynamiclib -g -O3 -fno-math-errno -Wno-unused-label -Wno-unused-variable -Wno-write-strings -Wno-c++11-narrowing -fno-exceptions -fno-unwind-tables -fno-asynchronous-unwind-tables -DNPY_NO_DEPRECATED_API=NPY_1_7_API_VERSION -fPIC -undefined dynamic_lookup -I/opt/homebrew/Caskroom/miniconda/base/envs/personal/lib/python3.12/site-packages/numpy/core/include -I/opt/homebrew/Caskroom/miniconda/base/envs/personal/include/python3.12 -I/opt/homebrew/Caskroom/miniconda/base/envs/personal/lib/python3.12/site-packages/pytensor/link/c/c_code -L/opt/homebrew/Caskroom/miniconda/base/envs/personal/lib -fvisibility=hidden -o /Users/jpark/.pytensor/compiledir_macOS-15.1.1-arm64-arm-64bit-arm-3.12.4-64/tmp936bqxjq/mfeba4d434591def33153ec442edc27a735fd9fa46fd5f1fae8efd4f490539b0a.so /Users/jpark/.pytensor/compiledir_macOS-15.1.1-arm64-arm-64bit-arm-3.12.4-64/tmp936bqxjq/mod.cpp\n",
      "In file included from /Users/jpark/.pytensor/compiledir_macOS-15.1.1-arm64-arm-64bit-arm-3.12.4-64/tmp936bqxjq/mod.cpp:1:\n",
      "In file included from /opt/homebrew/Caskroom/miniconda/base/envs/personal/include/python3.12/Python.h:23:\n",
      "/opt/homebrew/Caskroom/miniconda/base/envs/personal/bin/../include/c++/v1/stdlib.h:93:15: fatal error: 'stdlib.h' file not found\n",
      "#include_next <stdlib.h>\n",
      "              ^~~~~~~~~~\n",
      "1 error generated.\n",
      "\n",
      "\n"
     ]
    },
    {
     "name": "stdout",
     "output_type": "stream",
     "text": [
      "\n",
      "You can find the C code in this temporary file: /var/folders/vd/j_d7xxb56hg064_h1h3mkqt80000gn/T/pytensor_compilation_error_dpz06_gs\n"
     ]
    },
    {
     "name": "stderr",
     "output_type": "stream",
     "text": [
      "ERROR (pytensor.graph.rewriting.basic): Rewrite failure due to: constant_folding\n",
      "ERROR (pytensor.graph.rewriting.basic): node: ExpandDims{axis=0}(-0.5)\n",
      "ERROR (pytensor.graph.rewriting.basic): TRACEBACK:\n",
      "ERROR (pytensor.graph.rewriting.basic): Traceback (most recent call last):\n",
      "  File \"/opt/homebrew/Caskroom/miniconda/base/envs/personal/lib/python3.12/site-packages/pytensor/graph/rewriting/basic.py\", line 1920, in process_node\n",
      "    replacements = node_rewriter.transform(fgraph, node)\n",
      "                   ^^^^^^^^^^^^^^^^^^^^^^^^^^^^^^^^^^^^^\n",
      "  File \"/opt/homebrew/Caskroom/miniconda/base/envs/personal/lib/python3.12/site-packages/pytensor/graph/rewriting/basic.py\", line 1081, in transform\n",
      "    return self.fn(fgraph, node)\n",
      "           ^^^^^^^^^^^^^^^^^^^^^\n",
      "  File \"/opt/homebrew/Caskroom/miniconda/base/envs/personal/lib/python3.12/site-packages/pytensor/tensor/rewriting/basic.py\", line 1121, in constant_folding\n",
      "    thunk = node.op.make_thunk(node, storage_map, compute_map, no_recycling=[])\n",
      "            ^^^^^^^^^^^^^^^^^^^^^^^^^^^^^^^^^^^^^^^^^^^^^^^^^^^^^^^^^^^^^^^^^^^\n",
      "  File \"/opt/homebrew/Caskroom/miniconda/base/envs/personal/lib/python3.12/site-packages/pytensor/link/c/op.py\", line 119, in make_thunk\n",
      "    return self.make_c_thunk(node, storage_map, compute_map, no_recycling)\n",
      "           ^^^^^^^^^^^^^^^^^^^^^^^^^^^^^^^^^^^^^^^^^^^^^^^^^^^^^^^^^^^^^^^\n",
      "  File \"/opt/homebrew/Caskroom/miniconda/base/envs/personal/lib/python3.12/site-packages/pytensor/link/c/op.py\", line 84, in make_c_thunk\n",
      "    outputs = cl.make_thunk(\n",
      "              ^^^^^^^^^^^^^^\n",
      "  File \"/opt/homebrew/Caskroom/miniconda/base/envs/personal/lib/python3.12/site-packages/pytensor/link/c/basic.py\", line 1190, in make_thunk\n",
      "    cthunk, module, in_storage, out_storage, error_storage = self.__compile__(\n",
      "                                                             ^^^^^^^^^^^^^^^^^\n",
      "  File \"/opt/homebrew/Caskroom/miniconda/base/envs/personal/lib/python3.12/site-packages/pytensor/link/c/basic.py\", line 1110, in __compile__\n",
      "    thunk, module = self.cthunk_factory(\n",
      "                    ^^^^^^^^^^^^^^^^^^^^\n",
      "  File \"/opt/homebrew/Caskroom/miniconda/base/envs/personal/lib/python3.12/site-packages/pytensor/link/c/basic.py\", line 1632, in cthunk_factory\n",
      "    module = cache.module_from_key(key=key, lnk=self)\n",
      "             ^^^^^^^^^^^^^^^^^^^^^^^^^^^^^^^^^^^^^^^^\n",
      "  File \"/opt/homebrew/Caskroom/miniconda/base/envs/personal/lib/python3.12/site-packages/pytensor/link/c/cmodule.py\", line 1250, in module_from_key\n",
      "    module = lnk.compile_cmodule(location)\n",
      "             ^^^^^^^^^^^^^^^^^^^^^^^^^^^^^\n",
      "  File \"/opt/homebrew/Caskroom/miniconda/base/envs/personal/lib/python3.12/site-packages/pytensor/link/c/basic.py\", line 1533, in compile_cmodule\n",
      "    module = c_compiler.compile_str(\n",
      "             ^^^^^^^^^^^^^^^^^^^^^^^\n",
      "  File \"/opt/homebrew/Caskroom/miniconda/base/envs/personal/lib/python3.12/site-packages/pytensor/link/c/cmodule.py\", line 2651, in compile_str\n",
      "    raise CompileError(\n",
      "pytensor.link.c.exceptions.CompileError: Compilation failed (return status=1):\n",
      "/opt/homebrew/Caskroom/miniconda/base/envs/personal/bin/clang++ -dynamiclib -g -O3 -fno-math-errno -Wno-unused-label -Wno-unused-variable -Wno-write-strings -Wno-c++11-narrowing -fno-exceptions -fno-unwind-tables -fno-asynchronous-unwind-tables -DNPY_NO_DEPRECATED_API=NPY_1_7_API_VERSION -fPIC -undefined dynamic_lookup -I/opt/homebrew/Caskroom/miniconda/base/envs/personal/lib/python3.12/site-packages/numpy/core/include -I/opt/homebrew/Caskroom/miniconda/base/envs/personal/include/python3.12 -I/opt/homebrew/Caskroom/miniconda/base/envs/personal/lib/python3.12/site-packages/pytensor/link/c/c_code -L/opt/homebrew/Caskroom/miniconda/base/envs/personal/lib -fvisibility=hidden -o /Users/jpark/.pytensor/compiledir_macOS-15.1.1-arm64-arm-64bit-arm-3.12.4-64/tmpszyd1z2_/mfeba4d434591def33153ec442edc27a735fd9fa46fd5f1fae8efd4f490539b0a.so /Users/jpark/.pytensor/compiledir_macOS-15.1.1-arm64-arm-64bit-arm-3.12.4-64/tmpszyd1z2_/mod.cpp\n",
      "In file included from /Users/jpark/.pytensor/compiledir_macOS-15.1.1-arm64-arm-64bit-arm-3.12.4-64/tmpszyd1z2_/mod.cpp:1:\n",
      "In file included from /opt/homebrew/Caskroom/miniconda/base/envs/personal/include/python3.12/Python.h:23:\n",
      "/opt/homebrew/Caskroom/miniconda/base/envs/personal/bin/../include/c++/v1/stdlib.h:93:15: fatal error: 'stdlib.h' file not found\n",
      "#include_next <stdlib.h>\n",
      "              ^~~~~~~~~~\n",
      "1 error generated.\n",
      "\n",
      "\n"
     ]
    },
    {
     "name": "stdout",
     "output_type": "stream",
     "text": [
      "\n",
      "You can find the C code in this temporary file: /var/folders/vd/j_d7xxb56hg064_h1h3mkqt80000gn/T/pytensor_compilation_error_42caeinc\n"
     ]
    },
    {
     "name": "stderr",
     "output_type": "stream",
     "text": [
      "ERROR (pytensor.graph.rewriting.basic): Rewrite failure due to: constant_folding\n",
      "ERROR (pytensor.graph.rewriting.basic): node: ExpandDims{axis=0}(-0.5)\n",
      "ERROR (pytensor.graph.rewriting.basic): TRACEBACK:\n",
      "ERROR (pytensor.graph.rewriting.basic): Traceback (most recent call last):\n",
      "  File \"/opt/homebrew/Caskroom/miniconda/base/envs/personal/lib/python3.12/site-packages/pytensor/graph/rewriting/basic.py\", line 1920, in process_node\n",
      "    replacements = node_rewriter.transform(fgraph, node)\n",
      "                   ^^^^^^^^^^^^^^^^^^^^^^^^^^^^^^^^^^^^^\n",
      "  File \"/opt/homebrew/Caskroom/miniconda/base/envs/personal/lib/python3.12/site-packages/pytensor/graph/rewriting/basic.py\", line 1081, in transform\n",
      "    return self.fn(fgraph, node)\n",
      "           ^^^^^^^^^^^^^^^^^^^^^\n",
      "  File \"/opt/homebrew/Caskroom/miniconda/base/envs/personal/lib/python3.12/site-packages/pytensor/tensor/rewriting/basic.py\", line 1121, in constant_folding\n",
      "    thunk = node.op.make_thunk(node, storage_map, compute_map, no_recycling=[])\n",
      "            ^^^^^^^^^^^^^^^^^^^^^^^^^^^^^^^^^^^^^^^^^^^^^^^^^^^^^^^^^^^^^^^^^^^\n",
      "  File \"/opt/homebrew/Caskroom/miniconda/base/envs/personal/lib/python3.12/site-packages/pytensor/link/c/op.py\", line 119, in make_thunk\n",
      "    return self.make_c_thunk(node, storage_map, compute_map, no_recycling)\n",
      "           ^^^^^^^^^^^^^^^^^^^^^^^^^^^^^^^^^^^^^^^^^^^^^^^^^^^^^^^^^^^^^^^\n",
      "  File \"/opt/homebrew/Caskroom/miniconda/base/envs/personal/lib/python3.12/site-packages/pytensor/link/c/op.py\", line 84, in make_c_thunk\n",
      "    outputs = cl.make_thunk(\n",
      "              ^^^^^^^^^^^^^^\n",
      "  File \"/opt/homebrew/Caskroom/miniconda/base/envs/personal/lib/python3.12/site-packages/pytensor/link/c/basic.py\", line 1190, in make_thunk\n",
      "    cthunk, module, in_storage, out_storage, error_storage = self.__compile__(\n",
      "                                                             ^^^^^^^^^^^^^^^^^\n",
      "  File \"/opt/homebrew/Caskroom/miniconda/base/envs/personal/lib/python3.12/site-packages/pytensor/link/c/basic.py\", line 1110, in __compile__\n",
      "    thunk, module = self.cthunk_factory(\n",
      "                    ^^^^^^^^^^^^^^^^^^^^\n",
      "  File \"/opt/homebrew/Caskroom/miniconda/base/envs/personal/lib/python3.12/site-packages/pytensor/link/c/basic.py\", line 1632, in cthunk_factory\n",
      "    module = cache.module_from_key(key=key, lnk=self)\n",
      "             ^^^^^^^^^^^^^^^^^^^^^^^^^^^^^^^^^^^^^^^^\n",
      "  File \"/opt/homebrew/Caskroom/miniconda/base/envs/personal/lib/python3.12/site-packages/pytensor/link/c/cmodule.py\", line 1250, in module_from_key\n",
      "    module = lnk.compile_cmodule(location)\n",
      "             ^^^^^^^^^^^^^^^^^^^^^^^^^^^^^\n",
      "  File \"/opt/homebrew/Caskroom/miniconda/base/envs/personal/lib/python3.12/site-packages/pytensor/link/c/basic.py\", line 1533, in compile_cmodule\n",
      "    module = c_compiler.compile_str(\n",
      "             ^^^^^^^^^^^^^^^^^^^^^^^\n",
      "  File \"/opt/homebrew/Caskroom/miniconda/base/envs/personal/lib/python3.12/site-packages/pytensor/link/c/cmodule.py\", line 2651, in compile_str\n",
      "    raise CompileError(\n",
      "pytensor.link.c.exceptions.CompileError: Compilation failed (return status=1):\n",
      "/opt/homebrew/Caskroom/miniconda/base/envs/personal/bin/clang++ -dynamiclib -g -O3 -fno-math-errno -Wno-unused-label -Wno-unused-variable -Wno-write-strings -Wno-c++11-narrowing -fno-exceptions -fno-unwind-tables -fno-asynchronous-unwind-tables -DNPY_NO_DEPRECATED_API=NPY_1_7_API_VERSION -fPIC -undefined dynamic_lookup -I/opt/homebrew/Caskroom/miniconda/base/envs/personal/lib/python3.12/site-packages/numpy/core/include -I/opt/homebrew/Caskroom/miniconda/base/envs/personal/include/python3.12 -I/opt/homebrew/Caskroom/miniconda/base/envs/personal/lib/python3.12/site-packages/pytensor/link/c/c_code -L/opt/homebrew/Caskroom/miniconda/base/envs/personal/lib -fvisibility=hidden -o /Users/jpark/.pytensor/compiledir_macOS-15.1.1-arm64-arm-64bit-arm-3.12.4-64/tmp1h79mzmu/mfeba4d434591def33153ec442edc27a735fd9fa46fd5f1fae8efd4f490539b0a.so /Users/jpark/.pytensor/compiledir_macOS-15.1.1-arm64-arm-64bit-arm-3.12.4-64/tmp1h79mzmu/mod.cpp\n",
      "In file included from /Users/jpark/.pytensor/compiledir_macOS-15.1.1-arm64-arm-64bit-arm-3.12.4-64/tmp1h79mzmu/mod.cpp:1:\n",
      "In file included from /opt/homebrew/Caskroom/miniconda/base/envs/personal/include/python3.12/Python.h:23:\n",
      "/opt/homebrew/Caskroom/miniconda/base/envs/personal/bin/../include/c++/v1/stdlib.h:93:15: fatal error: 'stdlib.h' file not found\n",
      "#include_next <stdlib.h>\n",
      "              ^~~~~~~~~~\n",
      "1 error generated.\n",
      "\n",
      "\n"
     ]
    },
    {
     "name": "stdout",
     "output_type": "stream",
     "text": [
      "\n",
      "You can find the C code in this temporary file: /var/folders/vd/j_d7xxb56hg064_h1h3mkqt80000gn/T/pytensor_compilation_error_lwmensb8\n"
     ]
    },
    {
     "name": "stderr",
     "output_type": "stream",
     "text": [
      "ERROR (pytensor.graph.rewriting.basic): Rewrite failure due to: constant_folding\n",
      "ERROR (pytensor.graph.rewriting.basic): node: ExpandDims{axis=0}(-0.5)\n",
      "ERROR (pytensor.graph.rewriting.basic): TRACEBACK:\n",
      "ERROR (pytensor.graph.rewriting.basic): Traceback (most recent call last):\n",
      "  File \"/opt/homebrew/Caskroom/miniconda/base/envs/personal/lib/python3.12/site-packages/pytensor/graph/rewriting/basic.py\", line 1920, in process_node\n",
      "    replacements = node_rewriter.transform(fgraph, node)\n",
      "                   ^^^^^^^^^^^^^^^^^^^^^^^^^^^^^^^^^^^^^\n",
      "  File \"/opt/homebrew/Caskroom/miniconda/base/envs/personal/lib/python3.12/site-packages/pytensor/graph/rewriting/basic.py\", line 1081, in transform\n",
      "    return self.fn(fgraph, node)\n",
      "           ^^^^^^^^^^^^^^^^^^^^^\n",
      "  File \"/opt/homebrew/Caskroom/miniconda/base/envs/personal/lib/python3.12/site-packages/pytensor/tensor/rewriting/basic.py\", line 1121, in constant_folding\n",
      "    thunk = node.op.make_thunk(node, storage_map, compute_map, no_recycling=[])\n",
      "            ^^^^^^^^^^^^^^^^^^^^^^^^^^^^^^^^^^^^^^^^^^^^^^^^^^^^^^^^^^^^^^^^^^^\n",
      "  File \"/opt/homebrew/Caskroom/miniconda/base/envs/personal/lib/python3.12/site-packages/pytensor/link/c/op.py\", line 119, in make_thunk\n",
      "    return self.make_c_thunk(node, storage_map, compute_map, no_recycling)\n",
      "           ^^^^^^^^^^^^^^^^^^^^^^^^^^^^^^^^^^^^^^^^^^^^^^^^^^^^^^^^^^^^^^^\n",
      "  File \"/opt/homebrew/Caskroom/miniconda/base/envs/personal/lib/python3.12/site-packages/pytensor/link/c/op.py\", line 84, in make_c_thunk\n",
      "    outputs = cl.make_thunk(\n",
      "              ^^^^^^^^^^^^^^\n",
      "  File \"/opt/homebrew/Caskroom/miniconda/base/envs/personal/lib/python3.12/site-packages/pytensor/link/c/basic.py\", line 1190, in make_thunk\n",
      "    cthunk, module, in_storage, out_storage, error_storage = self.__compile__(\n",
      "                                                             ^^^^^^^^^^^^^^^^^\n",
      "  File \"/opt/homebrew/Caskroom/miniconda/base/envs/personal/lib/python3.12/site-packages/pytensor/link/c/basic.py\", line 1110, in __compile__\n",
      "    thunk, module = self.cthunk_factory(\n",
      "                    ^^^^^^^^^^^^^^^^^^^^\n",
      "  File \"/opt/homebrew/Caskroom/miniconda/base/envs/personal/lib/python3.12/site-packages/pytensor/link/c/basic.py\", line 1632, in cthunk_factory\n",
      "    module = cache.module_from_key(key=key, lnk=self)\n",
      "             ^^^^^^^^^^^^^^^^^^^^^^^^^^^^^^^^^^^^^^^^\n",
      "  File \"/opt/homebrew/Caskroom/miniconda/base/envs/personal/lib/python3.12/site-packages/pytensor/link/c/cmodule.py\", line 1250, in module_from_key\n",
      "    module = lnk.compile_cmodule(location)\n",
      "             ^^^^^^^^^^^^^^^^^^^^^^^^^^^^^\n",
      "  File \"/opt/homebrew/Caskroom/miniconda/base/envs/personal/lib/python3.12/site-packages/pytensor/link/c/basic.py\", line 1533, in compile_cmodule\n",
      "    module = c_compiler.compile_str(\n",
      "             ^^^^^^^^^^^^^^^^^^^^^^^\n",
      "  File \"/opt/homebrew/Caskroom/miniconda/base/envs/personal/lib/python3.12/site-packages/pytensor/link/c/cmodule.py\", line 2651, in compile_str\n",
      "    raise CompileError(\n",
      "pytensor.link.c.exceptions.CompileError: Compilation failed (return status=1):\n",
      "/opt/homebrew/Caskroom/miniconda/base/envs/personal/bin/clang++ -dynamiclib -g -O3 -fno-math-errno -Wno-unused-label -Wno-unused-variable -Wno-write-strings -Wno-c++11-narrowing -fno-exceptions -fno-unwind-tables -fno-asynchronous-unwind-tables -DNPY_NO_DEPRECATED_API=NPY_1_7_API_VERSION -fPIC -undefined dynamic_lookup -I/opt/homebrew/Caskroom/miniconda/base/envs/personal/lib/python3.12/site-packages/numpy/core/include -I/opt/homebrew/Caskroom/miniconda/base/envs/personal/include/python3.12 -I/opt/homebrew/Caskroom/miniconda/base/envs/personal/lib/python3.12/site-packages/pytensor/link/c/c_code -L/opt/homebrew/Caskroom/miniconda/base/envs/personal/lib -fvisibility=hidden -o /Users/jpark/.pytensor/compiledir_macOS-15.1.1-arm64-arm-64bit-arm-3.12.4-64/tmp0n2cpxh8/mfeba4d434591def33153ec442edc27a735fd9fa46fd5f1fae8efd4f490539b0a.so /Users/jpark/.pytensor/compiledir_macOS-15.1.1-arm64-arm-64bit-arm-3.12.4-64/tmp0n2cpxh8/mod.cpp\n",
      "In file included from /Users/jpark/.pytensor/compiledir_macOS-15.1.1-arm64-arm-64bit-arm-3.12.4-64/tmp0n2cpxh8/mod.cpp:1:\n",
      "In file included from /opt/homebrew/Caskroom/miniconda/base/envs/personal/include/python3.12/Python.h:23:\n",
      "/opt/homebrew/Caskroom/miniconda/base/envs/personal/bin/../include/c++/v1/stdlib.h:93:15: fatal error: 'stdlib.h' file not found\n",
      "#include_next <stdlib.h>\n",
      "              ^~~~~~~~~~\n",
      "1 error generated.\n",
      "\n",
      "\n"
     ]
    },
    {
     "name": "stdout",
     "output_type": "stream",
     "text": [
      "\n",
      "You can find the C code in this temporary file: /var/folders/vd/j_d7xxb56hg064_h1h3mkqt80000gn/T/pytensor_compilation_error_lc6tmn5k\n"
     ]
    },
    {
     "name": "stderr",
     "output_type": "stream",
     "text": [
      "ERROR (pytensor.graph.rewriting.basic): Rewrite failure due to: constant_folding\n",
      "ERROR (pytensor.graph.rewriting.basic): node: ExpandDims{axis=0}(-0.5)\n",
      "ERROR (pytensor.graph.rewriting.basic): TRACEBACK:\n",
      "ERROR (pytensor.graph.rewriting.basic): Traceback (most recent call last):\n",
      "  File \"/opt/homebrew/Caskroom/miniconda/base/envs/personal/lib/python3.12/site-packages/pytensor/graph/rewriting/basic.py\", line 1920, in process_node\n",
      "    replacements = node_rewriter.transform(fgraph, node)\n",
      "                   ^^^^^^^^^^^^^^^^^^^^^^^^^^^^^^^^^^^^^\n",
      "  File \"/opt/homebrew/Caskroom/miniconda/base/envs/personal/lib/python3.12/site-packages/pytensor/graph/rewriting/basic.py\", line 1081, in transform\n",
      "    return self.fn(fgraph, node)\n",
      "           ^^^^^^^^^^^^^^^^^^^^^\n",
      "  File \"/opt/homebrew/Caskroom/miniconda/base/envs/personal/lib/python3.12/site-packages/pytensor/tensor/rewriting/basic.py\", line 1121, in constant_folding\n",
      "    thunk = node.op.make_thunk(node, storage_map, compute_map, no_recycling=[])\n",
      "            ^^^^^^^^^^^^^^^^^^^^^^^^^^^^^^^^^^^^^^^^^^^^^^^^^^^^^^^^^^^^^^^^^^^\n",
      "  File \"/opt/homebrew/Caskroom/miniconda/base/envs/personal/lib/python3.12/site-packages/pytensor/link/c/op.py\", line 119, in make_thunk\n",
      "    return self.make_c_thunk(node, storage_map, compute_map, no_recycling)\n",
      "           ^^^^^^^^^^^^^^^^^^^^^^^^^^^^^^^^^^^^^^^^^^^^^^^^^^^^^^^^^^^^^^^\n",
      "  File \"/opt/homebrew/Caskroom/miniconda/base/envs/personal/lib/python3.12/site-packages/pytensor/link/c/op.py\", line 84, in make_c_thunk\n",
      "    outputs = cl.make_thunk(\n",
      "              ^^^^^^^^^^^^^^\n",
      "  File \"/opt/homebrew/Caskroom/miniconda/base/envs/personal/lib/python3.12/site-packages/pytensor/link/c/basic.py\", line 1190, in make_thunk\n",
      "    cthunk, module, in_storage, out_storage, error_storage = self.__compile__(\n",
      "                                                             ^^^^^^^^^^^^^^^^^\n",
      "  File \"/opt/homebrew/Caskroom/miniconda/base/envs/personal/lib/python3.12/site-packages/pytensor/link/c/basic.py\", line 1110, in __compile__\n",
      "    thunk, module = self.cthunk_factory(\n",
      "                    ^^^^^^^^^^^^^^^^^^^^\n",
      "  File \"/opt/homebrew/Caskroom/miniconda/base/envs/personal/lib/python3.12/site-packages/pytensor/link/c/basic.py\", line 1632, in cthunk_factory\n",
      "    module = cache.module_from_key(key=key, lnk=self)\n",
      "             ^^^^^^^^^^^^^^^^^^^^^^^^^^^^^^^^^^^^^^^^\n",
      "  File \"/opt/homebrew/Caskroom/miniconda/base/envs/personal/lib/python3.12/site-packages/pytensor/link/c/cmodule.py\", line 1250, in module_from_key\n",
      "    module = lnk.compile_cmodule(location)\n",
      "             ^^^^^^^^^^^^^^^^^^^^^^^^^^^^^\n",
      "  File \"/opt/homebrew/Caskroom/miniconda/base/envs/personal/lib/python3.12/site-packages/pytensor/link/c/basic.py\", line 1533, in compile_cmodule\n",
      "    module = c_compiler.compile_str(\n",
      "             ^^^^^^^^^^^^^^^^^^^^^^^\n",
      "  File \"/opt/homebrew/Caskroom/miniconda/base/envs/personal/lib/python3.12/site-packages/pytensor/link/c/cmodule.py\", line 2651, in compile_str\n",
      "    raise CompileError(\n",
      "pytensor.link.c.exceptions.CompileError: Compilation failed (return status=1):\n",
      "/opt/homebrew/Caskroom/miniconda/base/envs/personal/bin/clang++ -dynamiclib -g -O3 -fno-math-errno -Wno-unused-label -Wno-unused-variable -Wno-write-strings -Wno-c++11-narrowing -fno-exceptions -fno-unwind-tables -fno-asynchronous-unwind-tables -DNPY_NO_DEPRECATED_API=NPY_1_7_API_VERSION -fPIC -undefined dynamic_lookup -I/opt/homebrew/Caskroom/miniconda/base/envs/personal/lib/python3.12/site-packages/numpy/core/include -I/opt/homebrew/Caskroom/miniconda/base/envs/personal/include/python3.12 -I/opt/homebrew/Caskroom/miniconda/base/envs/personal/lib/python3.12/site-packages/pytensor/link/c/c_code -L/opt/homebrew/Caskroom/miniconda/base/envs/personal/lib -fvisibility=hidden -o /Users/jpark/.pytensor/compiledir_macOS-15.1.1-arm64-arm-64bit-arm-3.12.4-64/tmpaz49dinq/mfeba4d434591def33153ec442edc27a735fd9fa46fd5f1fae8efd4f490539b0a.so /Users/jpark/.pytensor/compiledir_macOS-15.1.1-arm64-arm-64bit-arm-3.12.4-64/tmpaz49dinq/mod.cpp\n",
      "In file included from /Users/jpark/.pytensor/compiledir_macOS-15.1.1-arm64-arm-64bit-arm-3.12.4-64/tmpaz49dinq/mod.cpp:1:\n",
      "In file included from /opt/homebrew/Caskroom/miniconda/base/envs/personal/include/python3.12/Python.h:23:\n",
      "/opt/homebrew/Caskroom/miniconda/base/envs/personal/bin/../include/c++/v1/stdlib.h:93:15: fatal error: 'stdlib.h' file not found\n",
      "#include_next <stdlib.h>\n",
      "              ^~~~~~~~~~\n",
      "1 error generated.\n",
      "\n",
      "\n"
     ]
    },
    {
     "name": "stdout",
     "output_type": "stream",
     "text": [
      "\n",
      "You can find the C code in this temporary file: /var/folders/vd/j_d7xxb56hg064_h1h3mkqt80000gn/T/pytensor_compilation_error_rxwnhic2\n"
     ]
    },
    {
     "name": "stderr",
     "output_type": "stream",
     "text": [
      "ERROR (pytensor.graph.rewriting.basic): Rewrite failure due to: constant_folding\n",
      "ERROR (pytensor.graph.rewriting.basic): node: ExpandDims{axis=0}(-0.5)\n",
      "ERROR (pytensor.graph.rewriting.basic): TRACEBACK:\n",
      "ERROR (pytensor.graph.rewriting.basic): Traceback (most recent call last):\n",
      "  File \"/opt/homebrew/Caskroom/miniconda/base/envs/personal/lib/python3.12/site-packages/pytensor/graph/rewriting/basic.py\", line 1920, in process_node\n",
      "    replacements = node_rewriter.transform(fgraph, node)\n",
      "                   ^^^^^^^^^^^^^^^^^^^^^^^^^^^^^^^^^^^^^\n",
      "  File \"/opt/homebrew/Caskroom/miniconda/base/envs/personal/lib/python3.12/site-packages/pytensor/graph/rewriting/basic.py\", line 1081, in transform\n",
      "    return self.fn(fgraph, node)\n",
      "           ^^^^^^^^^^^^^^^^^^^^^\n",
      "  File \"/opt/homebrew/Caskroom/miniconda/base/envs/personal/lib/python3.12/site-packages/pytensor/tensor/rewriting/basic.py\", line 1121, in constant_folding\n",
      "    thunk = node.op.make_thunk(node, storage_map, compute_map, no_recycling=[])\n",
      "            ^^^^^^^^^^^^^^^^^^^^^^^^^^^^^^^^^^^^^^^^^^^^^^^^^^^^^^^^^^^^^^^^^^^\n",
      "  File \"/opt/homebrew/Caskroom/miniconda/base/envs/personal/lib/python3.12/site-packages/pytensor/link/c/op.py\", line 119, in make_thunk\n",
      "    return self.make_c_thunk(node, storage_map, compute_map, no_recycling)\n",
      "           ^^^^^^^^^^^^^^^^^^^^^^^^^^^^^^^^^^^^^^^^^^^^^^^^^^^^^^^^^^^^^^^\n",
      "  File \"/opt/homebrew/Caskroom/miniconda/base/envs/personal/lib/python3.12/site-packages/pytensor/link/c/op.py\", line 84, in make_c_thunk\n",
      "    outputs = cl.make_thunk(\n",
      "              ^^^^^^^^^^^^^^\n",
      "  File \"/opt/homebrew/Caskroom/miniconda/base/envs/personal/lib/python3.12/site-packages/pytensor/link/c/basic.py\", line 1190, in make_thunk\n",
      "    cthunk, module, in_storage, out_storage, error_storage = self.__compile__(\n",
      "                                                             ^^^^^^^^^^^^^^^^^\n",
      "  File \"/opt/homebrew/Caskroom/miniconda/base/envs/personal/lib/python3.12/site-packages/pytensor/link/c/basic.py\", line 1110, in __compile__\n",
      "    thunk, module = self.cthunk_factory(\n",
      "                    ^^^^^^^^^^^^^^^^^^^^\n",
      "  File \"/opt/homebrew/Caskroom/miniconda/base/envs/personal/lib/python3.12/site-packages/pytensor/link/c/basic.py\", line 1632, in cthunk_factory\n",
      "    module = cache.module_from_key(key=key, lnk=self)\n",
      "             ^^^^^^^^^^^^^^^^^^^^^^^^^^^^^^^^^^^^^^^^\n",
      "  File \"/opt/homebrew/Caskroom/miniconda/base/envs/personal/lib/python3.12/site-packages/pytensor/link/c/cmodule.py\", line 1250, in module_from_key\n",
      "    module = lnk.compile_cmodule(location)\n",
      "             ^^^^^^^^^^^^^^^^^^^^^^^^^^^^^\n",
      "  File \"/opt/homebrew/Caskroom/miniconda/base/envs/personal/lib/python3.12/site-packages/pytensor/link/c/basic.py\", line 1533, in compile_cmodule\n",
      "    module = c_compiler.compile_str(\n",
      "             ^^^^^^^^^^^^^^^^^^^^^^^\n",
      "  File \"/opt/homebrew/Caskroom/miniconda/base/envs/personal/lib/python3.12/site-packages/pytensor/link/c/cmodule.py\", line 2651, in compile_str\n",
      "    raise CompileError(\n",
      "pytensor.link.c.exceptions.CompileError: Compilation failed (return status=1):\n",
      "/opt/homebrew/Caskroom/miniconda/base/envs/personal/bin/clang++ -dynamiclib -g -O3 -fno-math-errno -Wno-unused-label -Wno-unused-variable -Wno-write-strings -Wno-c++11-narrowing -fno-exceptions -fno-unwind-tables -fno-asynchronous-unwind-tables -DNPY_NO_DEPRECATED_API=NPY_1_7_API_VERSION -fPIC -undefined dynamic_lookup -I/opt/homebrew/Caskroom/miniconda/base/envs/personal/lib/python3.12/site-packages/numpy/core/include -I/opt/homebrew/Caskroom/miniconda/base/envs/personal/include/python3.12 -I/opt/homebrew/Caskroom/miniconda/base/envs/personal/lib/python3.12/site-packages/pytensor/link/c/c_code -L/opt/homebrew/Caskroom/miniconda/base/envs/personal/lib -fvisibility=hidden -o /Users/jpark/.pytensor/compiledir_macOS-15.1.1-arm64-arm-64bit-arm-3.12.4-64/tmp2yoy6o1j/mfeba4d434591def33153ec442edc27a735fd9fa46fd5f1fae8efd4f490539b0a.so /Users/jpark/.pytensor/compiledir_macOS-15.1.1-arm64-arm-64bit-arm-3.12.4-64/tmp2yoy6o1j/mod.cpp\n",
      "In file included from /Users/jpark/.pytensor/compiledir_macOS-15.1.1-arm64-arm-64bit-arm-3.12.4-64/tmp2yoy6o1j/mod.cpp:1:\n",
      "In file included from /opt/homebrew/Caskroom/miniconda/base/envs/personal/include/python3.12/Python.h:23:\n",
      "/opt/homebrew/Caskroom/miniconda/base/envs/personal/bin/../include/c++/v1/stdlib.h:93:15: fatal error: 'stdlib.h' file not found\n",
      "#include_next <stdlib.h>\n",
      "              ^~~~~~~~~~\n",
      "1 error generated.\n",
      "\n",
      "\n"
     ]
    },
    {
     "name": "stdout",
     "output_type": "stream",
     "text": [
      "\n",
      "You can find the C code in this temporary file: /var/folders/vd/j_d7xxb56hg064_h1h3mkqt80000gn/T/pytensor_compilation_error_n8iq66xj\n"
     ]
    },
    {
     "name": "stderr",
     "output_type": "stream",
     "text": [
      "ERROR (pytensor.graph.rewriting.basic): Rewrite failure due to: constant_folding\n",
      "ERROR (pytensor.graph.rewriting.basic): node: Cast{float64}(0)\n",
      "ERROR (pytensor.graph.rewriting.basic): TRACEBACK:\n",
      "ERROR (pytensor.graph.rewriting.basic): Traceback (most recent call last):\n",
      "  File \"/opt/homebrew/Caskroom/miniconda/base/envs/personal/lib/python3.12/site-packages/pytensor/graph/rewriting/basic.py\", line 1920, in process_node\n",
      "    replacements = node_rewriter.transform(fgraph, node)\n",
      "                   ^^^^^^^^^^^^^^^^^^^^^^^^^^^^^^^^^^^^^\n",
      "  File \"/opt/homebrew/Caskroom/miniconda/base/envs/personal/lib/python3.12/site-packages/pytensor/graph/rewriting/basic.py\", line 1081, in transform\n",
      "    return self.fn(fgraph, node)\n",
      "           ^^^^^^^^^^^^^^^^^^^^^\n",
      "  File \"/opt/homebrew/Caskroom/miniconda/base/envs/personal/lib/python3.12/site-packages/pytensor/tensor/rewriting/basic.py\", line 1121, in constant_folding\n",
      "    thunk = node.op.make_thunk(node, storage_map, compute_map, no_recycling=[])\n",
      "            ^^^^^^^^^^^^^^^^^^^^^^^^^^^^^^^^^^^^^^^^^^^^^^^^^^^^^^^^^^^^^^^^^^^\n",
      "  File \"/opt/homebrew/Caskroom/miniconda/base/envs/personal/lib/python3.12/site-packages/pytensor/link/c/op.py\", line 119, in make_thunk\n",
      "    return self.make_c_thunk(node, storage_map, compute_map, no_recycling)\n",
      "           ^^^^^^^^^^^^^^^^^^^^^^^^^^^^^^^^^^^^^^^^^^^^^^^^^^^^^^^^^^^^^^^\n",
      "  File \"/opt/homebrew/Caskroom/miniconda/base/envs/personal/lib/python3.12/site-packages/pytensor/link/c/op.py\", line 84, in make_c_thunk\n",
      "    outputs = cl.make_thunk(\n",
      "              ^^^^^^^^^^^^^^\n",
      "  File \"/opt/homebrew/Caskroom/miniconda/base/envs/personal/lib/python3.12/site-packages/pytensor/link/c/basic.py\", line 1190, in make_thunk\n",
      "    cthunk, module, in_storage, out_storage, error_storage = self.__compile__(\n",
      "                                                             ^^^^^^^^^^^^^^^^^\n",
      "  File \"/opt/homebrew/Caskroom/miniconda/base/envs/personal/lib/python3.12/site-packages/pytensor/link/c/basic.py\", line 1110, in __compile__\n",
      "    thunk, module = self.cthunk_factory(\n",
      "                    ^^^^^^^^^^^^^^^^^^^^\n",
      "  File \"/opt/homebrew/Caskroom/miniconda/base/envs/personal/lib/python3.12/site-packages/pytensor/link/c/basic.py\", line 1632, in cthunk_factory\n",
      "    module = cache.module_from_key(key=key, lnk=self)\n",
      "             ^^^^^^^^^^^^^^^^^^^^^^^^^^^^^^^^^^^^^^^^\n",
      "  File \"/opt/homebrew/Caskroom/miniconda/base/envs/personal/lib/python3.12/site-packages/pytensor/link/c/cmodule.py\", line 1250, in module_from_key\n",
      "    module = lnk.compile_cmodule(location)\n",
      "             ^^^^^^^^^^^^^^^^^^^^^^^^^^^^^\n",
      "  File \"/opt/homebrew/Caskroom/miniconda/base/envs/personal/lib/python3.12/site-packages/pytensor/link/c/basic.py\", line 1533, in compile_cmodule\n",
      "    module = c_compiler.compile_str(\n",
      "             ^^^^^^^^^^^^^^^^^^^^^^^\n",
      "  File \"/opt/homebrew/Caskroom/miniconda/base/envs/personal/lib/python3.12/site-packages/pytensor/link/c/cmodule.py\", line 2651, in compile_str\n",
      "    raise CompileError(\n",
      "pytensor.link.c.exceptions.CompileError: Compilation failed (return status=1):\n",
      "/opt/homebrew/Caskroom/miniconda/base/envs/personal/bin/clang++ -dynamiclib -g -O3 -fno-math-errno -Wno-unused-label -Wno-unused-variable -Wno-write-strings -Wno-c++11-narrowing -fno-exceptions -fno-unwind-tables -fno-asynchronous-unwind-tables -DNPY_NO_DEPRECATED_API=NPY_1_7_API_VERSION -fPIC -undefined dynamic_lookup -I/opt/homebrew/Caskroom/miniconda/base/envs/personal/lib/python3.12/site-packages/numpy/core/include -I/opt/homebrew/Caskroom/miniconda/base/envs/personal/include/python3.12 -I/opt/homebrew/Caskroom/miniconda/base/envs/personal/lib/python3.12/site-packages/pytensor/link/c/c_code -L/opt/homebrew/Caskroom/miniconda/base/envs/personal/lib -fvisibility=hidden -o /Users/jpark/.pytensor/compiledir_macOS-15.1.1-arm64-arm-64bit-arm-3.12.4-64/tmp18qpoemm/maf7dfc2b98019ae231490759913de9c7eae2cf26062201cb60a34079dffa7f98.so /Users/jpark/.pytensor/compiledir_macOS-15.1.1-arm64-arm-64bit-arm-3.12.4-64/tmp18qpoemm/mod.cpp\n",
      "In file included from /Users/jpark/.pytensor/compiledir_macOS-15.1.1-arm64-arm-64bit-arm-3.12.4-64/tmp18qpoemm/mod.cpp:1:\n",
      "In file included from /opt/homebrew/Caskroom/miniconda/base/envs/personal/include/python3.12/Python.h:23:\n",
      "/opt/homebrew/Caskroom/miniconda/base/envs/personal/bin/../include/c++/v1/stdlib.h:93:15: fatal error: 'stdlib.h' file not found\n",
      "#include_next <stdlib.h>\n",
      "              ^~~~~~~~~~\n",
      "1 error generated.\n",
      "\n",
      "\n"
     ]
    },
    {
     "name": "stdout",
     "output_type": "stream",
     "text": [
      "\n",
      "You can find the C code in this temporary file: /var/folders/vd/j_d7xxb56hg064_h1h3mkqt80000gn/T/pytensor_compilation_error_b3_537vf\n"
     ]
    },
    {
     "name": "stderr",
     "output_type": "stream",
     "text": [
      "ERROR (pytensor.graph.rewriting.basic): Rewrite failure due to: constant_folding\n",
      "ERROR (pytensor.graph.rewriting.basic): node: Cast{float64}(1.0)\n",
      "ERROR (pytensor.graph.rewriting.basic): TRACEBACK:\n",
      "ERROR (pytensor.graph.rewriting.basic): Traceback (most recent call last):\n",
      "  File \"/opt/homebrew/Caskroom/miniconda/base/envs/personal/lib/python3.12/site-packages/pytensor/graph/rewriting/basic.py\", line 1920, in process_node\n",
      "    replacements = node_rewriter.transform(fgraph, node)\n",
      "                   ^^^^^^^^^^^^^^^^^^^^^^^^^^^^^^^^^^^^^\n",
      "  File \"/opt/homebrew/Caskroom/miniconda/base/envs/personal/lib/python3.12/site-packages/pytensor/graph/rewriting/basic.py\", line 1081, in transform\n",
      "    return self.fn(fgraph, node)\n",
      "           ^^^^^^^^^^^^^^^^^^^^^\n",
      "  File \"/opt/homebrew/Caskroom/miniconda/base/envs/personal/lib/python3.12/site-packages/pytensor/tensor/rewriting/basic.py\", line 1121, in constant_folding\n",
      "    thunk = node.op.make_thunk(node, storage_map, compute_map, no_recycling=[])\n",
      "            ^^^^^^^^^^^^^^^^^^^^^^^^^^^^^^^^^^^^^^^^^^^^^^^^^^^^^^^^^^^^^^^^^^^\n",
      "  File \"/opt/homebrew/Caskroom/miniconda/base/envs/personal/lib/python3.12/site-packages/pytensor/link/c/op.py\", line 119, in make_thunk\n",
      "    return self.make_c_thunk(node, storage_map, compute_map, no_recycling)\n",
      "           ^^^^^^^^^^^^^^^^^^^^^^^^^^^^^^^^^^^^^^^^^^^^^^^^^^^^^^^^^^^^^^^\n",
      "  File \"/opt/homebrew/Caskroom/miniconda/base/envs/personal/lib/python3.12/site-packages/pytensor/link/c/op.py\", line 84, in make_c_thunk\n",
      "    outputs = cl.make_thunk(\n",
      "              ^^^^^^^^^^^^^^\n",
      "  File \"/opt/homebrew/Caskroom/miniconda/base/envs/personal/lib/python3.12/site-packages/pytensor/link/c/basic.py\", line 1190, in make_thunk\n",
      "    cthunk, module, in_storage, out_storage, error_storage = self.__compile__(\n",
      "                                                             ^^^^^^^^^^^^^^^^^\n",
      "  File \"/opt/homebrew/Caskroom/miniconda/base/envs/personal/lib/python3.12/site-packages/pytensor/link/c/basic.py\", line 1110, in __compile__\n",
      "    thunk, module = self.cthunk_factory(\n",
      "                    ^^^^^^^^^^^^^^^^^^^^\n",
      "  File \"/opt/homebrew/Caskroom/miniconda/base/envs/personal/lib/python3.12/site-packages/pytensor/link/c/basic.py\", line 1632, in cthunk_factory\n",
      "    module = cache.module_from_key(key=key, lnk=self)\n",
      "             ^^^^^^^^^^^^^^^^^^^^^^^^^^^^^^^^^^^^^^^^\n",
      "  File \"/opt/homebrew/Caskroom/miniconda/base/envs/personal/lib/python3.12/site-packages/pytensor/link/c/cmodule.py\", line 1250, in module_from_key\n",
      "    module = lnk.compile_cmodule(location)\n",
      "             ^^^^^^^^^^^^^^^^^^^^^^^^^^^^^\n",
      "  File \"/opt/homebrew/Caskroom/miniconda/base/envs/personal/lib/python3.12/site-packages/pytensor/link/c/basic.py\", line 1533, in compile_cmodule\n",
      "    module = c_compiler.compile_str(\n",
      "             ^^^^^^^^^^^^^^^^^^^^^^^\n",
      "  File \"/opt/homebrew/Caskroom/miniconda/base/envs/personal/lib/python3.12/site-packages/pytensor/link/c/cmodule.py\", line 2651, in compile_str\n",
      "    raise CompileError(\n",
      "pytensor.link.c.exceptions.CompileError: Compilation failed (return status=1):\n",
      "/opt/homebrew/Caskroom/miniconda/base/envs/personal/bin/clang++ -dynamiclib -g -O3 -fno-math-errno -Wno-unused-label -Wno-unused-variable -Wno-write-strings -Wno-c++11-narrowing -fno-exceptions -fno-unwind-tables -fno-asynchronous-unwind-tables -DNPY_NO_DEPRECATED_API=NPY_1_7_API_VERSION -fPIC -undefined dynamic_lookup -I/opt/homebrew/Caskroom/miniconda/base/envs/personal/lib/python3.12/site-packages/numpy/core/include -I/opt/homebrew/Caskroom/miniconda/base/envs/personal/include/python3.12 -I/opt/homebrew/Caskroom/miniconda/base/envs/personal/lib/python3.12/site-packages/pytensor/link/c/c_code -L/opt/homebrew/Caskroom/miniconda/base/envs/personal/lib -fvisibility=hidden -o /Users/jpark/.pytensor/compiledir_macOS-15.1.1-arm64-arm-64bit-arm-3.12.4-64/tmpr1jfqx3f/m7a09406a34cd6b55f2b7a7d92f1d6d474b2c378f72ea35830c7f1d567f953f37.so /Users/jpark/.pytensor/compiledir_macOS-15.1.1-arm64-arm-64bit-arm-3.12.4-64/tmpr1jfqx3f/mod.cpp\n",
      "In file included from /Users/jpark/.pytensor/compiledir_macOS-15.1.1-arm64-arm-64bit-arm-3.12.4-64/tmpr1jfqx3f/mod.cpp:1:\n",
      "In file included from /opt/homebrew/Caskroom/miniconda/base/envs/personal/include/python3.12/Python.h:23:\n",
      "/opt/homebrew/Caskroom/miniconda/base/envs/personal/bin/../include/c++/v1/stdlib.h:93:15: fatal error: 'stdlib.h' file not found\n",
      "#include_next <stdlib.h>\n",
      "              ^~~~~~~~~~\n",
      "1 error generated.\n",
      "\n",
      "\n"
     ]
    },
    {
     "name": "stdout",
     "output_type": "stream",
     "text": [
      "\n",
      "You can find the C code in this temporary file: /var/folders/vd/j_d7xxb56hg064_h1h3mkqt80000gn/T/pytensor_compilation_error_yzaewyfm\n"
     ]
    },
    {
     "name": "stderr",
     "output_type": "stream",
     "text": [
      "ERROR (pytensor.graph.rewriting.basic): Rewrite failure due to: constant_folding\n",
      "ERROR (pytensor.graph.rewriting.basic): node: Cast{float64}(0)\n",
      "ERROR (pytensor.graph.rewriting.basic): TRACEBACK:\n",
      "ERROR (pytensor.graph.rewriting.basic): Traceback (most recent call last):\n",
      "  File \"/opt/homebrew/Caskroom/miniconda/base/envs/personal/lib/python3.12/site-packages/pytensor/graph/rewriting/basic.py\", line 1920, in process_node\n",
      "    replacements = node_rewriter.transform(fgraph, node)\n",
      "                   ^^^^^^^^^^^^^^^^^^^^^^^^^^^^^^^^^^^^^\n",
      "  File \"/opt/homebrew/Caskroom/miniconda/base/envs/personal/lib/python3.12/site-packages/pytensor/graph/rewriting/basic.py\", line 1081, in transform\n",
      "    return self.fn(fgraph, node)\n",
      "           ^^^^^^^^^^^^^^^^^^^^^\n",
      "  File \"/opt/homebrew/Caskroom/miniconda/base/envs/personal/lib/python3.12/site-packages/pytensor/tensor/rewriting/basic.py\", line 1121, in constant_folding\n",
      "    thunk = node.op.make_thunk(node, storage_map, compute_map, no_recycling=[])\n",
      "            ^^^^^^^^^^^^^^^^^^^^^^^^^^^^^^^^^^^^^^^^^^^^^^^^^^^^^^^^^^^^^^^^^^^\n",
      "  File \"/opt/homebrew/Caskroom/miniconda/base/envs/personal/lib/python3.12/site-packages/pytensor/link/c/op.py\", line 119, in make_thunk\n",
      "    return self.make_c_thunk(node, storage_map, compute_map, no_recycling)\n",
      "           ^^^^^^^^^^^^^^^^^^^^^^^^^^^^^^^^^^^^^^^^^^^^^^^^^^^^^^^^^^^^^^^\n",
      "  File \"/opt/homebrew/Caskroom/miniconda/base/envs/personal/lib/python3.12/site-packages/pytensor/link/c/op.py\", line 84, in make_c_thunk\n",
      "    outputs = cl.make_thunk(\n",
      "              ^^^^^^^^^^^^^^\n",
      "  File \"/opt/homebrew/Caskroom/miniconda/base/envs/personal/lib/python3.12/site-packages/pytensor/link/c/basic.py\", line 1190, in make_thunk\n",
      "    cthunk, module, in_storage, out_storage, error_storage = self.__compile__(\n",
      "                                                             ^^^^^^^^^^^^^^^^^\n",
      "  File \"/opt/homebrew/Caskroom/miniconda/base/envs/personal/lib/python3.12/site-packages/pytensor/link/c/basic.py\", line 1110, in __compile__\n",
      "    thunk, module = self.cthunk_factory(\n",
      "                    ^^^^^^^^^^^^^^^^^^^^\n",
      "  File \"/opt/homebrew/Caskroom/miniconda/base/envs/personal/lib/python3.12/site-packages/pytensor/link/c/basic.py\", line 1632, in cthunk_factory\n",
      "    module = cache.module_from_key(key=key, lnk=self)\n",
      "             ^^^^^^^^^^^^^^^^^^^^^^^^^^^^^^^^^^^^^^^^\n",
      "  File \"/opt/homebrew/Caskroom/miniconda/base/envs/personal/lib/python3.12/site-packages/pytensor/link/c/cmodule.py\", line 1250, in module_from_key\n",
      "    module = lnk.compile_cmodule(location)\n",
      "             ^^^^^^^^^^^^^^^^^^^^^^^^^^^^^\n",
      "  File \"/opt/homebrew/Caskroom/miniconda/base/envs/personal/lib/python3.12/site-packages/pytensor/link/c/basic.py\", line 1533, in compile_cmodule\n",
      "    module = c_compiler.compile_str(\n",
      "             ^^^^^^^^^^^^^^^^^^^^^^^\n",
      "  File \"/opt/homebrew/Caskroom/miniconda/base/envs/personal/lib/python3.12/site-packages/pytensor/link/c/cmodule.py\", line 2651, in compile_str\n",
      "    raise CompileError(\n",
      "pytensor.link.c.exceptions.CompileError: Compilation failed (return status=1):\n",
      "/opt/homebrew/Caskroom/miniconda/base/envs/personal/bin/clang++ -dynamiclib -g -O3 -fno-math-errno -Wno-unused-label -Wno-unused-variable -Wno-write-strings -Wno-c++11-narrowing -fno-exceptions -fno-unwind-tables -fno-asynchronous-unwind-tables -DNPY_NO_DEPRECATED_API=NPY_1_7_API_VERSION -fPIC -undefined dynamic_lookup -I/opt/homebrew/Caskroom/miniconda/base/envs/personal/lib/python3.12/site-packages/numpy/core/include -I/opt/homebrew/Caskroom/miniconda/base/envs/personal/include/python3.12 -I/opt/homebrew/Caskroom/miniconda/base/envs/personal/lib/python3.12/site-packages/pytensor/link/c/c_code -L/opt/homebrew/Caskroom/miniconda/base/envs/personal/lib -fvisibility=hidden -o /Users/jpark/.pytensor/compiledir_macOS-15.1.1-arm64-arm-64bit-arm-3.12.4-64/tmp0dolvunv/maf7dfc2b98019ae231490759913de9c7eae2cf26062201cb60a34079dffa7f98.so /Users/jpark/.pytensor/compiledir_macOS-15.1.1-arm64-arm-64bit-arm-3.12.4-64/tmp0dolvunv/mod.cpp\n",
      "In file included from /Users/jpark/.pytensor/compiledir_macOS-15.1.1-arm64-arm-64bit-arm-3.12.4-64/tmp0dolvunv/mod.cpp:1:\n",
      "In file included from /opt/homebrew/Caskroom/miniconda/base/envs/personal/include/python3.12/Python.h:23:\n",
      "/opt/homebrew/Caskroom/miniconda/base/envs/personal/bin/../include/c++/v1/stdlib.h:93:15: fatal error: 'stdlib.h' file not found\n",
      "#include_next <stdlib.h>\n",
      "              ^~~~~~~~~~\n",
      "1 error generated.\n",
      "\n",
      "\n"
     ]
    },
    {
     "name": "stdout",
     "output_type": "stream",
     "text": [
      "\n",
      "You can find the C code in this temporary file: /var/folders/vd/j_d7xxb56hg064_h1h3mkqt80000gn/T/pytensor_compilation_error_006p8k1g\n"
     ]
    },
    {
     "name": "stderr",
     "output_type": "stream",
     "text": [
      "ERROR (pytensor.graph.rewriting.basic): Rewrite failure due to: constant_folding\n",
      "ERROR (pytensor.graph.rewriting.basic): node: Cast{float64}(1.0)\n",
      "ERROR (pytensor.graph.rewriting.basic): TRACEBACK:\n",
      "ERROR (pytensor.graph.rewriting.basic): Traceback (most recent call last):\n",
      "  File \"/opt/homebrew/Caskroom/miniconda/base/envs/personal/lib/python3.12/site-packages/pytensor/graph/rewriting/basic.py\", line 1920, in process_node\n",
      "    replacements = node_rewriter.transform(fgraph, node)\n",
      "                   ^^^^^^^^^^^^^^^^^^^^^^^^^^^^^^^^^^^^^\n",
      "  File \"/opt/homebrew/Caskroom/miniconda/base/envs/personal/lib/python3.12/site-packages/pytensor/graph/rewriting/basic.py\", line 1081, in transform\n",
      "    return self.fn(fgraph, node)\n",
      "           ^^^^^^^^^^^^^^^^^^^^^\n",
      "  File \"/opt/homebrew/Caskroom/miniconda/base/envs/personal/lib/python3.12/site-packages/pytensor/tensor/rewriting/basic.py\", line 1121, in constant_folding\n",
      "    thunk = node.op.make_thunk(node, storage_map, compute_map, no_recycling=[])\n",
      "            ^^^^^^^^^^^^^^^^^^^^^^^^^^^^^^^^^^^^^^^^^^^^^^^^^^^^^^^^^^^^^^^^^^^\n",
      "  File \"/opt/homebrew/Caskroom/miniconda/base/envs/personal/lib/python3.12/site-packages/pytensor/link/c/op.py\", line 119, in make_thunk\n",
      "    return self.make_c_thunk(node, storage_map, compute_map, no_recycling)\n",
      "           ^^^^^^^^^^^^^^^^^^^^^^^^^^^^^^^^^^^^^^^^^^^^^^^^^^^^^^^^^^^^^^^\n",
      "  File \"/opt/homebrew/Caskroom/miniconda/base/envs/personal/lib/python3.12/site-packages/pytensor/link/c/op.py\", line 84, in make_c_thunk\n",
      "    outputs = cl.make_thunk(\n",
      "              ^^^^^^^^^^^^^^\n",
      "  File \"/opt/homebrew/Caskroom/miniconda/base/envs/personal/lib/python3.12/site-packages/pytensor/link/c/basic.py\", line 1190, in make_thunk\n",
      "    cthunk, module, in_storage, out_storage, error_storage = self.__compile__(\n",
      "                                                             ^^^^^^^^^^^^^^^^^\n",
      "  File \"/opt/homebrew/Caskroom/miniconda/base/envs/personal/lib/python3.12/site-packages/pytensor/link/c/basic.py\", line 1110, in __compile__\n",
      "    thunk, module = self.cthunk_factory(\n",
      "                    ^^^^^^^^^^^^^^^^^^^^\n",
      "  File \"/opt/homebrew/Caskroom/miniconda/base/envs/personal/lib/python3.12/site-packages/pytensor/link/c/basic.py\", line 1632, in cthunk_factory\n",
      "    module = cache.module_from_key(key=key, lnk=self)\n",
      "             ^^^^^^^^^^^^^^^^^^^^^^^^^^^^^^^^^^^^^^^^\n",
      "  File \"/opt/homebrew/Caskroom/miniconda/base/envs/personal/lib/python3.12/site-packages/pytensor/link/c/cmodule.py\", line 1250, in module_from_key\n",
      "    module = lnk.compile_cmodule(location)\n",
      "             ^^^^^^^^^^^^^^^^^^^^^^^^^^^^^\n",
      "  File \"/opt/homebrew/Caskroom/miniconda/base/envs/personal/lib/python3.12/site-packages/pytensor/link/c/basic.py\", line 1533, in compile_cmodule\n",
      "    module = c_compiler.compile_str(\n",
      "             ^^^^^^^^^^^^^^^^^^^^^^^\n",
      "  File \"/opt/homebrew/Caskroom/miniconda/base/envs/personal/lib/python3.12/site-packages/pytensor/link/c/cmodule.py\", line 2651, in compile_str\n",
      "    raise CompileError(\n",
      "pytensor.link.c.exceptions.CompileError: Compilation failed (return status=1):\n",
      "/opt/homebrew/Caskroom/miniconda/base/envs/personal/bin/clang++ -dynamiclib -g -O3 -fno-math-errno -Wno-unused-label -Wno-unused-variable -Wno-write-strings -Wno-c++11-narrowing -fno-exceptions -fno-unwind-tables -fno-asynchronous-unwind-tables -DNPY_NO_DEPRECATED_API=NPY_1_7_API_VERSION -fPIC -undefined dynamic_lookup -I/opt/homebrew/Caskroom/miniconda/base/envs/personal/lib/python3.12/site-packages/numpy/core/include -I/opt/homebrew/Caskroom/miniconda/base/envs/personal/include/python3.12 -I/opt/homebrew/Caskroom/miniconda/base/envs/personal/lib/python3.12/site-packages/pytensor/link/c/c_code -L/opt/homebrew/Caskroom/miniconda/base/envs/personal/lib -fvisibility=hidden -o /Users/jpark/.pytensor/compiledir_macOS-15.1.1-arm64-arm-64bit-arm-3.12.4-64/tmp6uny895y/m7a09406a34cd6b55f2b7a7d92f1d6d474b2c378f72ea35830c7f1d567f953f37.so /Users/jpark/.pytensor/compiledir_macOS-15.1.1-arm64-arm-64bit-arm-3.12.4-64/tmp6uny895y/mod.cpp\n",
      "In file included from /Users/jpark/.pytensor/compiledir_macOS-15.1.1-arm64-arm-64bit-arm-3.12.4-64/tmp6uny895y/mod.cpp:1:\n",
      "In file included from /opt/homebrew/Caskroom/miniconda/base/envs/personal/include/python3.12/Python.h:23:\n",
      "/opt/homebrew/Caskroom/miniconda/base/envs/personal/bin/../include/c++/v1/stdlib.h:93:15: fatal error: 'stdlib.h' file not found\n",
      "#include_next <stdlib.h>\n",
      "              ^~~~~~~~~~\n",
      "1 error generated.\n",
      "\n",
      "\n"
     ]
    },
    {
     "name": "stdout",
     "output_type": "stream",
     "text": [
      "\n",
      "You can find the C code in this temporary file: /var/folders/vd/j_d7xxb56hg064_h1h3mkqt80000gn/T/pytensor_compilation_error_b2v6irt7\n"
     ]
    },
    {
     "name": "stderr",
     "output_type": "stream",
     "text": [
      "ERROR (pytensor.graph.rewriting.basic): Rewrite failure due to: constant_folding\n",
      "ERROR (pytensor.graph.rewriting.basic): node: Cast{float64}(0)\n",
      "ERROR (pytensor.graph.rewriting.basic): TRACEBACK:\n",
      "ERROR (pytensor.graph.rewriting.basic): Traceback (most recent call last):\n",
      "  File \"/opt/homebrew/Caskroom/miniconda/base/envs/personal/lib/python3.12/site-packages/pytensor/graph/rewriting/basic.py\", line 1920, in process_node\n",
      "    replacements = node_rewriter.transform(fgraph, node)\n",
      "                   ^^^^^^^^^^^^^^^^^^^^^^^^^^^^^^^^^^^^^\n",
      "  File \"/opt/homebrew/Caskroom/miniconda/base/envs/personal/lib/python3.12/site-packages/pytensor/graph/rewriting/basic.py\", line 1081, in transform\n",
      "    return self.fn(fgraph, node)\n",
      "           ^^^^^^^^^^^^^^^^^^^^^\n",
      "  File \"/opt/homebrew/Caskroom/miniconda/base/envs/personal/lib/python3.12/site-packages/pytensor/tensor/rewriting/basic.py\", line 1121, in constant_folding\n",
      "    thunk = node.op.make_thunk(node, storage_map, compute_map, no_recycling=[])\n",
      "            ^^^^^^^^^^^^^^^^^^^^^^^^^^^^^^^^^^^^^^^^^^^^^^^^^^^^^^^^^^^^^^^^^^^\n",
      "  File \"/opt/homebrew/Caskroom/miniconda/base/envs/personal/lib/python3.12/site-packages/pytensor/link/c/op.py\", line 119, in make_thunk\n",
      "    return self.make_c_thunk(node, storage_map, compute_map, no_recycling)\n",
      "           ^^^^^^^^^^^^^^^^^^^^^^^^^^^^^^^^^^^^^^^^^^^^^^^^^^^^^^^^^^^^^^^\n",
      "  File \"/opt/homebrew/Caskroom/miniconda/base/envs/personal/lib/python3.12/site-packages/pytensor/link/c/op.py\", line 84, in make_c_thunk\n",
      "    outputs = cl.make_thunk(\n",
      "              ^^^^^^^^^^^^^^\n",
      "  File \"/opt/homebrew/Caskroom/miniconda/base/envs/personal/lib/python3.12/site-packages/pytensor/link/c/basic.py\", line 1190, in make_thunk\n",
      "    cthunk, module, in_storage, out_storage, error_storage = self.__compile__(\n",
      "                                                             ^^^^^^^^^^^^^^^^^\n",
      "  File \"/opt/homebrew/Caskroom/miniconda/base/envs/personal/lib/python3.12/site-packages/pytensor/link/c/basic.py\", line 1110, in __compile__\n",
      "    thunk, module = self.cthunk_factory(\n",
      "                    ^^^^^^^^^^^^^^^^^^^^\n",
      "  File \"/opt/homebrew/Caskroom/miniconda/base/envs/personal/lib/python3.12/site-packages/pytensor/link/c/basic.py\", line 1632, in cthunk_factory\n",
      "    module = cache.module_from_key(key=key, lnk=self)\n",
      "             ^^^^^^^^^^^^^^^^^^^^^^^^^^^^^^^^^^^^^^^^\n",
      "  File \"/opt/homebrew/Caskroom/miniconda/base/envs/personal/lib/python3.12/site-packages/pytensor/link/c/cmodule.py\", line 1250, in module_from_key\n",
      "    module = lnk.compile_cmodule(location)\n",
      "             ^^^^^^^^^^^^^^^^^^^^^^^^^^^^^\n",
      "  File \"/opt/homebrew/Caskroom/miniconda/base/envs/personal/lib/python3.12/site-packages/pytensor/link/c/basic.py\", line 1533, in compile_cmodule\n",
      "    module = c_compiler.compile_str(\n",
      "             ^^^^^^^^^^^^^^^^^^^^^^^\n",
      "  File \"/opt/homebrew/Caskroom/miniconda/base/envs/personal/lib/python3.12/site-packages/pytensor/link/c/cmodule.py\", line 2651, in compile_str\n",
      "    raise CompileError(\n",
      "pytensor.link.c.exceptions.CompileError: Compilation failed (return status=1):\n",
      "/opt/homebrew/Caskroom/miniconda/base/envs/personal/bin/clang++ -dynamiclib -g -O3 -fno-math-errno -Wno-unused-label -Wno-unused-variable -Wno-write-strings -Wno-c++11-narrowing -fno-exceptions -fno-unwind-tables -fno-asynchronous-unwind-tables -DNPY_NO_DEPRECATED_API=NPY_1_7_API_VERSION -fPIC -undefined dynamic_lookup -I/opt/homebrew/Caskroom/miniconda/base/envs/personal/lib/python3.12/site-packages/numpy/core/include -I/opt/homebrew/Caskroom/miniconda/base/envs/personal/include/python3.12 -I/opt/homebrew/Caskroom/miniconda/base/envs/personal/lib/python3.12/site-packages/pytensor/link/c/c_code -L/opt/homebrew/Caskroom/miniconda/base/envs/personal/lib -fvisibility=hidden -o /Users/jpark/.pytensor/compiledir_macOS-15.1.1-arm64-arm-64bit-arm-3.12.4-64/tmpqymsoc75/maf7dfc2b98019ae231490759913de9c7eae2cf26062201cb60a34079dffa7f98.so /Users/jpark/.pytensor/compiledir_macOS-15.1.1-arm64-arm-64bit-arm-3.12.4-64/tmpqymsoc75/mod.cpp\n",
      "In file included from /Users/jpark/.pytensor/compiledir_macOS-15.1.1-arm64-arm-64bit-arm-3.12.4-64/tmpqymsoc75/mod.cpp:1:\n",
      "In file included from /opt/homebrew/Caskroom/miniconda/base/envs/personal/include/python3.12/Python.h:23:\n",
      "/opt/homebrew/Caskroom/miniconda/base/envs/personal/bin/../include/c++/v1/stdlib.h:93:15: fatal error: 'stdlib.h' file not found\n",
      "#include_next <stdlib.h>\n",
      "              ^~~~~~~~~~\n",
      "1 error generated.\n",
      "\n",
      "\n"
     ]
    },
    {
     "name": "stdout",
     "output_type": "stream",
     "text": [
      "\n",
      "You can find the C code in this temporary file: /var/folders/vd/j_d7xxb56hg064_h1h3mkqt80000gn/T/pytensor_compilation_error_jjdcwgyv\n"
     ]
    },
    {
     "name": "stderr",
     "output_type": "stream",
     "text": [
      "ERROR (pytensor.graph.rewriting.basic): Rewrite failure due to: constant_folding\n",
      "ERROR (pytensor.graph.rewriting.basic): node: Cast{float64}(1.0)\n",
      "ERROR (pytensor.graph.rewriting.basic): TRACEBACK:\n",
      "ERROR (pytensor.graph.rewriting.basic): Traceback (most recent call last):\n",
      "  File \"/opt/homebrew/Caskroom/miniconda/base/envs/personal/lib/python3.12/site-packages/pytensor/graph/rewriting/basic.py\", line 1920, in process_node\n",
      "    replacements = node_rewriter.transform(fgraph, node)\n",
      "                   ^^^^^^^^^^^^^^^^^^^^^^^^^^^^^^^^^^^^^\n",
      "  File \"/opt/homebrew/Caskroom/miniconda/base/envs/personal/lib/python3.12/site-packages/pytensor/graph/rewriting/basic.py\", line 1081, in transform\n",
      "    return self.fn(fgraph, node)\n",
      "           ^^^^^^^^^^^^^^^^^^^^^\n",
      "  File \"/opt/homebrew/Caskroom/miniconda/base/envs/personal/lib/python3.12/site-packages/pytensor/tensor/rewriting/basic.py\", line 1121, in constant_folding\n",
      "    thunk = node.op.make_thunk(node, storage_map, compute_map, no_recycling=[])\n",
      "            ^^^^^^^^^^^^^^^^^^^^^^^^^^^^^^^^^^^^^^^^^^^^^^^^^^^^^^^^^^^^^^^^^^^\n",
      "  File \"/opt/homebrew/Caskroom/miniconda/base/envs/personal/lib/python3.12/site-packages/pytensor/link/c/op.py\", line 119, in make_thunk\n",
      "    return self.make_c_thunk(node, storage_map, compute_map, no_recycling)\n",
      "           ^^^^^^^^^^^^^^^^^^^^^^^^^^^^^^^^^^^^^^^^^^^^^^^^^^^^^^^^^^^^^^^\n",
      "  File \"/opt/homebrew/Caskroom/miniconda/base/envs/personal/lib/python3.12/site-packages/pytensor/link/c/op.py\", line 84, in make_c_thunk\n",
      "    outputs = cl.make_thunk(\n",
      "              ^^^^^^^^^^^^^^\n",
      "  File \"/opt/homebrew/Caskroom/miniconda/base/envs/personal/lib/python3.12/site-packages/pytensor/link/c/basic.py\", line 1190, in make_thunk\n",
      "    cthunk, module, in_storage, out_storage, error_storage = self.__compile__(\n",
      "                                                             ^^^^^^^^^^^^^^^^^\n",
      "  File \"/opt/homebrew/Caskroom/miniconda/base/envs/personal/lib/python3.12/site-packages/pytensor/link/c/basic.py\", line 1110, in __compile__\n",
      "    thunk, module = self.cthunk_factory(\n",
      "                    ^^^^^^^^^^^^^^^^^^^^\n",
      "  File \"/opt/homebrew/Caskroom/miniconda/base/envs/personal/lib/python3.12/site-packages/pytensor/link/c/basic.py\", line 1632, in cthunk_factory\n",
      "    module = cache.module_from_key(key=key, lnk=self)\n",
      "             ^^^^^^^^^^^^^^^^^^^^^^^^^^^^^^^^^^^^^^^^\n",
      "  File \"/opt/homebrew/Caskroom/miniconda/base/envs/personal/lib/python3.12/site-packages/pytensor/link/c/cmodule.py\", line 1250, in module_from_key\n",
      "    module = lnk.compile_cmodule(location)\n",
      "             ^^^^^^^^^^^^^^^^^^^^^^^^^^^^^\n",
      "  File \"/opt/homebrew/Caskroom/miniconda/base/envs/personal/lib/python3.12/site-packages/pytensor/link/c/basic.py\", line 1533, in compile_cmodule\n",
      "    module = c_compiler.compile_str(\n",
      "             ^^^^^^^^^^^^^^^^^^^^^^^\n",
      "  File \"/opt/homebrew/Caskroom/miniconda/base/envs/personal/lib/python3.12/site-packages/pytensor/link/c/cmodule.py\", line 2651, in compile_str\n",
      "    raise CompileError(\n",
      "pytensor.link.c.exceptions.CompileError: Compilation failed (return status=1):\n",
      "/opt/homebrew/Caskroom/miniconda/base/envs/personal/bin/clang++ -dynamiclib -g -O3 -fno-math-errno -Wno-unused-label -Wno-unused-variable -Wno-write-strings -Wno-c++11-narrowing -fno-exceptions -fno-unwind-tables -fno-asynchronous-unwind-tables -DNPY_NO_DEPRECATED_API=NPY_1_7_API_VERSION -fPIC -undefined dynamic_lookup -I/opt/homebrew/Caskroom/miniconda/base/envs/personal/lib/python3.12/site-packages/numpy/core/include -I/opt/homebrew/Caskroom/miniconda/base/envs/personal/include/python3.12 -I/opt/homebrew/Caskroom/miniconda/base/envs/personal/lib/python3.12/site-packages/pytensor/link/c/c_code -L/opt/homebrew/Caskroom/miniconda/base/envs/personal/lib -fvisibility=hidden -o /Users/jpark/.pytensor/compiledir_macOS-15.1.1-arm64-arm-64bit-arm-3.12.4-64/tmpejcel5d9/m7a09406a34cd6b55f2b7a7d92f1d6d474b2c378f72ea35830c7f1d567f953f37.so /Users/jpark/.pytensor/compiledir_macOS-15.1.1-arm64-arm-64bit-arm-3.12.4-64/tmpejcel5d9/mod.cpp\n",
      "In file included from /Users/jpark/.pytensor/compiledir_macOS-15.1.1-arm64-arm-64bit-arm-3.12.4-64/tmpejcel5d9/mod.cpp:1:\n",
      "In file included from /opt/homebrew/Caskroom/miniconda/base/envs/personal/include/python3.12/Python.h:23:\n",
      "/opt/homebrew/Caskroom/miniconda/base/envs/personal/bin/../include/c++/v1/stdlib.h:93:15: fatal error: 'stdlib.h' file not found\n",
      "#include_next <stdlib.h>\n",
      "              ^~~~~~~~~~\n",
      "1 error generated.\n",
      "\n",
      "\n"
     ]
    },
    {
     "name": "stdout",
     "output_type": "stream",
     "text": [
      "\n",
      "You can find the C code in this temporary file: /var/folders/vd/j_d7xxb56hg064_h1h3mkqt80000gn/T/pytensor_compilation_error_phup9udh\n",
      "\n",
      "You can find the C code in this temporary file: /var/folders/vd/j_d7xxb56hg064_h1h3mkqt80000gn/T/pytensor_compilation_error_r0tdqm7x\n"
     ]
    },
    {
     "ename": "CompileError",
     "evalue": "Compilation failed (return status=1):\n/opt/homebrew/Caskroom/miniconda/base/envs/personal/bin/clang++ -dynamiclib -g -Wno-c++11-narrowing -fno-exceptions -fno-unwind-tables -fno-asynchronous-unwind-tables -DNPY_NO_DEPRECATED_API=NPY_1_7_API_VERSION -fPIC -undefined dynamic_lookup -I/opt/homebrew/Caskroom/miniconda/base/envs/personal/lib/python3.12/site-packages/numpy/core/include -I/opt/homebrew/Caskroom/miniconda/base/envs/personal/include/python3.12 -I/opt/homebrew/Caskroom/miniconda/base/envs/personal/lib/python3.12/site-packages/pytensor/link/c/c_code -L/opt/homebrew/Caskroom/miniconda/base/envs/personal/lib -fvisibility=hidden -o /Users/jpark/.pytensor/compiledir_macOS-15.1.1-arm64-arm-64bit-arm-3.12.4-64/lazylinker_ext/lazylinker_ext.so /Users/jpark/.pytensor/compiledir_macOS-15.1.1-arm64-arm-64bit-arm-3.12.4-64/lazylinker_ext/mod.cpp\nIn file included from /Users/jpark/.pytensor/compiledir_macOS-15.1.1-arm64-arm-64bit-arm-3.12.4-64/lazylinker_ext/mod.cpp:1:\nIn file included from /opt/homebrew/Caskroom/miniconda/base/envs/personal/lib/python3.12/site-packages/pytensor/link/c/c_code/pytensor_mod_helper.h:4:\nIn file included from /opt/homebrew/Caskroom/miniconda/base/envs/personal/include/python3.12/Python.h:23:\n/opt/homebrew/Caskroom/miniconda/base/envs/personal/bin/../include/c++/v1/stdlib.h:93:15: fatal error: 'stdlib.h' file not found\n#include_next <stdlib.h>\n              ^~~~~~~~~~\n1 error generated.\n",
     "output_type": "error",
     "traceback": [
      "\u001b[0;31m---------------------------------------------------------------------------\u001b[0m",
      "\u001b[0;31mImportError\u001b[0m                               Traceback (most recent call last)",
      "File \u001b[0;32m/opt/homebrew/Caskroom/miniconda/base/envs/personal/lib/python3.12/site-packages/pytensor/link/c/lazylinker_c.py:78\u001b[0m\n\u001b[1;32m     77\u001b[0m         \u001b[38;5;28;01mif\u001b[39;00m version \u001b[38;5;241m!=\u001b[39m actual_version:\n\u001b[0;32m---> 78\u001b[0m             \u001b[38;5;28;01mraise\u001b[39;00m \u001b[38;5;167;01mImportError\u001b[39;00m(\n\u001b[1;32m     79\u001b[0m                 \u001b[38;5;124m\"\u001b[39m\u001b[38;5;124mVersion check of the existing lazylinker compiled file.\u001b[39m\u001b[38;5;124m\"\u001b[39m\n\u001b[1;32m     80\u001b[0m                 \u001b[38;5;124mf\u001b[39m\u001b[38;5;124m\"\u001b[39m\u001b[38;5;124m Looking for version \u001b[39m\u001b[38;5;132;01m{\u001b[39;00mversion\u001b[38;5;132;01m}\u001b[39;00m\u001b[38;5;124m, but found \u001b[39m\u001b[38;5;132;01m{\u001b[39;00mactual_version\u001b[38;5;132;01m}\u001b[39;00m\u001b[38;5;124m. \u001b[39m\u001b[38;5;124m\"\u001b[39m\n\u001b[1;32m     81\u001b[0m                 \u001b[38;5;124mf\u001b[39m\u001b[38;5;124m\"\u001b[39m\u001b[38;5;124mExtra debug information: force_compile=\u001b[39m\u001b[38;5;132;01m{\u001b[39;00mforce_compile\u001b[38;5;132;01m}\u001b[39;00m\u001b[38;5;124m, _need_reload=\u001b[39m\u001b[38;5;132;01m{\u001b[39;00m_need_reload\u001b[38;5;132;01m}\u001b[39;00m\u001b[38;5;124m\"\u001b[39m\n\u001b[1;32m     82\u001b[0m             )\n\u001b[1;32m     83\u001b[0m \u001b[38;5;28;01mexcept\u001b[39;00m \u001b[38;5;167;01mImportError\u001b[39;00m:\n",
      "\u001b[0;31mImportError\u001b[0m: Version check of the existing lazylinker compiled file. Looking for version 0.212, but found None. Extra debug information: force_compile=False, _need_reload=True",
      "\nDuring handling of the above exception, another exception occurred:\n",
      "\u001b[0;31mImportError\u001b[0m                               Traceback (most recent call last)",
      "File \u001b[0;32m/opt/homebrew/Caskroom/miniconda/base/envs/personal/lib/python3.12/site-packages/pytensor/link/c/lazylinker_c.py:99\u001b[0m\n\u001b[1;32m     98\u001b[0m     \u001b[38;5;28;01mif\u001b[39;00m version \u001b[38;5;241m!=\u001b[39m actual_version:\n\u001b[0;32m---> 99\u001b[0m         \u001b[38;5;28;01mraise\u001b[39;00m \u001b[38;5;167;01mImportError\u001b[39;00m(\n\u001b[1;32m    100\u001b[0m             \u001b[38;5;124m\"\u001b[39m\u001b[38;5;124mVersion check of the existing lazylinker compiled file.\u001b[39m\u001b[38;5;124m\"\u001b[39m\n\u001b[1;32m    101\u001b[0m             \u001b[38;5;124mf\u001b[39m\u001b[38;5;124m\"\u001b[39m\u001b[38;5;124m Looking for version \u001b[39m\u001b[38;5;132;01m{\u001b[39;00mversion\u001b[38;5;132;01m}\u001b[39;00m\u001b[38;5;124m, but found \u001b[39m\u001b[38;5;132;01m{\u001b[39;00mactual_version\u001b[38;5;132;01m}\u001b[39;00m\u001b[38;5;124m. \u001b[39m\u001b[38;5;124m\"\u001b[39m\n\u001b[1;32m    102\u001b[0m             \u001b[38;5;124mf\u001b[39m\u001b[38;5;124m\"\u001b[39m\u001b[38;5;124mExtra debug information: force_compile=\u001b[39m\u001b[38;5;132;01m{\u001b[39;00mforce_compile\u001b[38;5;132;01m}\u001b[39;00m\u001b[38;5;124m, _need_reload=\u001b[39m\u001b[38;5;132;01m{\u001b[39;00m_need_reload\u001b[38;5;132;01m}\u001b[39;00m\u001b[38;5;124m\"\u001b[39m\n\u001b[1;32m    103\u001b[0m         )\n\u001b[1;32m    104\u001b[0m \u001b[38;5;28;01mexcept\u001b[39;00m \u001b[38;5;167;01mImportError\u001b[39;00m:\n\u001b[1;32m    105\u001b[0m     \u001b[38;5;66;03m# It is useless to try to compile if there isn't any\u001b[39;00m\n\u001b[1;32m    106\u001b[0m     \u001b[38;5;66;03m# compiler!  But we still want to try to load it, in case\u001b[39;00m\n\u001b[1;32m    107\u001b[0m     \u001b[38;5;66;03m# the cache was copied from another computer.\u001b[39;00m\n",
      "\u001b[0;31mImportError\u001b[0m: Version check of the existing lazylinker compiled file. Looking for version 0.212, but found None. Extra debug information: force_compile=False, _need_reload=True",
      "\nDuring handling of the above exception, another exception occurred:\n",
      "\u001b[0;31mCompileError\u001b[0m                              Traceback (most recent call last)",
      "Cell \u001b[0;32mIn[7], line 4\u001b[0m\n\u001b[1;32m      1\u001b[0m m \u001b[38;5;241m=\u001b[39m \u001b[38;5;241m10000\u001b[39m\n\u001b[1;32m      2\u001b[0m \u001b[38;5;28;01mwith\u001b[39;00m conjugate_normal_gamma:\n\u001b[1;32m      3\u001b[0m     \u001b[38;5;66;03m# draw m posterior samples\u001b[39;00m\n\u001b[0;32m----> 4\u001b[0m     idata \u001b[38;5;241m=\u001b[39m pymc\u001b[38;5;241m.\u001b[39msample(draws\u001b[38;5;241m=\u001b[39mm, chains\u001b[38;5;241m=\u001b[39m\u001b[38;5;241m2\u001b[39m, tune\u001b[38;5;241m=\u001b[39m\u001b[38;5;241m100\u001b[39m)\n",
      "File \u001b[0;32m/opt/homebrew/Caskroom/miniconda/base/envs/personal/lib/python3.12/site-packages/pymc/sampling/mcmc.py:714\u001b[0m, in \u001b[0;36msample\u001b[0;34m(draws, tune, chains, cores, random_seed, progressbar, progressbar_theme, step, var_names, nuts_sampler, initvals, init, jitter_max_retries, n_init, trace, discard_tuned_samples, compute_convergence_checks, keep_warning_stat, return_inferencedata, idata_kwargs, nuts_sampler_kwargs, callback, mp_ctx, blas_cores, model, **kwargs)\u001b[0m\n\u001b[1;32m    711\u001b[0m         auto_nuts_init \u001b[38;5;241m=\u001b[39m \u001b[38;5;28;01mFalse\u001b[39;00m\n\u001b[1;32m    713\u001b[0m initial_points \u001b[38;5;241m=\u001b[39m \u001b[38;5;28;01mNone\u001b[39;00m\n\u001b[0;32m--> 714\u001b[0m step \u001b[38;5;241m=\u001b[39m assign_step_methods(model, step, methods\u001b[38;5;241m=\u001b[39mpm\u001b[38;5;241m.\u001b[39mSTEP_METHODS, step_kwargs\u001b[38;5;241m=\u001b[39mkwargs)\n\u001b[1;32m    716\u001b[0m \u001b[38;5;28;01mif\u001b[39;00m nuts_sampler \u001b[38;5;241m!=\u001b[39m \u001b[38;5;124m\"\u001b[39m\u001b[38;5;124mpymc\u001b[39m\u001b[38;5;124m\"\u001b[39m:\n\u001b[1;32m    717\u001b[0m     \u001b[38;5;28;01mif\u001b[39;00m \u001b[38;5;129;01mnot\u001b[39;00m \u001b[38;5;28misinstance\u001b[39m(step, NUTS):\n",
      "File \u001b[0;32m/opt/homebrew/Caskroom/miniconda/base/envs/personal/lib/python3.12/site-packages/pymc/sampling/mcmc.py:237\u001b[0m, in \u001b[0;36massign_step_methods\u001b[0;34m(model, step, methods, step_kwargs)\u001b[0m\n\u001b[1;32m    229\u001b[0m         selected \u001b[38;5;241m=\u001b[39m \u001b[38;5;28mmax\u001b[39m(\n\u001b[1;32m    230\u001b[0m             methods_list,\n\u001b[1;32m    231\u001b[0m             key\u001b[38;5;241m=\u001b[39m\u001b[38;5;28;01mlambda\u001b[39;00m method, var\u001b[38;5;241m=\u001b[39mrv_var, has_gradient\u001b[38;5;241m=\u001b[39mhas_gradient: method\u001b[38;5;241m.\u001b[39m_competence(  \u001b[38;5;66;03m# type: ignore\u001b[39;00m\n\u001b[1;32m    232\u001b[0m                 var, has_gradient\n\u001b[1;32m    233\u001b[0m             ),\n\u001b[1;32m    234\u001b[0m         )\n\u001b[1;32m    235\u001b[0m         selected_steps\u001b[38;5;241m.\u001b[39msetdefault(selected, [])\u001b[38;5;241m.\u001b[39mappend(var)\n\u001b[0;32m--> 237\u001b[0m \u001b[38;5;28;01mreturn\u001b[39;00m instantiate_steppers(model, steps, selected_steps, step_kwargs)\n",
      "File \u001b[0;32m/opt/homebrew/Caskroom/miniconda/base/envs/personal/lib/python3.12/site-packages/pymc/sampling/mcmc.py:138\u001b[0m, in \u001b[0;36minstantiate_steppers\u001b[0;34m(model, steps, selected_steps, step_kwargs)\u001b[0m\n\u001b[1;32m    136\u001b[0m         args \u001b[38;5;241m=\u001b[39m step_kwargs\u001b[38;5;241m.\u001b[39mget(name, {})\n\u001b[1;32m    137\u001b[0m         used_keys\u001b[38;5;241m.\u001b[39madd(name)\n\u001b[0;32m--> 138\u001b[0m         step \u001b[38;5;241m=\u001b[39m step_class(\u001b[38;5;28mvars\u001b[39m\u001b[38;5;241m=\u001b[39m\u001b[38;5;28mvars\u001b[39m, model\u001b[38;5;241m=\u001b[39mmodel, \u001b[38;5;241m*\u001b[39m\u001b[38;5;241m*\u001b[39margs)\n\u001b[1;32m    139\u001b[0m         steps\u001b[38;5;241m.\u001b[39mappend(step)\n\u001b[1;32m    141\u001b[0m unused_args \u001b[38;5;241m=\u001b[39m \u001b[38;5;28mset\u001b[39m(step_kwargs)\u001b[38;5;241m.\u001b[39mdifference(used_keys)\n",
      "File \u001b[0;32m/opt/homebrew/Caskroom/miniconda/base/envs/personal/lib/python3.12/site-packages/pymc/step_methods/hmc/nuts.py:180\u001b[0m, in \u001b[0;36mNUTS.__init__\u001b[0;34m(self, vars, max_treedepth, early_max_treedepth, **kwargs)\u001b[0m\n\u001b[1;32m    122\u001b[0m \u001b[38;5;28;01mdef\u001b[39;00m \u001b[38;5;21m__init__\u001b[39m(\u001b[38;5;28mself\u001b[39m, \u001b[38;5;28mvars\u001b[39m\u001b[38;5;241m=\u001b[39m\u001b[38;5;28;01mNone\u001b[39;00m, max_treedepth\u001b[38;5;241m=\u001b[39m\u001b[38;5;241m10\u001b[39m, early_max_treedepth\u001b[38;5;241m=\u001b[39m\u001b[38;5;241m8\u001b[39m, \u001b[38;5;241m*\u001b[39m\u001b[38;5;241m*\u001b[39mkwargs):\n\u001b[1;32m    123\u001b[0m \u001b[38;5;250m    \u001b[39m\u001b[38;5;124mr\u001b[39m\u001b[38;5;124;03m\"\"\"Set up the No-U-Turn sampler.\u001b[39;00m\n\u001b[1;32m    124\u001b[0m \n\u001b[1;32m    125\u001b[0m \u001b[38;5;124;03m    Parameters\u001b[39;00m\n\u001b[0;32m   (...)\u001b[0m\n\u001b[1;32m    178\u001b[0m \u001b[38;5;124;03m    `pm.sample` to the desired number of tuning steps.\u001b[39;00m\n\u001b[1;32m    179\u001b[0m \u001b[38;5;124;03m    \"\"\"\u001b[39;00m\n\u001b[0;32m--> 180\u001b[0m     \u001b[38;5;28msuper\u001b[39m()\u001b[38;5;241m.\u001b[39m\u001b[38;5;21m__init__\u001b[39m(\u001b[38;5;28mvars\u001b[39m, \u001b[38;5;241m*\u001b[39m\u001b[38;5;241m*\u001b[39mkwargs)\n\u001b[1;32m    182\u001b[0m     \u001b[38;5;28mself\u001b[39m\u001b[38;5;241m.\u001b[39mmax_treedepth \u001b[38;5;241m=\u001b[39m max_treedepth\n\u001b[1;32m    183\u001b[0m     \u001b[38;5;28mself\u001b[39m\u001b[38;5;241m.\u001b[39mearly_max_treedepth \u001b[38;5;241m=\u001b[39m early_max_treedepth\n",
      "File \u001b[0;32m/opt/homebrew/Caskroom/miniconda/base/envs/personal/lib/python3.12/site-packages/pymc/step_methods/hmc/base_hmc.py:109\u001b[0m, in \u001b[0;36mBaseHMC.__init__\u001b[0;34m(self, vars, scaling, step_scale, is_cov, model, blocked, potential, dtype, Emax, target_accept, gamma, k, t0, adapt_step_size, step_rand, **pytensor_kwargs)\u001b[0m\n\u001b[1;32m    107\u001b[0m \u001b[38;5;28;01melse\u001b[39;00m:\n\u001b[1;32m    108\u001b[0m     \u001b[38;5;28mvars\u001b[39m \u001b[38;5;241m=\u001b[39m get_value_vars_from_user_vars(\u001b[38;5;28mvars\u001b[39m, \u001b[38;5;28mself\u001b[39m\u001b[38;5;241m.\u001b[39m_model)\n\u001b[0;32m--> 109\u001b[0m \u001b[38;5;28msuper\u001b[39m()\u001b[38;5;241m.\u001b[39m\u001b[38;5;21m__init__\u001b[39m(\u001b[38;5;28mvars\u001b[39m, blocked\u001b[38;5;241m=\u001b[39mblocked, model\u001b[38;5;241m=\u001b[39m\u001b[38;5;28mself\u001b[39m\u001b[38;5;241m.\u001b[39m_model, dtype\u001b[38;5;241m=\u001b[39mdtype, \u001b[38;5;241m*\u001b[39m\u001b[38;5;241m*\u001b[39mpytensor_kwargs)\n\u001b[1;32m    111\u001b[0m \u001b[38;5;28mself\u001b[39m\u001b[38;5;241m.\u001b[39madapt_step_size \u001b[38;5;241m=\u001b[39m adapt_step_size\n\u001b[1;32m    112\u001b[0m \u001b[38;5;28mself\u001b[39m\u001b[38;5;241m.\u001b[39mEmax \u001b[38;5;241m=\u001b[39m Emax\n",
      "File \u001b[0;32m/opt/homebrew/Caskroom/miniconda/base/envs/personal/lib/python3.12/site-packages/pymc/step_methods/arraystep.py:163\u001b[0m, in \u001b[0;36mGradientSharedStep.__init__\u001b[0;34m(self, vars, model, blocked, dtype, logp_dlogp_func, **pytensor_kwargs)\u001b[0m\n\u001b[1;32m    160\u001b[0m model \u001b[38;5;241m=\u001b[39m modelcontext(model)\n\u001b[1;32m    162\u001b[0m \u001b[38;5;28;01mif\u001b[39;00m logp_dlogp_func \u001b[38;5;129;01mis\u001b[39;00m \u001b[38;5;28;01mNone\u001b[39;00m:\n\u001b[0;32m--> 163\u001b[0m     func \u001b[38;5;241m=\u001b[39m model\u001b[38;5;241m.\u001b[39mlogp_dlogp_function(\u001b[38;5;28mvars\u001b[39m, dtype\u001b[38;5;241m=\u001b[39mdtype, \u001b[38;5;241m*\u001b[39m\u001b[38;5;241m*\u001b[39mpytensor_kwargs)\n\u001b[1;32m    164\u001b[0m \u001b[38;5;28;01melse\u001b[39;00m:\n\u001b[1;32m    165\u001b[0m     func \u001b[38;5;241m=\u001b[39m logp_dlogp_func\n",
      "File \u001b[0;32m/opt/homebrew/Caskroom/miniconda/base/envs/personal/lib/python3.12/site-packages/pymc/model/core.py:620\u001b[0m, in \u001b[0;36mModel.logp_dlogp_function\u001b[0;34m(self, grad_vars, tempered, **kwargs)\u001b[0m\n\u001b[1;32m    617\u001b[0m     costs \u001b[38;5;241m=\u001b[39m [\u001b[38;5;28mself\u001b[39m\u001b[38;5;241m.\u001b[39mlogp()]\n\u001b[1;32m    619\u001b[0m input_vars \u001b[38;5;241m=\u001b[39m {i \u001b[38;5;28;01mfor\u001b[39;00m i \u001b[38;5;129;01min\u001b[39;00m graph_inputs(costs) \u001b[38;5;28;01mif\u001b[39;00m \u001b[38;5;129;01mnot\u001b[39;00m \u001b[38;5;28misinstance\u001b[39m(i, Constant)}\n\u001b[0;32m--> 620\u001b[0m ip \u001b[38;5;241m=\u001b[39m \u001b[38;5;28mself\u001b[39m\u001b[38;5;241m.\u001b[39minitial_point(\u001b[38;5;241m0\u001b[39m)\n\u001b[1;32m    621\u001b[0m extra_vars_and_values \u001b[38;5;241m=\u001b[39m {\n\u001b[1;32m    622\u001b[0m     var: ip[var\u001b[38;5;241m.\u001b[39mname]\n\u001b[1;32m    623\u001b[0m     \u001b[38;5;28;01mfor\u001b[39;00m var \u001b[38;5;129;01min\u001b[39;00m \u001b[38;5;28mself\u001b[39m\u001b[38;5;241m.\u001b[39mvalue_vars\n\u001b[1;32m    624\u001b[0m     \u001b[38;5;28;01mif\u001b[39;00m var \u001b[38;5;129;01min\u001b[39;00m input_vars \u001b[38;5;129;01mand\u001b[39;00m var \u001b[38;5;129;01mnot\u001b[39;00m \u001b[38;5;129;01min\u001b[39;00m grad_vars\n\u001b[1;32m    625\u001b[0m }\n\u001b[1;32m    626\u001b[0m \u001b[38;5;28;01mreturn\u001b[39;00m ValueGradFunction(costs, grad_vars, extra_vars_and_values, \u001b[38;5;241m*\u001b[39m\u001b[38;5;241m*\u001b[39mkwargs)\n",
      "File \u001b[0;32m/opt/homebrew/Caskroom/miniconda/base/envs/personal/lib/python3.12/site-packages/pymc/model/core.py:1094\u001b[0m, in \u001b[0;36mModel.initial_point\u001b[0;34m(self, random_seed)\u001b[0m\n\u001b[1;32m   1081\u001b[0m \u001b[38;5;28;01mdef\u001b[39;00m \u001b[38;5;21minitial_point\u001b[39m(\u001b[38;5;28mself\u001b[39m, random_seed: SeedSequenceSeed \u001b[38;5;241m=\u001b[39m \u001b[38;5;28;01mNone\u001b[39;00m) \u001b[38;5;241m-\u001b[39m\u001b[38;5;241m>\u001b[39m \u001b[38;5;28mdict\u001b[39m[\u001b[38;5;28mstr\u001b[39m, np\u001b[38;5;241m.\u001b[39mndarray]:\n\u001b[1;32m   1082\u001b[0m \u001b[38;5;250m    \u001b[39m\u001b[38;5;124;03m\"\"\"Computes the initial point of the model.\u001b[39;00m\n\u001b[1;32m   1083\u001b[0m \n\u001b[1;32m   1084\u001b[0m \u001b[38;5;124;03m    Parameters\u001b[39;00m\n\u001b[0;32m   (...)\u001b[0m\n\u001b[1;32m   1092\u001b[0m \u001b[38;5;124;03m        Maps names of transformed variables to numeric initial values in the transformed space.\u001b[39;00m\n\u001b[1;32m   1093\u001b[0m \u001b[38;5;124;03m    \"\"\"\u001b[39;00m\n\u001b[0;32m-> 1094\u001b[0m     fn \u001b[38;5;241m=\u001b[39m make_initial_point_fn(model\u001b[38;5;241m=\u001b[39m\u001b[38;5;28mself\u001b[39m, return_transformed\u001b[38;5;241m=\u001b[39m\u001b[38;5;28;01mTrue\u001b[39;00m)\n\u001b[1;32m   1095\u001b[0m     \u001b[38;5;28;01mreturn\u001b[39;00m Point(fn(random_seed), model\u001b[38;5;241m=\u001b[39m\u001b[38;5;28mself\u001b[39m)\n",
      "File \u001b[0;32m/opt/homebrew/Caskroom/miniconda/base/envs/personal/lib/python3.12/site-packages/pymc/initial_point.py:152\u001b[0m, in \u001b[0;36mmake_initial_point_fn\u001b[0;34m(model, overrides, jitter_rvs, default_strategy, return_transformed)\u001b[0m\n\u001b[1;32m    149\u001b[0m \u001b[38;5;66;03m# Replace original rng shared variables so that we don't mess with them\u001b[39;00m\n\u001b[1;32m    150\u001b[0m \u001b[38;5;66;03m# when calling the final seeded function\u001b[39;00m\n\u001b[1;32m    151\u001b[0m initial_values \u001b[38;5;241m=\u001b[39m replace_rng_nodes(initial_values)\n\u001b[0;32m--> 152\u001b[0m func \u001b[38;5;241m=\u001b[39m compile_pymc(inputs\u001b[38;5;241m=\u001b[39m[], outputs\u001b[38;5;241m=\u001b[39minitial_values, mode\u001b[38;5;241m=\u001b[39mpytensor\u001b[38;5;241m.\u001b[39mcompile\u001b[38;5;241m.\u001b[39mmode\u001b[38;5;241m.\u001b[39mFAST_COMPILE)\n\u001b[1;32m    154\u001b[0m varnames \u001b[38;5;241m=\u001b[39m []\n\u001b[1;32m    155\u001b[0m \u001b[38;5;28;01mfor\u001b[39;00m var \u001b[38;5;129;01min\u001b[39;00m model\u001b[38;5;241m.\u001b[39mfree_RVs:\n",
      "File \u001b[0;32m/opt/homebrew/Caskroom/miniconda/base/envs/personal/lib/python3.12/site-packages/pymc/pytensorf.py:1023\u001b[0m, in \u001b[0;36mcompile_pymc\u001b[0;34m(inputs, outputs, random_seed, mode, **kwargs)\u001b[0m\n\u001b[1;32m   1021\u001b[0m opt_qry \u001b[38;5;241m=\u001b[39m mode\u001b[38;5;241m.\u001b[39mprovided_optimizer\u001b[38;5;241m.\u001b[39mincluding(\u001b[38;5;124m\"\u001b[39m\u001b[38;5;124mrandom_make_inplace\u001b[39m\u001b[38;5;124m\"\u001b[39m, check_parameter_opt)\n\u001b[1;32m   1022\u001b[0m mode \u001b[38;5;241m=\u001b[39m Mode(linker\u001b[38;5;241m=\u001b[39mmode\u001b[38;5;241m.\u001b[39mlinker, optimizer\u001b[38;5;241m=\u001b[39mopt_qry)\n\u001b[0;32m-> 1023\u001b[0m pytensor_function \u001b[38;5;241m=\u001b[39m pytensor\u001b[38;5;241m.\u001b[39mfunction(\n\u001b[1;32m   1024\u001b[0m     inputs,\n\u001b[1;32m   1025\u001b[0m     outputs,\n\u001b[1;32m   1026\u001b[0m     updates\u001b[38;5;241m=\u001b[39m{\u001b[38;5;241m*\u001b[39m\u001b[38;5;241m*\u001b[39mrng_updates, \u001b[38;5;241m*\u001b[39m\u001b[38;5;241m*\u001b[39mkwargs\u001b[38;5;241m.\u001b[39mpop(\u001b[38;5;124m\"\u001b[39m\u001b[38;5;124mupdates\u001b[39m\u001b[38;5;124m\"\u001b[39m, {})},\n\u001b[1;32m   1027\u001b[0m     mode\u001b[38;5;241m=\u001b[39mmode,\n\u001b[1;32m   1028\u001b[0m     \u001b[38;5;241m*\u001b[39m\u001b[38;5;241m*\u001b[39mkwargs,\n\u001b[1;32m   1029\u001b[0m )\n\u001b[1;32m   1030\u001b[0m \u001b[38;5;28;01mreturn\u001b[39;00m pytensor_function\n",
      "File \u001b[0;32m/opt/homebrew/Caskroom/miniconda/base/envs/personal/lib/python3.12/site-packages/pytensor/compile/function/__init__.py:315\u001b[0m, in \u001b[0;36mfunction\u001b[0;34m(inputs, outputs, mode, updates, givens, no_default_updates, accept_inplace, name, rebuild_strict, allow_input_downcast, profile, on_unused_input)\u001b[0m\n\u001b[1;32m    309\u001b[0m     fn \u001b[38;5;241m=\u001b[39m orig_function(\n\u001b[1;32m    310\u001b[0m         inputs, outputs, mode\u001b[38;5;241m=\u001b[39mmode, accept_inplace\u001b[38;5;241m=\u001b[39maccept_inplace, name\u001b[38;5;241m=\u001b[39mname\n\u001b[1;32m    311\u001b[0m     )\n\u001b[1;32m    312\u001b[0m \u001b[38;5;28;01melse\u001b[39;00m:\n\u001b[1;32m    313\u001b[0m     \u001b[38;5;66;03m# note: pfunc will also call orig_function -- orig_function is\u001b[39;00m\n\u001b[1;32m    314\u001b[0m     \u001b[38;5;66;03m#      a choke point that all compilation must pass through\u001b[39;00m\n\u001b[0;32m--> 315\u001b[0m     fn \u001b[38;5;241m=\u001b[39m pfunc(\n\u001b[1;32m    316\u001b[0m         params\u001b[38;5;241m=\u001b[39minputs,\n\u001b[1;32m    317\u001b[0m         outputs\u001b[38;5;241m=\u001b[39moutputs,\n\u001b[1;32m    318\u001b[0m         mode\u001b[38;5;241m=\u001b[39mmode,\n\u001b[1;32m    319\u001b[0m         updates\u001b[38;5;241m=\u001b[39mupdates,\n\u001b[1;32m    320\u001b[0m         givens\u001b[38;5;241m=\u001b[39mgivens,\n\u001b[1;32m    321\u001b[0m         no_default_updates\u001b[38;5;241m=\u001b[39mno_default_updates,\n\u001b[1;32m    322\u001b[0m         accept_inplace\u001b[38;5;241m=\u001b[39maccept_inplace,\n\u001b[1;32m    323\u001b[0m         name\u001b[38;5;241m=\u001b[39mname,\n\u001b[1;32m    324\u001b[0m         rebuild_strict\u001b[38;5;241m=\u001b[39mrebuild_strict,\n\u001b[1;32m    325\u001b[0m         allow_input_downcast\u001b[38;5;241m=\u001b[39mallow_input_downcast,\n\u001b[1;32m    326\u001b[0m         on_unused_input\u001b[38;5;241m=\u001b[39mon_unused_input,\n\u001b[1;32m    327\u001b[0m         profile\u001b[38;5;241m=\u001b[39mprofile,\n\u001b[1;32m    328\u001b[0m         output_keys\u001b[38;5;241m=\u001b[39moutput_keys,\n\u001b[1;32m    329\u001b[0m     )\n\u001b[1;32m    330\u001b[0m \u001b[38;5;28;01mreturn\u001b[39;00m fn\n",
      "File \u001b[0;32m/opt/homebrew/Caskroom/miniconda/base/envs/personal/lib/python3.12/site-packages/pytensor/compile/function/pfunc.py:465\u001b[0m, in \u001b[0;36mpfunc\u001b[0;34m(params, outputs, mode, updates, givens, no_default_updates, accept_inplace, name, rebuild_strict, allow_input_downcast, profile, on_unused_input, output_keys, fgraph)\u001b[0m\n\u001b[1;32m    451\u001b[0m     profile \u001b[38;5;241m=\u001b[39m ProfileStats(message\u001b[38;5;241m=\u001b[39mprofile)\n\u001b[1;32m    453\u001b[0m inputs, cloned_outputs \u001b[38;5;241m=\u001b[39m construct_pfunc_ins_and_outs(\n\u001b[1;32m    454\u001b[0m     params,\n\u001b[1;32m    455\u001b[0m     outputs,\n\u001b[0;32m   (...)\u001b[0m\n\u001b[1;32m    462\u001b[0m     fgraph\u001b[38;5;241m=\u001b[39mfgraph,\n\u001b[1;32m    463\u001b[0m )\n\u001b[0;32m--> 465\u001b[0m \u001b[38;5;28;01mreturn\u001b[39;00m orig_function(\n\u001b[1;32m    466\u001b[0m     inputs,\n\u001b[1;32m    467\u001b[0m     cloned_outputs,\n\u001b[1;32m    468\u001b[0m     mode,\n\u001b[1;32m    469\u001b[0m     accept_inplace\u001b[38;5;241m=\u001b[39maccept_inplace,\n\u001b[1;32m    470\u001b[0m     name\u001b[38;5;241m=\u001b[39mname,\n\u001b[1;32m    471\u001b[0m     profile\u001b[38;5;241m=\u001b[39mprofile,\n\u001b[1;32m    472\u001b[0m     on_unused_input\u001b[38;5;241m=\u001b[39mon_unused_input,\n\u001b[1;32m    473\u001b[0m     output_keys\u001b[38;5;241m=\u001b[39moutput_keys,\n\u001b[1;32m    474\u001b[0m     fgraph\u001b[38;5;241m=\u001b[39mfgraph,\n\u001b[1;32m    475\u001b[0m )\n",
      "File \u001b[0;32m/opt/homebrew/Caskroom/miniconda/base/envs/personal/lib/python3.12/site-packages/pytensor/compile/function/types.py:1762\u001b[0m, in \u001b[0;36morig_function\u001b[0;34m(inputs, outputs, mode, accept_inplace, name, profile, on_unused_input, output_keys, fgraph)\u001b[0m\n\u001b[1;32m   1750\u001b[0m     m \u001b[38;5;241m=\u001b[39m Maker(\n\u001b[1;32m   1751\u001b[0m         inputs,\n\u001b[1;32m   1752\u001b[0m         outputs,\n\u001b[0;32m   (...)\u001b[0m\n\u001b[1;32m   1759\u001b[0m         fgraph\u001b[38;5;241m=\u001b[39mfgraph,\n\u001b[1;32m   1760\u001b[0m     )\n\u001b[1;32m   1761\u001b[0m     \u001b[38;5;28;01mwith\u001b[39;00m config\u001b[38;5;241m.\u001b[39mchange_flags(compute_test_value\u001b[38;5;241m=\u001b[39m\u001b[38;5;124m\"\u001b[39m\u001b[38;5;124moff\u001b[39m\u001b[38;5;124m\"\u001b[39m):\n\u001b[0;32m-> 1762\u001b[0m         fn \u001b[38;5;241m=\u001b[39m m\u001b[38;5;241m.\u001b[39mcreate(defaults)\n\u001b[1;32m   1763\u001b[0m \u001b[38;5;28;01mfinally\u001b[39;00m:\n\u001b[1;32m   1764\u001b[0m     \u001b[38;5;28;01mif\u001b[39;00m profile \u001b[38;5;129;01mand\u001b[39;00m fn:\n",
      "File \u001b[0;32m/opt/homebrew/Caskroom/miniconda/base/envs/personal/lib/python3.12/site-packages/pytensor/compile/function/types.py:1654\u001b[0m, in \u001b[0;36mFunctionMaker.create\u001b[0;34m(self, input_storage, storage_map)\u001b[0m\n\u001b[1;32m   1651\u001b[0m start_import_time \u001b[38;5;241m=\u001b[39m pytensor\u001b[38;5;241m.\u001b[39mlink\u001b[38;5;241m.\u001b[39mc\u001b[38;5;241m.\u001b[39mcmodule\u001b[38;5;241m.\u001b[39mimport_time\n\u001b[1;32m   1653\u001b[0m \u001b[38;5;28;01mwith\u001b[39;00m config\u001b[38;5;241m.\u001b[39mchange_flags(traceback__limit\u001b[38;5;241m=\u001b[39mconfig\u001b[38;5;241m.\u001b[39mtraceback__compile_limit):\n\u001b[0;32m-> 1654\u001b[0m     _fn, _i, _o \u001b[38;5;241m=\u001b[39m \u001b[38;5;28mself\u001b[39m\u001b[38;5;241m.\u001b[39mlinker\u001b[38;5;241m.\u001b[39mmake_thunk(\n\u001b[1;32m   1655\u001b[0m         input_storage\u001b[38;5;241m=\u001b[39minput_storage_lists, storage_map\u001b[38;5;241m=\u001b[39mstorage_map\n\u001b[1;32m   1656\u001b[0m     )\n\u001b[1;32m   1658\u001b[0m end_linker \u001b[38;5;241m=\u001b[39m time\u001b[38;5;241m.\u001b[39mperf_counter()\n\u001b[1;32m   1660\u001b[0m linker_time \u001b[38;5;241m=\u001b[39m end_linker \u001b[38;5;241m-\u001b[39m start_linker\n",
      "File \u001b[0;32m/opt/homebrew/Caskroom/miniconda/base/envs/personal/lib/python3.12/site-packages/pytensor/link/basic.py:245\u001b[0m, in \u001b[0;36mLocalLinker.make_thunk\u001b[0;34m(self, input_storage, output_storage, storage_map, **kwargs)\u001b[0m\n\u001b[1;32m    238\u001b[0m \u001b[38;5;28;01mdef\u001b[39;00m \u001b[38;5;21mmake_thunk\u001b[39m(\n\u001b[1;32m    239\u001b[0m     \u001b[38;5;28mself\u001b[39m,\n\u001b[1;32m    240\u001b[0m     input_storage: Optional[\u001b[38;5;124m\"\u001b[39m\u001b[38;5;124mInputStorageType\u001b[39m\u001b[38;5;124m\"\u001b[39m] \u001b[38;5;241m=\u001b[39m \u001b[38;5;28;01mNone\u001b[39;00m,\n\u001b[0;32m   (...)\u001b[0m\n\u001b[1;32m    243\u001b[0m     \u001b[38;5;241m*\u001b[39m\u001b[38;5;241m*\u001b[39mkwargs,\n\u001b[1;32m    244\u001b[0m ) \u001b[38;5;241m-\u001b[39m\u001b[38;5;241m>\u001b[39m \u001b[38;5;28mtuple\u001b[39m[\u001b[38;5;124m\"\u001b[39m\u001b[38;5;124mBasicThunkType\u001b[39m\u001b[38;5;124m\"\u001b[39m, \u001b[38;5;124m\"\u001b[39m\u001b[38;5;124mInputStorageType\u001b[39m\u001b[38;5;124m\"\u001b[39m, \u001b[38;5;124m\"\u001b[39m\u001b[38;5;124mOutputStorageType\u001b[39m\u001b[38;5;124m\"\u001b[39m]:\n\u001b[0;32m--> 245\u001b[0m     \u001b[38;5;28;01mreturn\u001b[39;00m \u001b[38;5;28mself\u001b[39m\u001b[38;5;241m.\u001b[39mmake_all(\n\u001b[1;32m    246\u001b[0m         input_storage\u001b[38;5;241m=\u001b[39minput_storage,\n\u001b[1;32m    247\u001b[0m         output_storage\u001b[38;5;241m=\u001b[39moutput_storage,\n\u001b[1;32m    248\u001b[0m         storage_map\u001b[38;5;241m=\u001b[39mstorage_map,\n\u001b[1;32m    249\u001b[0m     )[:\u001b[38;5;241m3\u001b[39m]\n",
      "File \u001b[0;32m/opt/homebrew/Caskroom/miniconda/base/envs/personal/lib/python3.12/site-packages/pytensor/link/vm.py:1290\u001b[0m, in \u001b[0;36mVMLinker.make_all\u001b[0;34m(self, profiler, input_storage, output_storage, storage_map)\u001b[0m\n\u001b[1;32m   1287\u001b[0m \u001b[38;5;28;01melse\u001b[39;00m:\n\u001b[1;32m   1288\u001b[0m     post_thunk_clear \u001b[38;5;241m=\u001b[39m \u001b[38;5;28;01mNone\u001b[39;00m\n\u001b[0;32m-> 1290\u001b[0m vm \u001b[38;5;241m=\u001b[39m \u001b[38;5;28mself\u001b[39m\u001b[38;5;241m.\u001b[39mmake_vm(\n\u001b[1;32m   1291\u001b[0m     order,\n\u001b[1;32m   1292\u001b[0m     thunks,\n\u001b[1;32m   1293\u001b[0m     input_storage,\n\u001b[1;32m   1294\u001b[0m     output_storage,\n\u001b[1;32m   1295\u001b[0m     storage_map,\n\u001b[1;32m   1296\u001b[0m     post_thunk_clear,\n\u001b[1;32m   1297\u001b[0m     computed,\n\u001b[1;32m   1298\u001b[0m     compute_map,\n\u001b[1;32m   1299\u001b[0m     \u001b[38;5;28mself\u001b[39m\u001b[38;5;241m.\u001b[39mupdated_vars,\n\u001b[1;32m   1300\u001b[0m )\n\u001b[1;32m   1302\u001b[0m vm\u001b[38;5;241m.\u001b[39mstorage_map \u001b[38;5;241m=\u001b[39m storage_map\n\u001b[1;32m   1303\u001b[0m vm\u001b[38;5;241m.\u001b[39mcompute_map \u001b[38;5;241m=\u001b[39m compute_map\n",
      "File \u001b[0;32m/opt/homebrew/Caskroom/miniconda/base/envs/personal/lib/python3.12/site-packages/pytensor/link/vm.py:1013\u001b[0m, in \u001b[0;36mVMLinker.make_vm\u001b[0;34m(self, nodes, thunks, input_storage, output_storage, storage_map, post_thunk_clear, computed, compute_map, updated_vars)\u001b[0m\n\u001b[1;32m   1010\u001b[0m pre_call_clear \u001b[38;5;241m=\u001b[39m [storage_map[v] \u001b[38;5;28;01mfor\u001b[39;00m v \u001b[38;5;129;01min\u001b[39;00m \u001b[38;5;28mself\u001b[39m\u001b[38;5;241m.\u001b[39mno_recycling]\n\u001b[1;32m   1012\u001b[0m \u001b[38;5;28;01mtry\u001b[39;00m:\n\u001b[0;32m-> 1013\u001b[0m     \u001b[38;5;28;01mfrom\u001b[39;00m \u001b[38;5;21;01mpytensor\u001b[39;00m\u001b[38;5;21;01m.\u001b[39;00m\u001b[38;5;21;01mlink\u001b[39;00m\u001b[38;5;21;01m.\u001b[39;00m\u001b[38;5;21;01mc\u001b[39;00m\u001b[38;5;21;01m.\u001b[39;00m\u001b[38;5;21;01mcvm\u001b[39;00m \u001b[38;5;28;01mimport\u001b[39;00m CVM\n\u001b[1;32m   1014\u001b[0m \u001b[38;5;28;01mexcept\u001b[39;00m (MissingGXX, \u001b[38;5;167;01mImportError\u001b[39;00m):\n\u001b[1;32m   1015\u001b[0m     CVM \u001b[38;5;241m=\u001b[39m \u001b[38;5;28;01mNone\u001b[39;00m\n",
      "File \u001b[0;32m/opt/homebrew/Caskroom/miniconda/base/envs/personal/lib/python3.12/site-packages/pytensor/link/c/cvm.py:13\u001b[0m\n\u001b[1;32m      9\u001b[0m \u001b[38;5;28;01mif\u001b[39;00m \u001b[38;5;129;01mnot\u001b[39;00m config\u001b[38;5;241m.\u001b[39mcxx:\n\u001b[1;32m     10\u001b[0m     \u001b[38;5;28;01mraise\u001b[39;00m MissingGXX(\n\u001b[1;32m     11\u001b[0m         \u001b[38;5;124m\"\u001b[39m\u001b[38;5;124mlazylinker will not be imported if pytensor.config.cxx is not set.\u001b[39m\u001b[38;5;124m\"\u001b[39m\n\u001b[1;32m     12\u001b[0m     )\n\u001b[0;32m---> 13\u001b[0m \u001b[38;5;28;01mfrom\u001b[39;00m \u001b[38;5;21;01mpytensor\u001b[39;00m\u001b[38;5;21;01m.\u001b[39;00m\u001b[38;5;21;01mlink\u001b[39;00m\u001b[38;5;21;01m.\u001b[39;00m\u001b[38;5;21;01mc\u001b[39;00m\u001b[38;5;21;01m.\u001b[39;00m\u001b[38;5;21;01mlazylinker_c\u001b[39;00m \u001b[38;5;28;01mimport\u001b[39;00m CLazyLinker\n\u001b[1;32m     15\u001b[0m \u001b[38;5;28;01mclass\u001b[39;00m \u001b[38;5;21;01mCVM\u001b[39;00m(CLazyLinker, VM):\n\u001b[1;32m     16\u001b[0m     \u001b[38;5;28;01mdef\u001b[39;00m \u001b[38;5;21m__init__\u001b[39m(\u001b[38;5;28mself\u001b[39m, fgraph, \u001b[38;5;241m*\u001b[39margs, \u001b[38;5;241m*\u001b[39m\u001b[38;5;241m*\u001b[39mkwargs):\n",
      "File \u001b[0;32m/opt/homebrew/Caskroom/miniconda/base/envs/personal/lib/python3.12/site-packages/pytensor/link/c/lazylinker_c.py:142\u001b[0m\n\u001b[1;32m    139\u001b[0m         \u001b[38;5;28;01massert\u001b[39;00m os\u001b[38;5;241m.\u001b[39mpath\u001b[38;5;241m.\u001b[39mexists(loc)\n\u001b[1;32m    141\u001b[0m args \u001b[38;5;241m=\u001b[39m GCC_compiler\u001b[38;5;241m.\u001b[39mcompile_args()\n\u001b[0;32m--> 142\u001b[0m GCC_compiler\u001b[38;5;241m.\u001b[39mcompile_str(dirname, code, location\u001b[38;5;241m=\u001b[39mloc, preargs\u001b[38;5;241m=\u001b[39margs)\n\u001b[1;32m    143\u001b[0m \u001b[38;5;66;03m# Save version into the __init__.py file.\u001b[39;00m\n\u001b[1;32m    144\u001b[0m init_py \u001b[38;5;241m=\u001b[39m os\u001b[38;5;241m.\u001b[39mpath\u001b[38;5;241m.\u001b[39mjoin(loc, \u001b[38;5;124m\"\u001b[39m\u001b[38;5;124m__init__.py\u001b[39m\u001b[38;5;124m\"\u001b[39m)\n",
      "File \u001b[0;32m/opt/homebrew/Caskroom/miniconda/base/envs/personal/lib/python3.12/site-packages/pytensor/link/c/cmodule.py:2651\u001b[0m, in \u001b[0;36mGCC_compiler.compile_str\u001b[0;34m(module_name, src_code, location, include_dirs, lib_dirs, libs, preargs, py_module, hide_symbols)\u001b[0m\n\u001b[1;32m   2643\u001b[0m                 \u001b[38;5;28mprint\u001b[39m(\n\u001b[1;32m   2644\u001b[0m                     \u001b[38;5;124m\"\u001b[39m\u001b[38;5;124mCheck if package python-dev or python-devel is installed.\u001b[39m\u001b[38;5;124m\"\u001b[39m\n\u001b[1;32m   2645\u001b[0m                 )\n\u001b[1;32m   2647\u001b[0m     \u001b[38;5;66;03m# We replace '\\n' by '. ' in the error message because when Python\u001b[39;00m\n\u001b[1;32m   2648\u001b[0m     \u001b[38;5;66;03m# prints the exception, having '\\n' in the text makes it more\u001b[39;00m\n\u001b[1;32m   2649\u001b[0m     \u001b[38;5;66;03m# difficult to read.\u001b[39;00m\n\u001b[1;32m   2650\u001b[0m     \u001b[38;5;66;03m# compile_stderr = compile_stderr.replace(\"\\n\", \". \")\u001b[39;00m\n\u001b[0;32m-> 2651\u001b[0m     \u001b[38;5;28;01mraise\u001b[39;00m CompileError(\n\u001b[1;32m   2652\u001b[0m         \u001b[38;5;124mf\u001b[39m\u001b[38;5;124m\"\u001b[39m\u001b[38;5;124mCompilation failed (return status=\u001b[39m\u001b[38;5;132;01m{\u001b[39;00mstatus\u001b[38;5;132;01m}\u001b[39;00m\u001b[38;5;124m):\u001b[39m\u001b[38;5;130;01m\\n\u001b[39;00m\u001b[38;5;132;01m{\u001b[39;00m\u001b[38;5;124m'\u001b[39m\u001b[38;5;124m \u001b[39m\u001b[38;5;124m'\u001b[39m\u001b[38;5;241m.\u001b[39mjoin(cmd)\u001b[38;5;132;01m}\u001b[39;00m\u001b[38;5;130;01m\\n\u001b[39;00m\u001b[38;5;132;01m{\u001b[39;00mcompile_stderr\u001b[38;5;132;01m}\u001b[39;00m\u001b[38;5;124m\"\u001b[39m\n\u001b[1;32m   2653\u001b[0m     )\n\u001b[1;32m   2654\u001b[0m \u001b[38;5;28;01melif\u001b[39;00m config\u001b[38;5;241m.\u001b[39mcmodule__compilation_warning \u001b[38;5;129;01mand\u001b[39;00m compile_stderr:\n\u001b[1;32m   2655\u001b[0m     \u001b[38;5;66;03m# Print errors just below the command line.\u001b[39;00m\n\u001b[1;32m   2656\u001b[0m     \u001b[38;5;28mprint\u001b[39m(compile_stderr)\n",
      "\u001b[0;31mCompileError\u001b[0m: Compilation failed (return status=1):\n/opt/homebrew/Caskroom/miniconda/base/envs/personal/bin/clang++ -dynamiclib -g -Wno-c++11-narrowing -fno-exceptions -fno-unwind-tables -fno-asynchronous-unwind-tables -DNPY_NO_DEPRECATED_API=NPY_1_7_API_VERSION -fPIC -undefined dynamic_lookup -I/opt/homebrew/Caskroom/miniconda/base/envs/personal/lib/python3.12/site-packages/numpy/core/include -I/opt/homebrew/Caskroom/miniconda/base/envs/personal/include/python3.12 -I/opt/homebrew/Caskroom/miniconda/base/envs/personal/lib/python3.12/site-packages/pytensor/link/c/c_code -L/opt/homebrew/Caskroom/miniconda/base/envs/personal/lib -fvisibility=hidden -o /Users/jpark/.pytensor/compiledir_macOS-15.1.1-arm64-arm-64bit-arm-3.12.4-64/lazylinker_ext/lazylinker_ext.so /Users/jpark/.pytensor/compiledir_macOS-15.1.1-arm64-arm-64bit-arm-3.12.4-64/lazylinker_ext/mod.cpp\nIn file included from /Users/jpark/.pytensor/compiledir_macOS-15.1.1-arm64-arm-64bit-arm-3.12.4-64/lazylinker_ext/mod.cpp:1:\nIn file included from /opt/homebrew/Caskroom/miniconda/base/envs/personal/lib/python3.12/site-packages/pytensor/link/c/c_code/pytensor_mod_helper.h:4:\nIn file included from /opt/homebrew/Caskroom/miniconda/base/envs/personal/include/python3.12/Python.h:23:\n/opt/homebrew/Caskroom/miniconda/base/envs/personal/bin/../include/c++/v1/stdlib.h:93:15: fatal error: 'stdlib.h' file not found\n#include_next <stdlib.h>\n              ^~~~~~~~~~\n1 error generated.\n"
     ]
    }
   ],
   "source": [
    "m = 10000\n",
    "with conjugate_normal_gamma:\n",
    "    # draw m posterior samples\n",
    "    idata = pymc.sample(draws=m, chains=2, tune=100)\n",
    "    # arviz.InferenceData object"
   ]
  },
  {
   "cell_type": "markdown",
   "id": "ae84454f",
   "metadata": {},
   "source": [
    "## `idata` and `arviz as az`"
   ]
  },
  {
   "cell_type": "code",
   "execution_count": null,
   "id": "f297417f",
   "metadata": {},
   "outputs": [],
   "source": [
    "idata"
   ]
  },
  {
   "cell_type": "code",
   "execution_count": null,
   "id": "03b1c94a",
   "metadata": {},
   "outputs": [],
   "source": [
    "idata.posterior"
   ]
  },
  {
   "cell_type": "code",
   "execution_count": null,
   "id": "0c2e4e03",
   "metadata": {},
   "outputs": [],
   "source": [
    "idata.posterior['theta']"
   ]
  },
  {
   "cell_type": "code",
   "execution_count": null,
   "id": "3bb21172",
   "metadata": {},
   "outputs": [],
   "source": [
    "idata.posterior['tau']"
   ]
  },
  {
   "cell_type": "code",
   "execution_count": null,
   "id": "faf3f130",
   "metadata": {},
   "outputs": [],
   "source": [
    "theta = idata.posterior['theta'].values#.shape\n",
    "tau = idata.posterior['tau'].values#.shape\n",
    "\n",
    "fig,ax = plt.subplots(1, 4, figsize=(14,3));ax[0].set_title(\"$\\\\theta$ Burn-In\"); ax[1].set_title(\"$\\\\tau$ Burn-In\"); ax[2].set_title(\"$\\\\theta$ Converged Markov Chain\\nStationary Distribution Samples\"); ax[3].set_title(\"$\\\\tau$ Converged Markov Chain\\nStationary Distribution Samples\")\n",
    "\n",
    "# pymc.sample(draws=1000, chains=2, tune=100)\n",
    "# used 100 samples per chain to \"tune\" and these were\n",
    "# automatically discarded so `burn` is likely not needed\n",
    "burn = 20\n",
    "demo = 120\n",
    "C = 2\n",
    "for c in range(C):\n",
    "    ax[0].plot(theta[c,:burn], label=\"$\\\\theta$ Chain \"+str(c))\n",
    "    ax[1].plot(tau[c,:burn], label=\"$\\\\tau$ Chain \"+str(c))\n",
    "    ax[2].plot(np.arange(burn, demo, dtype=int), theta[c,burn:demo], label=\"$\\\\theta$ Chain \"+str(c))\n",
    "    ax[3].plot(np.arange(burn, demo, dtype=int), tau[c,burn:demo], label=\"$\\\\tau$ Chain \"+str(c))\n",
    "ax[0].legend(); ax[1].legend(); ax[2].legend(); ax[3].legend();  "
   ]
  },
  {
   "cell_type": "code",
   "execution_count": null,
   "id": "62b0c0a9",
   "metadata": {},
   "outputs": [],
   "source": [
    "fig,ax = plt.subplots(1, 3, figsize=(16,4))\n",
    "ax[0].set_title(\"Marginal distribution of $\\\\theta$ (without burn-in)\\nof (joint posterior) stationary distribution\")\n",
    "ax[1].set_title(\"Marginal distribution of $\\\\tau$ (without burn-in)\\nof (joint posterior) stationary distribution\")\n",
    "ax[2].set_title(\"Joint (posterior) stationary distribution\\n(without burn-in)\")\n",
    "\n",
    "ax[0].hist(theta[0,burn:])\n",
    "ax[1].hist(tau[0,burn:])\n",
    "ax[2].plot(theta[0,burn:], tau[0,burn:], '.', alpha=0.1);\n",
    "demo = 3*burn\n",
    "ax[2].plot(theta[0,burn:demo], tau[0,burn:demo]);"
   ]
  },
  {
   "cell_type": "code",
   "execution_count": null,
   "id": "88f98c72",
   "metadata": {},
   "outputs": [],
   "source": [
    "import arviz as az"
   ]
  },
  {
   "cell_type": "code",
   "execution_count": null,
   "id": "9342060e",
   "metadata": {},
   "outputs": [],
   "source": [
    "idata"
   ]
  },
  {
   "cell_type": "code",
   "execution_count": null,
   "id": "c884c49a",
   "metadata": {},
   "outputs": [],
   "source": [
    "az.plot_trace(idata, combined=True);"
   ]
  },
  {
   "cell_type": "code",
   "execution_count": null,
   "id": "655b9eb8",
   "metadata": {},
   "outputs": [],
   "source": [
    "az.plot_trace(idata)\n",
    "plt.tight_layout()"
   ]
  },
  {
   "cell_type": "code",
   "execution_count": null,
   "id": "6092a7cc",
   "metadata": {},
   "outputs": [],
   "source": [
    "m = 1000\n",
    "with conjugate_normal_gamma:\n",
    "    # draw m posterior samples\n",
    "    idata = pymc.sample(draws=m, chains=2, tune=100)\n",
    "    # arviz.InferenceData object\n",
    "\n",
    "theta = idata.posterior['theta'].values#.shape\n",
    "tau = idata.posterior['tau'].values#.shape    "
   ]
  },
  {
   "cell_type": "code",
   "execution_count": null,
   "id": "1052910a",
   "metadata": {},
   "outputs": [],
   "source": [
    "# If the messages below don't show\n",
    "\"\"\"Auto-assigning NUTS sampler...\n",
    "   Initializing NUTS using jitter+adapt_diag...\n",
    "   Multiprocess sampling (2 chains in 4 jobs)\n",
    "   NUTS: [theta, tau] \"\"\"\n",
    "# You can see this information by turning on logging\n",
    "import logging # dir(logging) for available functionality\n",
    "_log = logging.getLogger(\"pymc\")\n",
    "#_log.setLevel(logging.NOTSET) # 0\n",
    "_log.setLevel(logging.INFO) # 20\n",
    "#_log.setLevel(logging.WARNING) # 30\n",
    "#_log.setLevel(logging.ERROR) # 40"
   ]
  },
  {
   "cell_type": "code",
   "execution_count": null,
   "id": "8d6c0d09",
   "metadata": {},
   "outputs": [],
   "source": [
    "az.plot_forest(idata, var_names=[\"theta\", \"tau\"], \n",
    "               combined=False, hdi_prob=0.95, r_hat=True);\n"
   ]
  },
  {
   "cell_type": "markdown",
   "id": "eac953bc",
   "metadata": {},
   "source": [
    "## Part B: Posterior inference and diagnostics<br><sub>with `az.summary`</sub>"
   ]
  },
  {
   "cell_type": "code",
   "execution_count": null,
   "id": "c72989d4",
   "metadata": {},
   "outputs": [],
   "source": [
    "az.summary(idata, round_to=5)#2)"
   ]
  },
  {
   "cell_type": "code",
   "execution_count": null,
   "id": "10895b85",
   "metadata": {},
   "outputs": [],
   "source": [
    "theta.ravel().shape"
   ]
  },
  {
   "cell_type": "markdown",
   "id": "b7766cf2",
   "metadata": {},
   "source": [
    "### `mean` and `sd`"
   ]
  },
  {
   "cell_type": "code",
   "execution_count": null,
   "id": "c4065274",
   "metadata": {},
   "outputs": [],
   "source": [
    "round_to=5\n",
    "theta.ravel().mean().round(round_to), tau.ravel().mean().round(round_to)"
   ]
  },
  {
   "cell_type": "code",
   "execution_count": null,
   "id": "d48f42a9",
   "metadata": {},
   "outputs": [],
   "source": [
    "theta.ravel().std().round(round_to), tau.ravel().std().round(round_to)\n",
    "theta.ravel().std(ddof=1).round(round_to), tau.ravel().std(ddof=1).round(round_to)"
   ]
  },
  {
   "cell_type": "markdown",
   "id": "1b21887c",
   "metadata": {},
   "source": [
    "### `hdi_3%` and `hdi_97%`"
   ]
  },
  {
   "cell_type": "code",
   "execution_count": null,
   "id": "6eeef889",
   "metadata": {},
   "outputs": [],
   "source": [
    "az.summary(idata, round_to=5)#2)"
   ]
  },
  {
   "cell_type": "code",
   "execution_count": null,
   "id": "549fa647",
   "metadata": {},
   "outputs": [],
   "source": [
    "np.quantile(theta,[0.05,0.95]).round(round_to)"
   ]
  },
  {
   "cell_type": "code",
   "execution_count": null,
   "id": "76d8d4c5",
   "metadata": {},
   "outputs": [],
   "source": [
    "np.quantile(theta,[0.025,0.975]).round(round_to)"
   ]
  },
  {
   "cell_type": "code",
   "execution_count": null,
   "id": "8969a06c",
   "metadata": {},
   "outputs": [],
   "source": [
    "np.quantile(theta,[0.03,0.97]).round(round_to)"
   ]
  },
  {
   "cell_type": "code",
   "execution_count": null,
   "id": "3b3a0dc7",
   "metadata": {},
   "outputs": [],
   "source": [
    "# hdi_3% and hdi_97% is something like\n",
    "# move interval up or down until the smallest interval is found\n",
    "np.quantile(theta,[0.02,0.96]).round(round_to)"
   ]
  },
  {
   "cell_type": "code",
   "execution_count": null,
   "id": "8d498c87",
   "metadata": {},
   "outputs": [],
   "source": [
    "# so trying to get a bit closer for tau it's someting like\n",
    "np.quantile(tau,[0.022,0.9622]).round(round_to)"
   ]
  },
  {
   "cell_type": "markdown",
   "id": "a80be109",
   "metadata": {},
   "source": [
    "### To consider `mcse_mean` and `mcse_sd`...\n",
    "\n",
    "- [...moments of moments and first order Taylor series approximation](https://mc-stan.org/posterior/reference/mcse_sd.html)"
   ]
  },
  {
   "cell_type": "code",
   "execution_count": null,
   "id": "dae25b97",
   "metadata": {},
   "outputs": [],
   "source": [
    "az.summary(idata, round_to=5)"
   ]
  },
  {
   "cell_type": "code",
   "execution_count": null,
   "id": "98cd3c52",
   "metadata": {},
   "outputs": [],
   "source": [
    "az.summary(idata, round_to=5)['sd']['theta']/\\\n",
    "az.summary(idata, round_to=5)['ess_bulk']['theta']**0.5"
   ]
  },
  {
   "cell_type": "code",
   "execution_count": null,
   "id": "525402ec",
   "metadata": {},
   "outputs": [],
   "source": [
    "az.summary(idata, round_to=5)['sd']['tau']/\\\n",
    "(az.summary(idata, round_to=5)['ess_bulk']['tau']+0)**0.5"
   ]
  },
  {
   "cell_type": "code",
   "execution_count": null,
   "id": "69c8d3f3",
   "metadata": {},
   "outputs": [],
   "source": [
    "((theta.ravel()-theta.ravel().mean())**2).var()/\\\n",
    "az.summary(idata, round_to=5)['ess_bulk']['theta']\n"
   ]
  },
  {
   "cell_type": "code",
   "execution_count": null,
   "id": "fac240b6",
   "metadata": {},
   "outputs": [],
   "source": [
    "# this estimates y which is the variance\n",
    "((theta.ravel()-theta.ravel().mean())**2).mean()\n",
    "theta.ravel().var()\n",
    "# square root of this estimates standard deviation\n",
    "# s = sqrt(y)\n",
    "\n",
    "# this estimates variance of y above estimator\n",
    "((theta.ravel()-theta.ravel().mean())**2).var()/\\\n",
    "az.summary(idata, round_to=5)['ess_bulk']['theta']\n",
    "\n",
    "# by the delta method \n",
    "# https://stats.stackexchange.com/questions/491845/how-is-delta-method-used-here-in-approximating-the-square-root-of-a-normal-rando\n",
    "# var(S) = (1/sqrt(E[Y]))**2 * Var(Y)\n",
    "\n",
    "((1/theta.ravel().var())*\\\n",
    " ((theta.ravel()-theta.ravel().mean())**2).var()/\\\n",
    " az.summary(idata, round_to=15)['ess_bulk']['theta'])**0.5\n",
    "\n",
    "# So it's not quite right...but then again it's maybe not exactly\n",
    "# https://mc-stan.org/posterior/reference/mcse_sd.html\n",
    "# \"Compute the Monte Carlo standard error for the \n",
    "#  standard deviation (SD) of a single variable \n",
    "#  without assuming normality using moments of moments \n",
    "#  and first order Taylor series approximation \n",
    "#  (Kenney and Keeping, 1951, p. 141).\""
   ]
  },
  {
   "cell_type": "code",
   "execution_count": null,
   "id": "9b83ecf5",
   "metadata": {},
   "outputs": [],
   "source": [
    "((1/tau.ravel().var())*\\\n",
    " ((tau.ravel()-tau.ravel().mean())**2).var()/\\\n",
    " az.summary(idata, round_to=15)['ess_bulk']['tau'])**0.5"
   ]
  },
  {
   "cell_type": "code",
   "execution_count": null,
   "id": "768d3418",
   "metadata": {},
   "outputs": [],
   "source": [
    "az.summary(idata, round_to=5)"
   ]
  },
  {
   "cell_type": "markdown",
   "id": "c7bb7fd9",
   "metadata": {},
   "source": [
    "### We must first consider `bulk_tail` and `ess_tail`...\n",
    "\n",
    "- [bulk_tail](https://mc-stan.org/posterior/reference/ess_bulk.html)\n",
    "- [ess_tail](https://mc-stan.org/posterior/reference/ess_tail.html)\n",
    "\n",
    "#### Effective sample size\n",
    "\n",
    "$$n_{\\text{eff}} = \\frac{m}{\\sum_{k=-\\infty}^\\infty\\rho_k} = \\frac{m}{1+2\\sum_{k=1}^\\infty\\rho_k} \\quad \\text{ for order $k$ autocorrelations } \\quad \\rho_k $$\n"
   ]
  },
  {
   "cell_type": "code",
   "execution_count": null,
   "id": "2bd44cb3",
   "metadata": {},
   "outputs": [],
   "source": [
    "theta_in_tail = \\\n",
    "(theta<=np.quantile(theta.ravel(),0.05))#+\\\n",
    "(theta>=np.quantile(theta.ravel(),0.95))\n",
    "print(theta_in_tail.sum()/(2*m))\n",
    "theta_in_tail"
   ]
  },
  {
   "cell_type": "code",
   "execution_count": null,
   "id": "d5bcb63d",
   "metadata": {},
   "outputs": [],
   "source": [
    "m = 1000\n",
    "K = 30\n",
    "autocorrelations = np.ones((2,int(m/2)))\n",
    "for c in range(C):\n",
    "    for t_plus_k in range(1, int(m/2)):\n",
    "        autocorrelations[c,t_plus_k] = \\\n",
    "        np.corrcoef(theta_in_tail[c,:-t_plus_k], \n",
    "                    theta_in_tail[c,t_plus_k:])[0,1]\n",
    "\n",
    "for c in range(C):\n",
    "    plt.plot(autocorrelations[c,:K], label=\"Chain \"+str(c)) \n",
    "\n",
    "# effective sample size\n",
    "approximation_stops=[5,4]\n",
    "approximation_stops,\n",
    "m / (1 + 2*autocorrelations[0,1:approximation_stops[0]].sum())+\\\n",
    "m / (1 + 2*autocorrelations[1,1:approximation_stops[1]].sum())\n"
   ]
  },
  {
   "cell_type": "code",
   "execution_count": null,
   "id": "6a10dd5f",
   "metadata": {},
   "outputs": [],
   "source": [
    "autocorrelations[:,:10]"
   ]
  },
  {
   "cell_type": "code",
   "execution_count": null,
   "id": "374b0c6d",
   "metadata": {},
   "outputs": [],
   "source": [
    "tau_in_tail = \\\n",
    "(tau<=np.quantile(tau.ravel(),0.05))+\\\n",
    "(tau>=np.quantile(tau.ravel(),0.95))\n",
    "print(tau_in_tail.sum()/(2*m))\n",
    "tau_in_tail"
   ]
  },
  {
   "cell_type": "code",
   "execution_count": null,
   "id": "1b2fc711",
   "metadata": {},
   "outputs": [],
   "source": [
    "m = 1000\n",
    "K = 30\n",
    "autocorrelations = np.ones((2,m-1))\n",
    "for c in range(C):\n",
    "    for t_plus_k in range(1, int(m/2)):\n",
    "        autocorrelations[c,t_plus_k] = \\\n",
    "        np.corrcoef(tau_in_tail[c,:-t_plus_k], \n",
    "                    tau_in_tail[c,t_plus_k:])[0,1]\n",
    "        \n",
    "for c in range(C):\n",
    "    plt.plot(autocorrelations[c,:K], label=\"Chain \"+str(c)) \n",
    "\n",
    "# effective sample size\n",
    "approximation_stops=[8,6]\n",
    "approximation_stops,\n",
    "m / (1 + 2*autocorrelations[0,1:approximation_stops[0]].sum())+\\\n",
    "m / (1 + 2*autocorrelations[1,1:approximation_stops[1]].sum())"
   ]
  },
  {
   "cell_type": "code",
   "execution_count": null,
   "id": "2ea74649",
   "metadata": {},
   "outputs": [],
   "source": [
    "autocorrelations[:,:20]"
   ]
  },
  {
   "cell_type": "code",
   "execution_count": null,
   "id": "fbb48e9a",
   "metadata": {},
   "outputs": [],
   "source": [
    "az.summary(idata, round_to=5)"
   ]
  },
  {
   "cell_type": "markdown",
   "id": "cc7fbe71",
   "metadata": {},
   "source": [
    "#### Reminder \n",
    "\n",
    "- [bulk_tail](https://mc-stan.org/posterior/reference/ess_bulk.html)\n",
    "- [ess_tail](https://mc-stan.org/posterior/reference/ess_tail.html)\n",
    "\n",
    "#### Effective sample size\n",
    "\n",
    "$$n_{\\text{eff}} = \\frac{m}{\\sum_{k=-\\infty}^\\infty\\rho_k} = \\frac{m}{1+2\\sum_{k=1}^\\infty\\rho_k} \\quad \\text{ for order $k$ autocorrelations } \\quad \\rho_k $$\n"
   ]
  },
  {
   "cell_type": "code",
   "execution_count": null,
   "id": "33be7370",
   "metadata": {},
   "outputs": [],
   "source": [
    "m = 1000\n",
    "K = 30\n",
    "autocorrelations = np.ones((2,int(m/2)))\n",
    "for c in range(C):\n",
    "    for t_plus_k in range(1, int(m/2)):\n",
    "        autocorrelations[c,t_plus_k] = \\\n",
    "        np.corrcoef(theta[c,:-t_plus_k], \n",
    "                    theta[c,t_plus_k:])[0,1]\n",
    "\n",
    "for c in range(C):\n",
    "    plt.plot(autocorrelations[c,:K], label=\"Chain \"+str(c)) \n",
    "\n",
    "# effective sample size\n",
    "approximation_stops=[3,4]\n",
    "approximation_stops,\n",
    "m / (1 + 2*autocorrelations[0,1:approximation_stops[0]].sum())+\\\n",
    "m / (1 + 2*autocorrelations[1,1:approximation_stops[1]].sum())\n"
   ]
  },
  {
   "cell_type": "code",
   "execution_count": null,
   "id": "8bfba2c5",
   "metadata": {},
   "outputs": [],
   "source": [
    "autocorrelations[:,:10]"
   ]
  },
  {
   "cell_type": "code",
   "execution_count": null,
   "id": "dcd7a1be",
   "metadata": {},
   "outputs": [],
   "source": [
    "m = 1000\n",
    "K = 30\n",
    "autocorrelations = np.ones((2,int(m/2)))\n",
    "for c in range(C):\n",
    "    for t_plus_k in range(1, int(m/2)):\n",
    "        autocorrelations[c,t_plus_k] = \\\n",
    "        np.corrcoef(tau[c,:-t_plus_k], \n",
    "                    tau[c,t_plus_k:])[0,1]\n",
    "\n",
    "for c in range(C):\n",
    "    plt.plot(autocorrelations[c,:K], label=\"Chain \"+str(c)) \n",
    "\n",
    "# effective sample size\n",
    "approximation_stops=[5,7]\n",
    "approximation_stops,\n",
    "m / (1 + 2*autocorrelations[0,1:approximation_stops[0]].sum())+\\\n",
    "m / (1 + 2*autocorrelations[1,1:approximation_stops[1]].sum())\n"
   ]
  },
  {
   "cell_type": "code",
   "execution_count": null,
   "id": "960f2b49",
   "metadata": {},
   "outputs": [],
   "source": [
    "autocorrelations[:,:10]"
   ]
  },
  {
   "cell_type": "code",
   "execution_count": null,
   "id": "e6808dba",
   "metadata": {},
   "outputs": [],
   "source": [
    "az.summary(idata, round_to=5)"
   ]
  },
  {
   "cell_type": "code",
   "execution_count": null,
   "id": "8bd50ce7",
   "metadata": {},
   "outputs": [],
   "source": [
    "fig,ax = plt.subplots(1,2,figsize=(10,4))\n",
    "ax[0].plot(theta.ravel()[:-1], theta.ravel()[1:], '.', alpha=0.25)\n",
    "ax[1].plot(tau.ravel()[:-1], tau.ravel()[1:], '.', alpha=0.25);"
   ]
  },
  {
   "cell_type": "markdown",
   "id": "aff2f9ad",
   "metadata": {},
   "source": [
    "## Part C: R-hat and \"energy\"\n",
    "\n",
    "A lack of insufficient \"mixing\" (agreement) between chains is diagnosed by comparing within and between chain variability. This is done by **checking if the split-$\\hat R$ statistic is greater than** $\\mathbf{1.05}$. is deemed sufficient when . This is suggestive (but not proof) that the the **Markov chains** have converged to their **stationary distributions**.\n",
    "\n",
    "> Thus far above we have avoided the notion of \"split\" chains. Split chains must be considered to ensure that a \"drifting chain\" does not accidentally pass the $\\hat R$ check. Thus the split-$\\hat R$ statistic.\n",
    "\n",
    "\n",
    "$\\Large \\text{Split-}\\hat R  = \\sqrt{\\frac{\\frac{N-1}{N}W +  \\overbrace{\\frac{1}{M-1}\\sum_{m=1}^M (\\overline{\\theta^{(m,\\cdot)}} - \\overline{\\theta^{(\\cdot,\\cdot)}})^2}^{\\text{between chain variance}} }{\\underbrace{\\frac{1}{M}\\sum_{m=1}^M \\frac{1}{N-1}\\sum_{n=1}^N (\\theta^{(m,n)} - \\overline{\\theta^{(m,\\cdot)}})^2}_{\\text{$W$: within chain variance}}} } $ "
   ]
  },
  {
   "cell_type": "code",
   "execution_count": null,
   "id": "727c8884",
   "metadata": {},
   "outputs": [],
   "source": [
    "az.summary(idata, round_to=5)"
   ]
  },
  {
   "cell_type": "code",
   "execution_count": null,
   "id": "12c1a5c7",
   "metadata": {},
   "outputs": [],
   "source": [
    "az.plot_trace(idata)\n",
    "plt.tight_layout()"
   ]
  },
  {
   "cell_type": "markdown",
   "id": "253a2716",
   "metadata": {},
   "source": [
    "### Energy\n",
    "\n",
    "Another diagnostic that sometimes applies is based on the so-called [energy](https://discourse.mc-stan.org/t/help-understanding-bfmi-interpreting-bfmi-1/28554). The exact meaning of \"energy\" will be discussed next class but for now suffice it to say that when the \"Energy transition\" fails to dominate the \"Marginal energy\" the sampler is experiencing a computational bottleneck.\n"
   ]
  },
  {
   "cell_type": "code",
   "execution_count": null,
   "id": "89548968",
   "metadata": {},
   "outputs": [],
   "source": [
    "az.plot_energy(idata);"
   ]
  },
  {
   "cell_type": "markdown",
   "id": "6abb985d",
   "metadata": {},
   "source": [
    "## Part D: Samplers\n"
   ]
  },
  {
   "cell_type": "code",
   "execution_count": null,
   "id": "b98a0d24",
   "metadata": {},
   "outputs": [],
   "source": [
    "pymc.sample?"
   ]
  },
  {
   "cell_type": "code",
   "execution_count": null,
   "id": "f98d072b",
   "metadata": {},
   "outputs": [],
   "source": [
    "with conjugate_normal_gamma:\n",
    "    HMC = pymc.HamiltonianMC()\n",
    "    idata_HMC = pymc.sample(chains=4, step=HMC)\n",
    "    \n",
    "display(az.summary(idata_HMC, round_to=2))\n",
    "az.plot_trace(idata_HMC)\n",
    "plt.tight_layout()    "
   ]
  },
  {
   "cell_type": "code",
   "execution_count": null,
   "id": "d3222eaf",
   "metadata": {},
   "outputs": [],
   "source": [
    "# theta rejection rates\n",
    "(idata_HMC.posterior.theta.values[:,:-1]==idata_HMC.posterior.theta.values[:,1:]).mean(axis=1)"
   ]
  },
  {
   "cell_type": "code",
   "execution_count": null,
   "id": "161b821c",
   "metadata": {},
   "outputs": [],
   "source": [
    "# tau rejection rates\n",
    "(idata_HMC.posterior.tau.values[:,:-1]==idata_HMC.posterior.tau.values[:,1:]).mean(axis=1)"
   ]
  },
  {
   "cell_type": "code",
   "execution_count": null,
   "id": "5920ddd2",
   "metadata": {},
   "outputs": [],
   "source": [
    "fig,ax = plt.subplots(1,2,figsize=(10,4))\n",
    "ax[0].plot(idata_HMC.posterior.theta.values.ravel()[:-1], \n",
    "           idata_HMC.posterior.theta.values.ravel()[1:], '.', alpha=0.25)\n",
    "ax[1].plot(idata_HMC.posterior.tau.values.ravel()[:-1], \n",
    "           idata_HMC.posterior.tau.values.ravel()[1:], '.', alpha=0.25);"
   ]
  },
  {
   "cell_type": "code",
   "execution_count": null,
   "id": "a87933d6",
   "metadata": {},
   "outputs": [],
   "source": [
    "with conjugate_normal_gamma:\n",
    "    idata = pymc.sample(chains=4, target_accept=0.9)\n",
    "    \n",
    "display(az.summary(idata, round_to=2))\n",
    "az.plot_trace(idata)\n",
    "plt.tight_layout()    "
   ]
  },
  {
   "cell_type": "code",
   "execution_count": null,
   "id": "17b6cf85",
   "metadata": {},
   "outputs": [],
   "source": [
    "import pandas as pd\n",
    "display(pd.DataFrame(idata.sample_stats.acceptance_rate))\n",
    "# rejection rates\n",
    "1-idata.sample_stats.acceptance_rate.values.mean(axis=1)"
   ]
  },
  {
   "cell_type": "code",
   "execution_count": null,
   "id": "6d430875",
   "metadata": {},
   "outputs": [],
   "source": [
    "fig,ax = plt.subplots(1,2,figsize=(10,4))\n",
    "ax[0].plot(idata.posterior.theta.values.ravel()[:-1], \n",
    "           idata.posterior.theta.values.ravel()[1:], '.', alpha=0.25)\n",
    "ax[1].plot(idata.posterior.tau.values.ravel()[:-1], \n",
    "           idata.posterior.tau.values.ravel()[1:], '.', alpha=0.25);"
   ]
  },
  {
   "cell_type": "code",
   "execution_count": null,
   "id": "0f8db5c6",
   "metadata": {},
   "outputs": [],
   "source": [
    "with conjugate_normal_gamma:\n",
    "    sampler = pymc.Slice()\n",
    "    idata_slice = pymc.sample(step=sampler)\n",
    "\n",
    "display(az.summary(idata_slice, round_to=2))\n",
    "az.plot_trace(idata_slice)\n",
    "plt.tight_layout()    "
   ]
  },
  {
   "cell_type": "code",
   "execution_count": null,
   "id": "7ddd6094",
   "metadata": {},
   "outputs": [],
   "source": [
    "# theta rejection rates\n",
    "(idata_slice.posterior.theta.values[:,:-1]==idata_slice.posterior.theta.values[:,1:]).mean(axis=1)"
   ]
  },
  {
   "cell_type": "code",
   "execution_count": null,
   "id": "b2b64e52",
   "metadata": {},
   "outputs": [],
   "source": [
    "# tau rejection rates\n",
    "(idata_slice.posterior.tau.values[:,:-1]==idata_slice.posterior.tau.values[:,1:]).mean(axis=1)"
   ]
  },
  {
   "cell_type": "code",
   "execution_count": null,
   "id": "fe14d3ce",
   "metadata": {},
   "outputs": [],
   "source": [
    "fig,ax = plt.subplots(1,2,figsize=(10,4))\n",
    "ax[0].plot(idata_slice.posterior.theta.values.ravel()[:-1], \n",
    "           idata_slice.posterior.theta.values.ravel()[1:], '.', alpha=0.25)\n",
    "ax[1].plot(idata_slice.posterior.tau.values.ravel()[:-1], \n",
    "           idata_slice.posterior.tau.values.ravel()[1:], '.', alpha=0.25);"
   ]
  },
  {
   "cell_type": "code",
   "execution_count": null,
   "id": "182a1539",
   "metadata": {},
   "outputs": [],
   "source": [
    "with conjugate_normal_gamma:\n",
    "    MHv1 = pymc.Metropolis(S=np.ones(1), scaling=1, tune=False)\n",
    "    idata_MHv1 = pymc.sample(draws=1000, tune=0, chains=4, step=MHv1)\n",
    "\n",
    "display(az.summary(idata_MHv1, round_to=2))\n",
    "az.plot_trace(idata_MHv1)\n",
    "plt.tight_layout()    "
   ]
  },
  {
   "cell_type": "code",
   "execution_count": null,
   "id": "cbcb246a",
   "metadata": {},
   "outputs": [],
   "source": [
    "# theta rejection rates\n",
    "(idata_MHv1.posterior.theta.values[:,:-1]==idata_MHv1.posterior.theta.values[:,1:]).mean(axis=1)"
   ]
  },
  {
   "cell_type": "code",
   "execution_count": null,
   "id": "3aa353f3",
   "metadata": {},
   "outputs": [],
   "source": [
    "# tau rejection rates\n",
    "(idata_MHv1.posterior.tau.values[:,:-1]==idata_MHv1.posterior.tau.values[:,1:]).mean(axis=1)"
   ]
  },
  {
   "cell_type": "code",
   "execution_count": null,
   "id": "cc37e2eb",
   "metadata": {},
   "outputs": [],
   "source": [
    "fig,ax = plt.subplots(1,2,figsize=(10,4))\n",
    "ax[0].plot(idata_MHv1.posterior.theta.values.ravel()[:-1], \n",
    "           idata_MHv1.posterior.theta.values.ravel()[1:], '.', alpha=0.25)\n",
    "ax[1].plot(idata_MHv1.posterior.tau.values.ravel()[:-1], \n",
    "           idata_MHv1.posterior.tau.values.ravel()[1:], '.', alpha=0.25);"
   ]
  },
  {
   "cell_type": "code",
   "execution_count": null,
   "id": "d3a89e75",
   "metadata": {},
   "outputs": [],
   "source": [
    "with conjugate_normal_gamma:\n",
    "    MHv2 = pymc.Metropolis(S=np.ones(1), scaling=0.1, tune=False)\n",
    "    idata_MHv2 = pymc.sample(draws=1000, tune=0, chains=4, step=MHv2)\n",
    "\n",
    "display(az.summary(idata_MHv2, round_to=2))\n",
    "az.plot_trace(idata_MHv2)\n",
    "plt.tight_layout()    "
   ]
  },
  {
   "cell_type": "code",
   "execution_count": null,
   "id": "626112f1",
   "metadata": {},
   "outputs": [],
   "source": [
    "# theta rejection rates\n",
    "(idata_MHv2.posterior.theta.values[:,:-1]==idata_MHv2.posterior.theta.values[:,1:]).mean(axis=1)"
   ]
  },
  {
   "cell_type": "code",
   "execution_count": null,
   "id": "176fe6f0",
   "metadata": {},
   "outputs": [],
   "source": [
    "# tau rejection rates\n",
    "(idata_MHv2.posterior.tau.values[:,:-1]==idata_MHv2.posterior.tau.values[:,1:]).mean(axis=1)"
   ]
  },
  {
   "cell_type": "code",
   "execution_count": null,
   "id": "f3ab5895",
   "metadata": {},
   "outputs": [],
   "source": [
    "fig,ax = plt.subplots(1,2,figsize=(10,4))\n",
    "ax[0].plot(idata_MHv2.posterior.theta.values.ravel()[:-1], \n",
    "           idata_MHv2.posterior.theta.values.ravel()[1:], '.', alpha=0.25)\n",
    "ax[1].plot(idata_MHv2.posterior.tau.values.ravel()[:-1], \n",
    "           idata_MHv2.posterior.tau.values.ravel()[1:], '.', alpha=0.25);"
   ]
  },
  {
   "cell_type": "markdown",
   "id": "afaf412f",
   "metadata": {},
   "source": [
    "## Week 5 Homework\n",
    "\n",
    "---\n",
    "\n",
    "### Q1: Questions about PyMC...\n",
    "\n",
    "Complete this formatted markdown listing of the contents of \"PyMC Example Gallery\". *Include links and your favorite image (right click and \"copy image address\") from each page.*\n",
    "\n",
    "\n",
    "#### Introductory\n",
    "\n",
    "- [General Overview](https://www.pymc.io/projects/docs/en/stable/learn/core_notebooks/pymc_overview.html)\n",
    "- [Simple Linear Regression](https://www.pymc.io/projects/docs/en/stable/learn/core_notebooks/GLM_linear.html)\n",
    "- [General API quickstart](https://www.pymc.io/projects/examples/en/latest/introductory/api_quickstart.html)\n",
    "\n",
    "| | | |\n",
    "|-|-|-|\n",
    "|![](https://www.pymc.io/projects/docs/en/stable/_images/ac30f30b2297ec4f2bb798b4f28d2cbba2d0502dbaae4a5f78fdd5cccacda517.svg)|<img src=\"https://www.pymc.io/projects/docs/en/stable/_images/a8276d1222c43c061dbfff6fa3ff3af15b86038fd7d1e204c429ae3714ea1a20.png\"  width=\"500\"/>|![](https://www.pymc.io/projects/examples/en/latest/_images/434538d8660bf2399ebf9df11cbd2b7cec62d8abafc588da625315074b628118.png)|\n",
    "\n",
    "#### Library Fundamentals\n",
    "\n",
    "- Distribution Dimensionality\n",
    "- PyMC and PyTensor\n",
    "- Using Data Containers\n",
    "\n",
    "| | | |\n",
    "|-|-|-|\n",
    "|1|2|3|\n",
    "\n",
    "\n",
    "#### Etc.\n",
    "\n",
    "- 1.\n",
    "- 2.\n",
    "- 3.\n",
    "- 4.\n",
    "- 5.\n",
    "- 6.\n",
    "- 7.\n",
    "- 8.\n",
    "- 9.\n",
    "- 10.\n",
    "- 11.\n",
    "- 12.\n",
    "- 13.\n",
    "\n",
    "\n",
    "| | | | |\n",
    "|-|-|-|-|\n",
    "|1|2|3|4|\n",
    "|5|6|7|8|\n",
    "|9|10|11|12|\n",
    "\n",
    "Etc.\n",
    "\n",
    "\n",
    "### Q2: Continue \"Q2\" of the previous weeks 3 and 4\n",
    "\n",
    "1. *Use PyMC to provide Bayesian inference for the paramaters associated with a sample of normal data where your prior for theta is a normal distribution and your prior for $\\tau$ is a gamma distribution. Provide diagnostic assessments of the performance of your algorithm.*\n",
    "\n",
    "2. *Use PyMC to provide Bayesian inference for the paramaters associated with a sample of normal data where your prior for theta is a non normal distribution and your prior for $\\tau$ is a non-gamma distribution. Provide diagnostic assessments of the performance of your algorithm.*\n",
    "\n",
    "3. *Use PyMC to provide Bayesian inference for the paramaters associated with a sample of normal data where your prior for theta is a yet another different again non normal distribution and your prior for $\\tau$ is a yet another different again non-gamma distribution. Provide diagnostic assessments of the performance of your algorithm.*\n",
    "\n",
    "### Q3: Slice Sampling\n",
    "\n",
    "*First explain how the Markov algorithm of slice sampling as given below works. Then explain the steps by which slice sampling could be used in place of a Metropolis-Hasting step in a Metropolis within Gibbs algorithm where the full conditionals are only known up to a normalizing constant. In your explanation clarify what the curve that we're sampling beneath is, and what the initial value and steps are to create the draw for Gibbs sampling.*"
   ]
  },
  {
   "cell_type": "code",
   "execution_count": null,
   "id": "fd17e501",
   "metadata": {},
   "outputs": [],
   "source": [
    "def slice_f_at_y(f, x, y, x_grid=np.linspace(0,1,51)):\n",
    "    \n",
    "    # find interval of grid points where f(x_grid) > y \n",
    "    # then extend the enterval so endpoints f(a)<y and f(b)<y \n",
    "    x_grid_delta = x_grid[1]-x_grid[0]\n",
    "    a,b = x_grid[f(x_grid)>y][[0,-1]]+[-x_grid_delta,x_grid_delta]\n",
    "    # a,b = x_grid[0,-1]  # make the interval all of x_grid\n",
    "    \n",
    "    x_ = a + stats.uniform().rvs()*(b-a)    \n",
    "    if f(x_)>y:\n",
    "        return x_,1  # in 1 try if f(x_)>y and \"x_ is under f\" \n",
    "    elif x_ < x:  # or if \"x_ was above f on the left side of the interval\" \n",
    "        x_l,x_r = x_,b\n",
    "    else:\n",
    "        x_l,x_r = a,x_  # or if \"x_ was above f on the right side of the interval\"\n",
    "    return slice_f_at_y_(f, x, y, x_l, x_r, tot = 2)  # try again with a reduced interval\n",
    "\n",
    "def slice_f_at_y_(f, x, y, x_l=0, x_r=1, tot=1):\n",
    "    \n",
    "    x_ = x_l + stats.uniform().rvs()*(x_r-x_l)\n",
    "    \n",
    "    if f(x_)>y:\n",
    "        return x_,tot\n",
    "    elif x_ < x:\n",
    "        x_l = x_\n",
    "    else:\n",
    "        x_r = x_\n",
    "    return slice_f_at_y_(f, x, y, x_l, x_r, tot = tot+1)\n"
   ]
  },
  {
   "cell_type": "code",
   "execution_count": null,
   "id": "3d820203",
   "metadata": {},
   "outputs": [],
   "source": [
    "x_grid = np.linspace(0,1,1000)\n",
    "f = lambda x: stats.beta(1.5,3).pdf(x)\n",
    "plt.plot(x_grid, f(x_grid))\n",
    "    \n",
    "m = 1000\n",
    "x = np.zeros([m+1,3])\n",
    "x[:2,0] = 0.25\n",
    "\n",
    "plot_trace = 10\n",
    "for t in range(1,m):\n",
    "    \n",
    "    x[t,1] = stats.uniform().rvs()*f(x[t,0])\n",
    "    if t < plot_trace:\n",
    "        plt.plot([x[t,0]]*2, [x[t-1,1],x[t,1]], 'k')\n",
    "    \n",
    "    x[t+1,0],x[t+1,2] = slice_f_at_y(f, x[t,0], x[t,1])\n",
    "    if t < plot_trace:\n",
    "        if t==1:\n",
    "            plt.plot([x[t,0], x[t+1,0]], [x[t,1]]*2, 'k--', label=str(plot_trace)+ \" iterations\")\n",
    "        plt.plot([x[t,0], x[t+1,0]], [x[t,1]]*2, 'k--')\n",
    "    \n",
    "plt.hist(x[:,0], density=True, label=str(m)+\" iterations\\n x values only\")\n",
    "plt.legend();"
   ]
  },
  {
   "cell_type": "code",
   "execution_count": null,
   "id": "1f057239",
   "metadata": {},
   "outputs": [],
   "source": []
  }
 ],
 "metadata": {
  "kernelspec": {
   "display_name": "personal",
   "language": "python",
   "name": "python3"
  },
  "language_info": {
   "codemirror_mode": {
    "name": "ipython",
    "version": 3
   },
   "file_extension": ".py",
   "mimetype": "text/x-python",
   "name": "python",
   "nbconvert_exporter": "python",
   "pygments_lexer": "ipython3",
   "version": "3.12.4"
  }
 },
 "nbformat": 4,
 "nbformat_minor": 5
}
